{
 "metadata": {
  "language_info": {
   "codemirror_mode": {
    "name": "ipython",
    "version": 3
   },
   "file_extension": ".py",
   "mimetype": "text/x-python",
   "name": "python",
   "nbconvert_exporter": "python",
   "pygments_lexer": "ipython3",
   "version": "3.8.5-final"
  },
  "orig_nbformat": 2,
  "kernelspec": {
   "name": "python3",
   "display_name": "python3"
  }
 },
 "nbformat": 4,
 "nbformat_minor": 2,
 "cells": [
  {
   "cell_type": "code",
   "execution_count": 895,
   "metadata": {},
   "outputs": [
    {
     "output_type": "stream",
     "name": "stdout",
     "text": [
      "The autoreload extension is already loaded. To reload it, use:\n  %reload_ext autoreload\n"
     ]
    }
   ],
   "source": [
    "import numpy as np\n",
    "from ANNModel import model as mod\n",
    "from ANNModel import data as d\n",
    "from PSO import pswarm as ps\n",
    "from PSO import psobehaviour as psh\n",
    "from sklearn.model_selection import train_test_split\n",
    "\n",
    "%load_ext autoreload\n",
    "%autoreload 2\n",
    "\n",
    "data = d.Data(\"./Data/1in_tanh.txt\")\n",
    "X = data.get_rows()\n",
    "y = data.get_output()\n",
    "\n",
    "\n",
    "X_train, X_test, y_train, y_test = train_test_split(X, y, test_size=0.33, random_state=14)"
   ]
  },
  {
   "cell_type": "code",
   "execution_count": 896,
   "metadata": {},
   "outputs": [
    {
     "output_type": "stream",
     "name": "stdout",
     "text": [
      "Model Compiled!\n"
     ]
    }
   ],
   "source": [
    "#train the model\n",
    "model = mod.ANN()\n",
    "model.set_training_input(X_train, y_train)\n",
    "model.add(mod.Layer(4, activation=\"sigmoid\"))\n",
    "model.add(mod.Layer(1, activation=\"null\"))\n",
    "model.compile()\n",
    "\n",
    "model_history = mod.ANNhistory(model)"
   ]
  },
  {
   "cell_type": "code",
   "execution_count": 897,
   "metadata": {},
   "outputs": [
    {
     "output_type": "execute_result",
     "data": {
      "text/plain": [
       "[(0.0, 5.0),\n",
       " (-1.0, 1.0),\n",
       " (-1.0, 1.0),\n",
       " (-1.0, 1.0),\n",
       " (-1.0, 1.0),\n",
       " (-1.0, 1.0),\n",
       " (-1.0, 1.0),\n",
       " (-1.0, 1.0),\n",
       " (-1.0, 1.0),\n",
       " (0.0, 5.0),\n",
       " (-1.0, 1.0),\n",
       " (-1.0, 1.0),\n",
       " (-1.0, 1.0),\n",
       " (-1.0, 1.0),\n",
       " (-1.0, 1.0)]"
      ]
     },
     "metadata": {},
     "execution_count": 897
    }
   ],
   "source": [
    "model.dimension_vec()"
   ]
  },
  {
   "cell_type": "code",
   "execution_count": null,
   "metadata": {},
   "outputs": [],
   "source": []
  },
  {
   "cell_type": "code",
   "execution_count": 898,
   "metadata": {
    "tags": []
   },
   "outputs": [
    {
     "output_type": "display_data",
     "data": {
      "text/plain": "HBox(children=(HTML(value='Fitness: -9999.0'), FloatProgress(value=0.0), HTML(value='')))",
      "application/vnd.jupyter.widget-view+json": {
       "version_major": 2,
       "version_minor": 0,
       "model_id": "b4c45d20b79948b7a24f7b8bb3f69c9f"
      }
     },
     "metadata": {}
    },
    {
     "output_type": "stream",
     "name": "stdout",
     "text": [
      "\n[ 3.88731548  0.08783219 -0.55747126  0.9908425  -0.96565065  0.10648879\n  0.33646417 -0.25375511 -0.81776308  2.02848897 -0.23881058  0.01216352\n -0.42755448 -0.71462912  0.96825774]\n84.15843581694607\n"
     ]
    }
   ],
   "source": [
    "pso = ps.PSO(swarm_size=100, num_informants=6, boundary_policy=psh.BoundaryPolicy.RANDOMREINIT, termination_policy=[psh.TerminationPolicy.ITERATIONS], termination_args={'max_iter': 400}, alpha=0.61, beta=1.3, gamma=1.4, delta=1.3, epsilon=0.6)\n",
    "\n",
    "pso.set_search_dimensions(model.dimension_vec())\n",
    "pso.set_fitness_fn(model_history.assess_fitness)\n",
    "fitness = pso.run()\n",
    "print(fitness.location)\n",
    "print(fitness.fitness)"
   ]
  },
  {
   "cell_type": "code",
   "execution_count": 899,
   "metadata": {},
   "outputs": [],
   "source": [
    "pso_best = pso.best.location\n",
    "model.decode_vec(pso_best)"
   ]
  },
  {
   "cell_type": "code",
   "execution_count": 900,
   "metadata": {},
   "outputs": [],
   "source": [
    "#model.layers[-1].bias = np.array([0.0])\n",
    "#model.layers[-1].weights = np.array([[1.0]])\n"
   ]
  },
  {
   "cell_type": "code",
   "execution_count": 901,
   "metadata": {},
   "outputs": [],
   "source": [
    "#run model\n",
    "model.set_training_input(X_test, y_test)\n",
    "model.one_pass()\n"
   ]
  },
  {
   "cell_type": "code",
   "execution_count": 902,
   "metadata": {},
   "outputs": [
    {
     "output_type": "execute_result",
     "data": {
      "text/plain": [
       "array([-0.97487126, -0.83537973, -0.90338913, -0.66997952,  0.287857  ,\n",
       "        0.99314203,  0.99999894, -0.81120844,  1.        ,  0.94611252,\n",
       "       -0.9979237 ,  1.        , -0.98734035,  0.99849867,  1.        ,\n",
       "        0.98917566, -0.04759824, -0.99587997, -0.95451935, -0.99671494,\n",
       "       -0.91510586,  0.92356393, -0.85625037, -0.98412498, -0.25172841,\n",
       "        1.        , -0.99632034,  0.99914354,  0.17551892, -0.75078394,\n",
       "       -0.97762001,  1.        ,  0.59262043,  0.06273789])"
      ]
     },
     "metadata": {},
     "execution_count": 902
    }
   ],
   "source": [
    "model.y_hat"
   ]
  },
  {
   "cell_type": "code",
   "execution_count": 903,
   "metadata": {},
   "outputs": [
    {
     "output_type": "stream",
     "name": "stdout",
     "text": [
      "[-0.9999 -0.9757 -0.9951 -0.8337  0.7616  0.9993  1.     -0.964   1.\n  0.9951 -1.      1.     -1.      0.9998  1.      0.999   0.3799 -1.\n -0.9996 -1.     -0.9967  0.9926 -0.9837 -1.      0.      1.     -1.\n  0.9999  0.664  -0.9217 -1.      1.      0.9217  0.537 ]\n[-0.9749 -0.8354 -0.9034 -0.67    0.2879  0.9931  1.     -0.8112  1.\n  0.9461 -0.9979  1.     -0.9873  0.9985  1.      0.9892 -0.0476 -0.9959\n -0.9545 -0.9967 -0.9151  0.9236 -0.8563 -0.9841 -0.2517  1.     -0.9963\n  0.9991  0.1755 -0.7508 -0.9776  1.      0.5926  0.0627]\nA,B:  6  out of  34\nB,A:  6  out of  34\n"
     ]
    }
   ],
   "source": [
    "#score function\n",
    "correctly_classified = 0\n",
    "\n",
    "\n",
    "#get predictions\n",
    "predictions = np.round(model.y_hat, 4)\n",
    "print(model.y)\n",
    "print(predictions)\n",
    "\n",
    "#loop through predictions\n",
    "for index, pred in enumerate(predictions):\n",
    "\n",
    "    if np.isclose(y_test[index], pred):\n",
    "        correctly_classified += 1\n",
    "\n",
    "print('A,B: ', correctly_classified , \" out of \", len(y_test))\n",
    "correctly_classified = 0\n",
    "#loop through predictions\n",
    "for index, pred in enumerate(predictions):\n",
    "    if np.isclose(pred, y_test[index]):\n",
    "        correctly_classified += 1\n",
    "\n",
    "print('B,A: ',correctly_classified , \" out of \", len(y_test))"
   ]
  },
  {
   "cell_type": "code",
   "execution_count": 904,
   "metadata": {},
   "outputs": [
    {
     "output_type": "stream",
     "name": "stdout",
     "text": [
      "activation:  ActivationFunction.HYPERBOLIC_TANGENT\nbias:  [-0.23881058]\nweights:  [[ 0.01216352]\n [-0.42755448]\n [-0.71462912]\n [ 0.96825774]]\n"
     ]
    }
   ],
   "source": [
    "print('activation: ', model.layers[-1].activation)\n",
    "print('bias: ', model.layers[-1].bias)\n",
    "print('weights: ', model.layers[-1].weights)"
   ]
  },
  {
   "cell_type": "code",
   "execution_count": 905,
   "metadata": {
    "tags": []
   },
   "outputs": [],
   "source": [
    "model_history.historical_particle_fitness()\n",
    "model_history.historical_particle_location()"
   ]
  },
  {
   "cell_type": "code",
   "execution_count": 906,
   "metadata": {},
   "outputs": [
    {
     "output_type": "execute_result",
     "data": {
      "text/plain": [
       "4020"
      ]
     },
     "metadata": {},
     "execution_count": 906
    }
   ],
   "source": [
    "len(model_history.vec_history[::10])"
   ]
  },
  {
   "cell_type": "code",
   "execution_count": 907,
   "metadata": {},
   "outputs": [
    {
     "output_type": "execute_result",
     "data": {
      "text/plain": [
       "402"
      ]
     },
     "metadata": {},
     "execution_count": 907
    }
   ],
   "source": [
    "len(model_history.particle_location[0][::10])"
   ]
  },
  {
   "cell_type": "code",
   "execution_count": null,
   "metadata": {},
   "outputs": [],
   "source": []
  }
 ]
}