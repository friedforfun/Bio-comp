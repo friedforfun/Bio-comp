{
 "metadata": {
  "language_info": {
   "codemirror_mode": {
    "name": "ipython",
    "version": 3
   },
   "file_extension": ".py",
   "mimetype": "text/x-python",
   "name": "python",
   "nbconvert_exporter": "python",
   "pygments_lexer": "ipython3",
   "version": "3.8.5-final"
  },
  "orig_nbformat": 2,
  "kernelspec": {
   "name": "python3",
   "display_name": "Python 3"
  }
 },
 "nbformat": 4,
 "nbformat_minor": 2,
 "cells": [
  {
   "cell_type": "code",
   "execution_count": 93,
   "metadata": {},
   "outputs": [],
   "source": [
    "import numpy as np\n",
    "from ANNModel import model as mod\n",
    "from ANNModel import data as d\n",
    "from PSO import pswarm as ps\n",
    "from PSO import psobehaviour as psh\n",
    "from sklearn.model_selection import train_test_split\n",
    "\n",
    "%load_ext autoreload\n",
    "%autoreload 2\n",
    "\n",
    "data = d.Data(\"./Data/1in_linear.txt\")\n",
    "X = data.get_rows()\n",
    "y = data.get_output()\n",
    "\n",
    "\n",
    "X_train, X_test, y_train, y_test = train_test_split(X, y, test_size=0.33, random_state=14)"
   ]
  },
  {
   "cell_type": "code",
   "execution_count": 95,
   "metadata": {},
   "outputs": [
    {
     "output_type": "stream",
     "name": "stdout",
     "text": [
      "Model Compiled!\n",
      "<bound method ANN.assess_fitness of <ANNModel.model.ANN object at 0x000002674A1B1B50>>\n",
      "Iteration:  302\n",
      "Fitness:  2.8569479267939073\n"
     ]
    }
   ],
   "source": [
    "#train the model\n",
    "model = mod.ANN()\n",
    "model.set_training_input(X_train, y_train)\n",
    "model.add(mod.Layer(8, activation=\"relu\"))\n",
    "model.add(mod.Layer(1, activation=\"sigmoid\"))\n",
    "model.compile()\n",
    "\n",
    "pso = ps.PSO(swarm_size=90, num_informants=6, boundary_policy=psh.BoundaryPolicy.RANDOMREINIT, termination_policy=[psh.TerminationPolicy.ITERATIONS], termination_args={'max_iter': 300})\n",
    "\n",
    "pso.set_search_dimensions(model.dimension_vec())\n",
    "pso.set_fitness_fn(model.assess_fitness)\n",
    "pso.run()"
   ]
  },
  {
   "cell_type": "code",
   "execution_count": 96,
   "metadata": {},
   "outputs": [],
   "source": [
    "pso_best = pso.best.location\n",
    "model.decode_vec(pso_best)"
   ]
  },
  {
   "cell_type": "code",
   "execution_count": 97,
   "metadata": {},
   "outputs": [
    {
     "output_type": "stream",
     "name": "stdout",
     "text": [
      "0  out of  33\n"
     ]
    }
   ],
   "source": [
    "#score function\n",
    "correctly_classified = 0\n",
    "\n",
    "#run model\n",
    "model.set_training_input(X_test, y_test)\n",
    "model.one_pass()\n",
    "\n",
    "#get predictions\n",
    "predictions = model.y_hat\n",
    "\n",
    "predictions\n",
    "\n",
    "#loop through predictions\n",
    "for index, pred in enumerate(predictions):\n",
    "    if np.isclose(pred, y_test[index]):\n",
    "        correctly_classified += 1\n",
    "\n",
    "print(correctly_classified , \" out of \", len(y_test))"
   ]
  },
  {
   "cell_type": "code",
   "execution_count": 98,
   "metadata": {},
   "outputs": [
    {
     "output_type": "stream",
     "name": "stdout",
     "text": [
      "[-0.52 -0.22 -0.3  -0.12  0.1   0.4   0.64 -0.2   0.82  0.3  -0.96  0.8\n -0.64  0.46  0.94  0.38  0.04 -0.84 -0.42 -0.88 -0.32  0.28 -0.24 -0.6\n  0.    0.98 -0.86  0.48  0.08 -0.16 -0.54  0.58  0.16]\n"
     ]
    },
    {
     "output_type": "execute_result",
     "data": {
      "text/plain": [
       "array([[0.37241414],\n",
       "       [0.36470783],\n",
       "       [0.36558789],\n",
       "       [0.36481561],\n",
       "       [0.36976634],\n",
       "       [0.3867924 ],\n",
       "       [0.40860608],\n",
       "       [0.36462199],\n",
       "       [0.42945059],\n",
       "       [0.37982321],\n",
       "       [0.40490839],\n",
       "       [0.42695354],\n",
       "       [0.37882892],\n",
       "       [0.39158123],\n",
       "       [0.44534266],\n",
       "       [0.38529676],\n",
       "       [0.36777597],\n",
       "       [0.39363351],\n",
       "       [0.36851367],\n",
       "       [0.39719648],\n",
       "       [0.36594192],\n",
       "       [0.37858308],\n",
       "       [0.36484737],\n",
       "       [0.37648212],\n",
       "       [0.36671509],\n",
       "       [0.45097651],\n",
       "       [0.39539035],\n",
       "       [0.39327736],\n",
       "       [0.3690498 ],\n",
       "       [0.3646114 ],\n",
       "       [0.37335255],\n",
       "       [0.40249541],\n",
       "       [0.37223322]])"
      ]
     },
     "metadata": {},
     "execution_count": 98
    }
   ],
   "source": [
    "print(y_test)\n",
    "\n",
    "predictions"
   ]
  },
  {
   "cell_type": "code",
   "execution_count": null,
   "metadata": {},
   "outputs": [],
   "source": []
  }
 ]
}