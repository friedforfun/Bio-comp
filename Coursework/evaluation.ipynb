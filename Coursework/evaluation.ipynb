{
 "metadata": {
  "language_info": {
   "codemirror_mode": {
    "name": "ipython",
    "version": 3
   },
   "file_extension": ".py",
   "mimetype": "text/x-python",
   "name": "python",
   "nbconvert_exporter": "python",
   "pygments_lexer": "ipython3",
   "version": "3.8.5-final"
  },
  "orig_nbformat": 2,
  "kernelspec": {
   "name": "python3",
   "display_name": "Python 3"
  }
 },
 "nbformat": 4,
 "nbformat_minor": 2,
 "cells": [
  {
   "cell_type": "code",
   "execution_count": 93,
   "metadata": {},
   "outputs": [],
   "source": [
    "import numpy as np\n",
    "from ANNModel import model as mod\n",
    "from ANNModel import data as d\n",
    "from PSO import pswarm as ps\n",
    "from PSO import psobehaviour as psh\n",
    "from sklearn.model_selection import train_test_split\n",
    "\n",
    "data = d.Data(\"./Data/1in_linear.txt\")\n",
    "X = data.get_rows()\n",
    "y = data.get_output()\n",
    "\n",
    "\n",
    "X_train, X_test, y_train, y_test = train_test_split(X, y, test_size=0.33, random_state=14)"
   ]
  },
  {
   "cell_type": "code",
   "execution_count": 89,
   "metadata": {},
   "outputs": [
    {
     "output_type": "stream",
     "name": "stdout",
     "text": [
      "Model Compiled!\n",
      "<bound method ANN.assess_fitness of <ANNModel.model.ANN object at 0x000002674A1FFD00>>\n",
      "Iteration:  302\n",
      "Fitness:  4.007963520723484\n"
     ]
    }
   ],
   "source": [
    "#train the model\n",
    "model = mod.ANN()\n",
    "model.set_training_input(X_train, y_train)\n",
    "model.add(mod.Layer(8, activation=\"relu\"))\n",
    "model.add(mod.Layer(1, activation=\"sigmoid\"))\n",
    "model.compile()\n",
    "\n",
    "pso = ps.PSO(swarm_size=100, num_informants=4, boundary_policy=psh.BoundaryPolicy.RANDOMREINIT, termination_policy=[psh.TerminationPolicy.ITERATIONS], termination_args={'max_iter': 300})\n",
    "\n",
    "pso.set_search_dimensions(model.dimension_vec())\n",
    "pso.set_fitness_fn(model.assess_fitness)\n",
    "pso.run()"
   ]
  },
  {
   "cell_type": "code",
   "execution_count": 90,
   "metadata": {},
   "outputs": [],
   "source": [
    "pso_best = pso.best.location\n",
    "model.decode_vec(pso_best)"
   ]
  },
  {
   "cell_type": "code",
   "execution_count": 91,
   "metadata": {},
   "outputs": [
    {
     "output_type": "stream",
     "name": "stdout",
     "text": [
      "0  out of  33\n"
     ]
    }
   ],
   "source": [
    "#score function\n",
    "correctly_classified = 0\n",
    "\n",
    "#run model\n",
    "model.set_training_input(X_test, y_test)\n",
    "model.one_pass()\n",
    "\n",
    "#get predictions\n",
    "predictions = model.y_hat\n",
    "\n",
    "predictions\n",
    "\n",
    "#loop through predictions\n",
    "for index, pred in enumerate(predictions):\n",
    "    if np.isclose(pred, y_test[index]):\n",
    "        correctly_classified += 1\n",
    "\n",
    "print(correctly_classified , \" out of \", len(y_test))"
   ]
  },
  {
   "cell_type": "code",
   "execution_count": 92,
   "metadata": {},
   "outputs": [
    {
     "output_type": "stream",
     "name": "stdout",
     "text": [
      "[0. 0. 0. 0. 0. 1. 1. 0. 0. 1. 1. 1. 1. 1. 1. 1. 0. 0. 1. 1. 1. 0. 1. 0.\n 1. 0. 0. 1. 1. 1. 0. 0. 1.]\n"
     ]
    },
    {
     "output_type": "execute_result",
     "data": {
      "text/plain": [
       "array([[0.47717509],\n",
       "       [0.47916071],\n",
       "       [0.47916071],\n",
       "       [0.47717509],\n",
       "       [0.47916071],\n",
       "       [0.48446767],\n",
       "       [0.48446767],\n",
       "       [0.47717509],\n",
       "       [0.47916071],\n",
       "       [0.47803671],\n",
       "       [0.48446767],\n",
       "       [0.48446767],\n",
       "       [0.48446767],\n",
       "       [0.47803671],\n",
       "       [0.47803671],\n",
       "       [0.47803671],\n",
       "       [0.47717509],\n",
       "       [0.47717509],\n",
       "       [0.47803671],\n",
       "       [0.48446767],\n",
       "       [0.48446767],\n",
       "       [0.47717509],\n",
       "       [0.48446767],\n",
       "       [0.47717509],\n",
       "       [0.48446767],\n",
       "       [0.47916071],\n",
       "       [0.47916071],\n",
       "       [0.48446767],\n",
       "       [0.48446767],\n",
       "       [0.48446767],\n",
       "       [0.47916071],\n",
       "       [0.47916071],\n",
       "       [0.48446767]])"
      ]
     },
     "metadata": {},
     "execution_count": 92
    }
   ],
   "source": [
    "print(y_test)\n",
    "\n",
    "predictions"
   ]
  },
  {
   "cell_type": "code",
   "execution_count": null,
   "metadata": {},
   "outputs": [],
   "source": []
  }
 ]
}