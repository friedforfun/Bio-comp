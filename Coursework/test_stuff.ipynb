{
 "cells": [
  {
   "cell_type": "code",
   "execution_count": 3,
   "metadata": {
    "tags": []
   },
   "outputs": [
    {
     "output_type": "stream",
     "name": "stdout",
     "text": "The autoreload extension is already loaded. To reload it, use:\n  %reload_ext autoreload\n"
    }
   ],
   "source": [
    "%load_ext autoreload\n",
    "%autoreload 2\n",
    "\n",
    "# from __future__ import absolute_import"
   ]
  },
  {
   "cell_type": "code",
   "execution_count": 4,
   "metadata": {
    "tags": []
   },
   "outputs": [
    {
     "output_type": "error",
     "ename": "ModuleNotFoundError",
     "evalue": "No module named &#39;annimpl&#39;",
     "traceback": [
      "\u001b[1;31m---------------------------------------------------------------------------\u001b[0m",
      "\u001b[1;31mModuleNotFoundError\u001b[0m                       Traceback (most recent call last)",
      "\u001b[1;32m&lt;ipython-input-4-58cfc7b8c69b&gt;\u001b[0m in \u001b[0;36m&lt;module&gt;\u001b[1;34m\u001b[0m\n\u001b[1;32m----&gt; 1\u001b[1;33m \u001b[1;32mimport\u001b[0m \u001b[0mannimpl\u001b[0m\u001b[1;33m\u001b[0m\u001b[1;33m\u001b[0m\u001b[0m\n\u001b[0m\u001b[0;32m      2\u001b[0m \u001b[1;33m\u001b[0m\u001b[0m\n\u001b[0;32m      3\u001b[0m \u001b[0minput_mat\u001b[0m \u001b[1;33m=\u001b[0m \u001b[0mannimpl\u001b[0m\u001b[1;33m.\u001b[0m\u001b[0m__weight_matrix__\u001b[0m\u001b[1;33m(\u001b[0m\u001b[1;36m3\u001b[0m\u001b[1;33m,\u001b[0m\u001b[1;36m2\u001b[0m\u001b[1;33m)\u001b[0m\u001b[1;33m\u001b[0m\u001b[1;33m\u001b[0m\u001b[0m\n\u001b[0;32m      4\u001b[0m \u001b[0mresult_mat\u001b[0m \u001b[1;33m=\u001b[0m \u001b[0mannimpl\u001b[0m\u001b[1;33m.\u001b[0m\u001b[0m__weight_matrix__\u001b[0m\u001b[1;33m(\u001b[0m\u001b[1;36m3\u001b[0m\u001b[1;33m,\u001b[0m \u001b[1;36m1\u001b[0m\u001b[1;33m)\u001b[0m\u001b[1;33m\u001b[0m\u001b[1;33m\u001b[0m\u001b[0m\n\u001b[0;32m      5\u001b[0m \u001b[0mtest\u001b[0m \u001b[1;33m=\u001b[0m \u001b[0mannimpl\u001b[0m\u001b[1;33m.\u001b[0m\u001b[0mANN\u001b[0m\u001b[1;33m(\u001b[0m\u001b[0minput_mat\u001b[0m\u001b[1;33m,\u001b[0m \u001b[0mresult_mat\u001b[0m\u001b[1;33m)\u001b[0m\u001b[1;33m\u001b[0m\u001b[1;33m\u001b[0m\u001b[0m\n",
      "\u001b[1;31mModuleNotFoundError\u001b[0m: No module named &#39;annimpl&#39;"
     ]
    }
   ],
   "source": [
    "import annimpl\n",
    "\n",
    "input_mat = annimpl.__weight_matrix__(3,2)\n",
    "result_mat = annimpl.__weight_matrix__(3, 1)\n",
    "test = annimpl.ANN(input_mat, result_mat)"
   ]
  },
  {
   "cell_type": "code",
   "execution_count": 46,
   "metadata": {
    "tags": []
   },
   "outputs": [
    {
     "output_type": "execute_result",
     "data": {
      "text/plain": "[array([[-0.53893006,  0.31499126,  0.29835752],\n        [ 0.52507228,  0.30916491,  0.56457995],\n        [ 0.95173196, -0.01397374,  0.18711675]]),\n array([[ 0.6218189 , -0.12655394],\n        [ 0.44076904,  0.74621795],\n        [-0.19094251, -0.16289672]])]"
     },
     "metadata": {},
     "execution_count": 46
    }
   ],
   "source": [
    "\n",
    "test.generate_weights()\n",
    "test.weights"
   ]
  },
  {
   "cell_type": "code",
   "execution_count": null,
   "metadata": {},
   "outputs": [],
   "source": []
  }
 ],
 "metadata": {
  "kernelspec": {
   "display_name": "Python 3",
   "language": "python",
   "name": "python3"
  },
  "language_info": {
   "codemirror_mode": {
    "name": "ipython",
    "version": 3
   },
   "file_extension": ".py",
   "mimetype": "text/x-python",
   "name": "python",
   "nbconvert_exporter": "python",
   "pygments_lexer": "ipython3",
   "version": "3.8.5-final"
  }
 },
 "nbformat": 4,
 "nbformat_minor": 4
}