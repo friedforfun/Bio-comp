{
 "cells": [
  {
   "cell_type": "code",
   "execution_count": 1,
   "metadata": {
    "tags": []
   },
   "outputs": [],
   "source": [
    "import model as mod\n",
    "%load_ext autoreload\n",
    "%autoreload 2\n"
   ]
  },
  {
   "cell_type": "code",
   "execution_count": 37,
   "metadata": {},
   "outputs": [],
   "source": [
    "input_mat = mod.__weight_matrix__(100000,2)\n",
    "result_mat = mod.__weight_matrix__(100000, 1)"
   ]
  },
  {
   "cell_type": "code",
   "execution_count": 38,
   "metadata": {
    "tags": []
   },
   "outputs": [
    {
     "output_type": "stream",
     "name": "stdout",
     "text": "Model Compiled!\n"
    }
   ],
   "source": [
    "model = mod.ANN()\n",
    "model.set_input(input_mat, result_mat)\n",
    "model.add(mod.Layer(512, activation=\"sigmoid\"))\n",
    "model.add(mod.Layer(512, activation=\"sigmoid\"))\n",
    "model.add(mod.Layer(512, activation=\"sigmoid\"))\n",
    "model.add(mod.Layer(512, activation=\"sigmoid\"))\n",
    "model.add(mod.Layer(512, activation=\"sigmoid\"))\n",
    "model.add(mod.Layer(512, activation=\"sigmoid\"))\n",
    "model.add(mod.Layer(512, activation=\"sigmoid\"))\n",
    "model.add(mod.Layer(512, activation=\"sigmoid\"))\n",
    "model.add(mod.Layer(512, activation=\"sigmoid\"))\n",
    "model.add(mod.Layer(512, activation=\"sigmoid\"))\n",
    "model.add(mod.Layer(512, activation=\"sigmoid\"))\n",
    "model.add(mod.Layer(512, activation=\"sigmoid\"))\n",
    "model.add(mod.Layer(512, activation=\"sigmoid\"))\n",
    "model.add(mod.Layer(512, activation=\"sigmoid\"))\n",
    "model.add(mod.Layer(512, activation=\"sigmoid\"))\n",
    "model.add(mod.Layer(512, activation=\"sigmoid\"))\n",
    "model.add(mod.Layer(512, activation=\"sigmoid\"))\n",
    "model.add(mod.Layer(512, activation=\"sigmoid\"))\n",
    "model.add(mod.Layer(512, activation=\"sigmoid\"))\n",
    "model.add(mod.Layer(512, activation=\"sigmoid\"))\n",
    "model.add(mod.Layer(512, activation=\"sigmoid\"))\n",
    "model.add(mod.Layer(512, activation=\"sigmoid\"))\n",
    "model.add(mod.Layer(512, activation=\"sigmoid\"))\n",
    "model.add(mod.Layer(512, activation=\"sigmoid\"))\n",
    "model.add(mod.Layer(512, activation=\"sigmoid\"))\n",
    "model.add(mod.Layer(512, activation=\"sigmoid\"))\n",
    "model.add(mod.Layer(512, activation=\"sigmoid\"))\n",
    "model.add(mod.Layer(512, activation=\"sigmoid\"))\n",
    "model.add(mod.Layer(512, activation=\"sigmoid\"))\n",
    "model.add(mod.Layer(512, activation=\"sigmoid\"))\n",
    "model.add(mod.Layer(512, activation=\"sigmoid\"))\n",
    "model.add(mod.Layer(512, activation=\"sigmoid\"))\n",
    "model.add(mod.Layer(512, activation=\"sigmoid\"))\n",
    "model.add(mod.Layer(512, activation=\"sigmoid\"))\n",
    "model.add(mod.Layer(512, activation=\"sigmoid\"))\n",
    "model.add(mod.Layer(512, activation=\"sigmoid\"))\n",
    "model.add(mod.Layer(1, activation=\"sigmoid\"))\n",
    "#print(len(model.layers))\n",
    "model.compile()\n",
    "\n",
    "# model.epoch(input_mat)\n",
    "#model.weights[0].shape[1]\n",
    "#model.bias[0].shape[0] == "
   ]
  },
  {
   "cell_type": "code",
   "execution_count": 39,
   "metadata": {},
   "outputs": [
    {
     "output_type": "execute_result",
     "data": {
      "text/plain": "array([[0.01871245],\n       [0.01041449],\n       [0.02910432],\n       ...,\n       [0.07712665],\n       [0.05239077],\n       [0.00270107]])"
     },
     "metadata": {},
     "execution_count": 39
    }
   ],
   "source": [
    "model.one_pass()\n",
    "\n",
    "model.layers[-1].output"
   ]
  },
  {
   "cell_type": "code",
   "execution_count": 7,
   "metadata": {},
   "outputs": [
    {
     "output_type": "stream",
     "name": "stdout",
     "text": [
      "a [-0.2079169  -0.46756626  0.26532028 -0.42937715  0.63713061]\nb [-0.83907075 -0.05055559  0.24130667  0.65674205  0.1340894 ]\n"
     ]
    }
   ],
   "source": [
    "import numpy as np\n",
    "\n",
    "vec_a = 2*np.random.rand(5)-1\n",
    "vec_b = 2*np.random.rand(5)-1\n",
    "print(\"a\", vec_a)\n",
    "print(\"b\", vec_b)"
   ]
  },
  {
   "cell_type": "code",
   "execution_count": 10,
   "metadata": {},
   "outputs": [
    {
     "output_type": "execute_result",
     "data": {
      "text/plain": [
       "5"
      ]
     },
     "metadata": {},
     "execution_count": 10
    }
   ],
   "source": [
    "out = vec_a + vec_b\n",
    "out.shape[0]"
   ]
  },
  {
   "cell_type": "code",
   "execution_count": 11,
   "metadata": {},
   "outputs": [
    {
     "output_type": "execute_result",
     "data": {
      "text/plain": [
       "array([[0.5, 0.5, 0.5],\n",
       "       [0.5, 0.5, 0.5]])"
      ]
     },
     "metadata": {},
     "execution_count": 11
    }
   ],
   "source": [
    "mat = np.array([[0.5, 0.5, 0.5], [0.5,0.5, 0.5]])\n",
    "vec = np.array([1.0, 2.0, 3.0])\n",
    "mat"
   ]
  },
  {
   "cell_type": "code",
   "execution_count": 12,
   "metadata": {},
   "outputs": [
    {
     "output_type": "execute_result",
     "data": {
      "text/plain": [
       "array([[1.5, 2.5, 3.5],\n",
       "       [1.5, 2.5, 3.5]])"
      ]
     },
     "metadata": {},
     "execution_count": 12
    }
   ],
   "source": [
    "mat + vec"
   ]
  },
  {
   "cell_type": "code",
   "execution_count": null,
   "metadata": {},
   "outputs": [],
   "source": []
  }
 ],
 "metadata": {
  "kernelspec": {
   "display_name": "Python 3",
   "language": "python",
   "name": "python3"
  },
  "language_info": {
   "codemirror_mode": {
    "name": "ipython",
    "version": 3
   },
   "file_extension": ".py",
   "mimetype": "text/x-python",
   "name": "python",
   "nbconvert_exporter": "python",
   "pygments_lexer": "ipython3",
   "version": "3.8.5-final"
  }
 },
 "nbformat": 4,
 "nbformat_minor": 4
}