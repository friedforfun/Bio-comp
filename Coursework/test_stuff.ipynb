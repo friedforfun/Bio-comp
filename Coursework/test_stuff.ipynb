{
 "cells": [
  {
   "cell_type": "code",
   "execution_count": 2,
   "metadata": {
    "tags": []
   },
   "outputs": [],
   "source": [
    "from SamModel import model as mod\n",
    "from pswarm import PSO\n",
    "%load_ext autoreload\n",
    "%autoreload 2\n",
    "\n"
   ]
  },
  {
   "cell_type": "code",
   "execution_count": 3,
   "metadata": {},
   "outputs": [],
   "source": [
    "input_mat = mod.weight_matrix(10000,2)\n",
    "result_mat = mod.weight_matrix(10000, 1)"
   ]
  },
  {
   "cell_type": "code",
   "execution_count": 4,
   "metadata": {
    "tags": []
   },
   "outputs": [
    {
     "output_type": "stream",
     "name": "stdout",
     "text": [
      "Model Compiled!\n"
     ]
    }
   ],
   "source": [
    "model = mod.ANN()\n",
    "model.set_input(input_mat, result_mat)\n",
    "model.add(mod.Layer(512, activation=\"relu\"))\n",
    "model.add(mod.Layer(512, activation=\"relu\"))\n",
    "model.add(mod.Layer(512, activation=\"relu\"))\n",
    "model.add(mod.Layer(512, activation=\"relu\"))\n",
    "model.add(mod.Layer(512, activation=\"relu\"))\n",
    "model.add(mod.Layer(512, activation=\"relu\"))\n",
    "model.add(mod.Layer(512, activation=\"relu\"))\n",
    "model.add(mod.Layer(512, activation=\"relu\"))\n",
    "model.add(mod.Layer(512, activation=\"relu\"))\n",
    "model.add(mod.Layer(512, activation=\"relu\"))\n",
    "model.add(mod.Layer(512, activation=\"relu\"))\n",
    "model.add(mod.Layer(512, activation=\"relu\"))\n",
    "model.add(mod.Layer(512, activation=\"relu\"))\n",
    "model.add(mod.Layer(512, activation=\"relu\"))\n",
    "model.add(mod.Layer(512, activation=\"relu\"))\n",
    "model.add(mod.Layer(512, activation=\"relu\"))\n",
    "model.add(mod.Layer(512, activation=\"relu\"))\n",
    "model.add(mod.Layer(512, activation=\"relu\"))\n",
    "model.add(mod.Layer(512, activation=\"relu\"))\n",
    "model.add(mod.Layer(512, activation=\"relu\"))\n",
    "model.add(mod.Layer(512, activation=\"relu\"))\n",
    "model.add(mod.Layer(512, activation=\"relu\"))\n",
    "model.add(mod.Layer(512, activation=\"relu\"))\n",
    "model.add(mod.Layer(512, activation=\"relu\"))\n",
    "model.add(mod.Layer(512, activation=\"relu\"))\n",
    "model.add(mod.Layer(512, activation=\"relu\"))\n",
    "model.add(mod.Layer(512, activation=\"relu\"))\n",
    "model.add(mod.Layer(512, activation=\"relu\"))\n",
    "model.add(mod.Layer(512, activation=\"relu\"))\n",
    "model.add(mod.Layer(512, activation=\"relu\"))\n",
    "model.add(mod.Layer(512, activation=\"relu\"))\n",
    "model.add(mod.Layer(512, activation=\"relu\"))\n",
    "model.add(mod.Layer(512, activation=\"relu\"))\n",
    "model.add(mod.Layer(512, activation=\"relu\"))\n",
    "model.add(mod.Layer(512, activation=\"sigmoid\"))\n",
    "model.add(mod.Layer(512, activation=\"sigmoid\"))\n",
    "model.add(mod.Layer(1, activation=\"sigmoid\"))\n",
    "#print(len(model.layers))\n",
    "model.compile()\n",
    "\n",
    "# model.epoch(input_mat)\n",
    "#model.weights[0].shape[1]\n",
    "#model.bias[0].shape[0] == "
   ]
  },
  {
   "cell_type": "code",
   "execution_count": 6,
   "metadata": {},
   "outputs": [
    {
     "output_type": "execute_result",
     "data": {
      "text/plain": [
       "numpy.ndarray"
      ]
     },
     "metadata": {},
     "execution_count": 6
    }
   ],
   "source": [
    "import numpy as np\n",
    "type(np.array([(0,1)]))"
   ]
  },
  {
   "cell_type": "code",
   "execution_count": 13,
   "metadata": {},
   "outputs": [
    {
     "output_type": "execute_result",
     "data": {
      "text/plain": [
       "2"
      ]
     },
     "metadata": {},
     "execution_count": 13
    }
   ],
   "source": [
    "class Test:\n",
    "    def __init__(self, p):\n",
    "        self.a = 0\n",
    "        self.b = 'asd'\n",
    "        self.p = p\n",
    "\n",
    "test = np.array([Test('2'), Test(2), Test(2)])\n",
    "test[1].p"
   ]
  },
  {
   "cell_type": "code",
   "execution_count": 5,
   "metadata": {},
   "outputs": [
    {
     "output_type": "stream",
     "name": "stdout",
     "text": [
      "True\n"
     ]
    }
   ],
   "source": [
    "import enum\n",
    "TerminationPolicy = enum.Enum('TerminationPolicy', 'ITERATIONS DURATION CONVERGENCE')\n",
    "\n",
    "test = [TerminationPolicy.ITERATIONS]\n",
    "\n",
    "if TerminationPolicy.ITERATIONS in test:\n",
    "    print(True)"
   ]
  },
  {
   "cell_type": "code",
   "execution_count": 4,
   "metadata": {},
   "outputs": [
    {
     "output_type": "error",
     "ename": "NameError",
     "evalue": "name 'model' is not defined",
     "traceback": [
      "\u001b[1;31m---------------------------------------------------------------------------\u001b[0m",
      "\u001b[1;31mNameError\u001b[0m                                 Traceback (most recent call last)",
      "\u001b[1;32m<ipython-input-4-c201e185842d>\u001b[0m in \u001b[0;36m<module>\u001b[1;34m\u001b[0m\n\u001b[1;32m----> 1\u001b[1;33m \u001b[0mmodel\u001b[0m\u001b[1;33m.\u001b[0m\u001b[0mone_pass\u001b[0m\u001b[1;33m(\u001b[0m\u001b[1;33m)\u001b[0m\u001b[1;33m\u001b[0m\u001b[1;33m\u001b[0m\u001b[0m\n\u001b[0m\u001b[0;32m      2\u001b[0m \u001b[1;33m\u001b[0m\u001b[0m\n\u001b[0;32m      3\u001b[0m \u001b[0myhat\u001b[0m \u001b[1;33m=\u001b[0m \u001b[0mmodel\u001b[0m\u001b[1;33m.\u001b[0m\u001b[0mlayers\u001b[0m\u001b[1;33m[\u001b[0m\u001b[1;33m-\u001b[0m\u001b[1;36m1\u001b[0m\u001b[1;33m]\u001b[0m\u001b[1;33m.\u001b[0m\u001b[0moutput\u001b[0m\u001b[1;33m\u001b[0m\u001b[1;33m\u001b[0m\u001b[0m\n",
      "\u001b[1;31mNameError\u001b[0m: name 'model' is not defined"
     ]
    }
   ],
   "source": [
    "model.one_pass()\n",
    "\n",
    "yhat = model.layers[-1].output"
   ]
  },
  {
   "cell_type": "code",
   "execution_count": 6,
   "metadata": {},
   "outputs": [
    {
     "output_type": "stream",
     "name": "stdout",
     "text": [
      "1.3019591390901992\n1.3019591390901992\n"
     ]
    }
   ],
   "source": [
    "\n",
    "import numpy as np\n",
    "print(np.mean((result_mat - yhat)**2))\n",
    "\n",
    "print(mod.apply_loss(result_mat, yhat))"
   ]
  },
  {
   "cell_type": "code",
   "execution_count": 18,
   "metadata": {},
   "outputs": [
    {
     "output_type": "execute_result",
     "data": {
      "text/plain": [
       "array([0.99999999, 0.99999999, 0.99999999, ..., 1.        , 1.        ,\n",
       "       1.        ])"
      ]
     },
     "metadata": {},
     "execution_count": 18
    }
   ],
   "source": [
    "np.unique(model.y_hat)"
   ]
  },
  {
   "cell_type": "code",
   "execution_count": 23,
   "metadata": {},
   "outputs": [
    {
     "output_type": "stream",
     "name": "stdout",
     "text": [
      "a [-0.15993532  0.70374582 -0.89854746 -0.11118929 -0.13303417]\nb [ 0.9496636  -0.58536648 -0.91996408 -0.74872937 -0.91167048]\n"
     ]
    }
   ],
   "source": [
    "\n",
    "vec_a = 2*np.random.rand(5)-1\n",
    "vec_b = 2*np.random.rand(5)-1\n",
    "print(\"a\", vec_a)\n",
    "print(\"b\", vec_b)"
   ]
  },
  {
   "cell_type": "code",
   "execution_count": 24,
   "metadata": {},
   "outputs": [
    {
     "output_type": "execute_result",
     "data": {
      "text/plain": [
       "5"
      ]
     },
     "metadata": {},
     "execution_count": 24
    }
   ],
   "source": [
    "out = vec_a + vec_b\n",
    "out.shape[0]"
   ]
  },
  {
   "cell_type": "code",
   "execution_count": 25,
   "metadata": {},
   "outputs": [
    {
     "output_type": "execute_result",
     "data": {
      "text/plain": [
       "array([[0.5, 0.5, 0.5],\n",
       "       [0.5, 0.5, 0.5]])"
      ]
     },
     "metadata": {},
     "execution_count": 25
    }
   ],
   "source": [
    "mat = np.array([[0.5, 0.5, 0.5], [0.5,0.5, 0.5]])\n",
    "vec = np.array([1.0, 2.0, 3.0])\n",
    "mat"
   ]
  },
  {
   "cell_type": "code",
   "execution_count": 26,
   "metadata": {},
   "outputs": [
    {
     "output_type": "execute_result",
     "data": {
      "text/plain": [
       "array([[1.5, 2.5, 3.5],\n",
       "       [1.5, 2.5, 3.5]])"
      ]
     },
     "metadata": {},
     "execution_count": 26
    }
   ],
   "source": [
    "mat + vec"
   ]
  },
  {
   "cell_type": "code",
   "execution_count": null,
   "metadata": {},
   "outputs": [],
   "source": []
  }
 ],
 "metadata": {
  "kernelspec": {
   "display_name": "Python 3",
   "language": "python",
   "name": "python3"
  },
  "language_info": {
   "codemirror_mode": {
    "name": "ipython",
    "version": 3
   },
   "file_extension": ".py",
   "mimetype": "text/x-python",
   "name": "python",
   "nbconvert_exporter": "python",
   "pygments_lexer": "ipython3",
   "version": "3.8.3-final"
  }
 },
 "nbformat": 4,
 "nbformat_minor": 4
}