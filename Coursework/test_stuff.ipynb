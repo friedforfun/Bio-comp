{
 "cells": [
  {
   "cell_type": "code",
   "execution_count": 34,
   "metadata": {
    "tags": []
   },
   "outputs": [
    {
     "output_type": "stream",
     "name": "stdout",
     "text": [
      "The autoreload extension is already loaded. To reload it, use:\n  %reload_ext autoreload\n"
     ]
    }
   ],
   "source": [
    "from ANNModel import model as mod\n",
    "from PSO import pswarm as ps\n",
    "from PSO import psobehaviour as psh\n",
    "%load_ext autoreload\n",
    "%autoreload 2\n",
    "\n",
    "import numpy as np\n",
    "\n"
   ]
  },
  {
   "cell_type": "code",
   "execution_count": 35,
   "metadata": {},
   "outputs": [],
   "source": [
    "input_mat = mod.weight_matrix(5000,2)\n",
    "result_mat = mod.weight_matrix(5000, 1)"
   ]
  },
  {
   "cell_type": "code",
   "execution_count": 36,
   "metadata": {
    "tags": []
   },
   "outputs": [
    {
     "output_type": "stream",
     "name": "stdout",
     "text": [
      "Model Compiled!\n"
     ]
    }
   ],
   "source": [
    "model = mod.ANN()\n",
    "model.set_training_input(input_mat, result_mat)\n",
    "model.add(mod.Layer(2, activation=\"sigmoid\"))\n",
    "model.add(mod.Layer(1, activation=\"sigmoid\"))\n",
    "#print(len(model.layers))\n",
    "model.compile()\n",
    "\n",
    "# model.epoch(input_mat)\n",
    "#model.weights[0].shape[1]\n",
    "#model.bias[0].shape[0] == "
   ]
  },
  {
   "cell_type": "code",
   "execution_count": 37,
   "metadata": {},
   "outputs": [
    {
     "output_type": "stream",
     "name": "stderr",
     "text": [
      "Running model...:   0%|          | 0/1 [00:00<?, ?it/s]"
     ]
    }
   ],
   "source": [
    "model.one_pass()"
   ]
  },
  {
   "cell_type": "code",
   "execution_count": 38,
   "metadata": {},
   "outputs": [],
   "source": [
    "random_model = model.vectorize()"
   ]
  },
  {
   "cell_type": "code",
   "execution_count": 39,
   "metadata": {},
   "outputs": [],
   "source": [
    "pso = ps.PSO(max_iter=25)"
   ]
  },
  {
   "cell_type": "code",
   "execution_count": 40,
   "metadata": {},
   "outputs": [],
   "source": [
    "pso.set_search_dimensions(model.dimension_vec())"
   ]
  },
  {
   "cell_type": "code",
   "execution_count": 29,
   "metadata": {
    "tags": []
   },
   "outputs": [
    {
     "output_type": "stream",
     "name": "stderr",
     "text": [
      "del...: 100%|██████████| 1/1 [00:00<00:00, 998.64it/s]\n",
      "Running model...: 100%|██████████| 1/1 [00:00<?, ?it/s]\n",
      "Running model...: 100%|██████████| 1/1 [00:00<?, ?it/s]\n",
      "Running model...: 100%|██████████| 1/1 [00:00<?, ?it/s]\n",
      "Running model...: 100%|██████████| 1/1 [00:00<?, ?it/s]\n",
      "Running model...: 100%|██████████| 1/1 [00:00<?, ?it/s]\n",
      "Running model...: 100%|██████████| 1/1 [00:00<?, ?it/s]\n",
      "Running model...: 100%|██████████| 1/1 [00:00<?, ?it/s]\n",
      "Running model...: 100%|██████████| 1/1 [00:00<00:00, 1001.98it/s]\n",
      "Running model...: 100%|██████████| 1/1 [00:00<00:00, 999.83it/s]\n",
      "Running model...: 100%|██████████| 1/1 [00:00<?, ?it/s]\n",
      "Running model...: 100%|██████████| 1/1 [00:00<00:00, 1001.03it/s]\n",
      "Running model...: 100%|██████████| 1/1 [00:00<00:00, 1000.55it/s]\n",
      "Running model...: 100%|██████████| 1/1 [00:00<?, ?it/s]\n",
      "Running model...: 100%|██████████| 1/1 [00:00<00:00, 999.83it/s]\n",
      "Running model...: 100%|██████████| 1/1 [00:00<00:00, 1000.55it/s]\n",
      "Running model...: 100%|██████████| 1/1 [00:00<00:00, 999.83it/s]\n",
      "Running model...: 100%|██████████| 1/1 [00:00<00:00, 1000.07it/s]\n",
      "Running model...: 100%|██████████| 1/1 [00:00<?, ?it/s]\n",
      "Running model...: 100%|██████████| 1/1 [00:00<?, ?it/s]\n",
      "Running model...: 100%|██████████| 1/1 [00:00<?, ?it/s]\n",
      "Running model...: 100%|██████████| 1/1 [00:00<00:00, 998.17it/s]\n",
      "Running model...: 100%|██████████| 1/1 [00:00<?, ?it/s]\n",
      "Running model...: 100%|██████████| 1/1 [00:00<00:00, 999.36it/s]\n",
      "Running model...: 100%|██████████| 1/1 [00:00<00:00, 1000.31it/s]\n",
      "Running model...: 100%|██████████| 1/1 [00:00<?, ?it/s]\n",
      "Running model...: 100%|██████████| 1/1 [00:00<?, ?it/s]\n",
      "Running model...: 100%|██████████| 1/1 [00:00<00:00, 997.93it/s]\n",
      "Running model...: 100%|██████████| 1/1 [00:00<00:00, 999.12it/s]\n",
      "Running model...: 100%|██████████| 1/1 [00:00<?, ?it/s]\n",
      "Running model...: 100%|██████████| 1/1 [00:00<?, ?it/s]\n",
      "Running model...: 100%|██████████| 1/1 [00:00<00:00, 1000.07it/s]\n",
      "Running model...: 100%|██████████| 1/1 [00:00<?, ?it/s]\n",
      "Running model...: 100%|██████████| 1/1 [00:00<?, ?it/s]\n",
      "Running model...: 100%|██████████| 1/1 [00:00<00:00, 998.41it/s]\n",
      "Running model...: 100%|██████████| 1/1 [00:00<00:00, 998.41it/s]\n",
      "Running model...: 100%|██████████| 1/1 [00:00<00:00, 999.36it/s]\n",
      "Running model...: 100%|██████████| 1/1 [00:00<00:00, 999.36it/s]\n",
      "Running model...: 100%|██████████| 1/1 [00:00<?, ?it/s]\n",
      "Running model...: 100%|██████████| 1/1 [00:00<?, ?it/s]\n",
      "Running model...: 100%|██████████| 1/1 [00:00<00:00, 1000.31it/s]\n",
      "Running model...: 100%|██████████| 1/1 [00:00<?, ?it/s]\n",
      "Running model...: 100%|██████████| 1/1 [00:00<00:00, 1000.55it/s]\n",
      "Running model...: 100%|██████████| 1/1 [00:00<?, ?it/s]\n",
      "Running model...: 100%|██████████| 1/1 [00:00<?, ?it/s]\n",
      "Running model...: 100%|██████████| 1/1 [00:00<?, ?it/s]\n",
      "Running model...: 100%|██████████| 1/1 [00:00<?, ?it/s]\n",
      "Running model...: 100%|██████████| 1/1 [00:00<00:00, 999.36it/s]\n",
      "Running model...: 100%|██████████| 1/1 [00:00<00:00, 1001.03it/s]\n",
      "Running model...: 100%|██████████| 1/1 [00:00<00:00, 1000.07it/s]\n",
      "Running model...: 100%|██████████| 1/1 [00:00<00:00, 1000.79it/s]\n",
      "Running model...: 100%|██████████| 1/1 [00:00<00:00, 999.83it/s]\n",
      "Running model...: 100%|██████████| 1/1 [00:00<00:00, 1000.31it/s]\n",
      "Running model...: 100%|██████████| 1/1 [00:00<00:00, 1000.55it/s]\n",
      "Running model...: 100%|██████████| 1/1 [00:00<00:00, 1000.55it/s]\n",
      "Running model...: 100%|██████████| 1/1 [00:00<?, ?it/s]\n",
      "Running model...: 100%|██████████| 1/1 [00:00<00:00, 1001.74it/s]\n",
      "Running model...: 100%|██████████| 1/1 [00:00<00:00, 997.93it/s]\n",
      "Running model...: 100%|██████████| 1/1 [00:00<00:00, 1000.07it/s]\n",
      "Running model...: 100%|██████████| 1/1 [00:00<00:00, 999.83it/s]\n",
      "Running model...: 100%|██████████| 1/1 [00:00<?, ?it/s]\n",
      "Running model...: 100%|██████████| 1/1 [00:00<?, ?it/s]\n",
      "Running model...: 100%|██████████| 1/1 [00:00<?, ?it/s]\n",
      "Running model...: 100%|██████████| 1/1 [00:00<?, ?it/s]\n",
      "Running model...: 100%|██████████| 1/1 [00:00<?, ?it/s]\n",
      "Running model...: 100%|██████████| 1/1 [00:00<00:00, 999.36it/s]\n",
      "Running model...: 100%|██████████| 1/1 [00:00<?, ?it/s]\n",
      "Running model...: 100%|██████████| 1/1 [00:00<00:00, 999.36it/s]\n",
      "Running model...: 100%|██████████| 1/1 [00:00<00:00, 1000.31it/s]\n",
      "Running model...: 100%|██████████| 1/1 [00:00<?, ?it/s]\n",
      "Running model...: 100%|██████████| 1/1 [00:00<00:00, 999.36it/s]\n",
      "Running model...: 100%|██████████| 1/1 [00:00<?, ?it/s]\n",
      "Running model...: 100%|██████████| 1/1 [00:00<?, ?it/s]\n",
      "Running model...: 100%|██████████| 1/1 [00:00<?, ?it/s]\n",
      "Running model...: 100%|██████████| 1/1 [00:00<?, ?it/s]\n",
      "Running model...: 100%|██████████| 1/1 [00:00<00:00, 1001.03it/s]\n",
      "Running model...: 100%|██████████| 1/1 [00:00<00:00, 998.64it/s]\n",
      "Running model...: 100%|██████████| 1/1 [00:00<00:00, 999.12it/s]\n",
      "Running model...: 100%|██████████| 1/1 [00:00<?, ?it/s]\n",
      "Running model...: 100%|██████████| 1/1 [00:00<?, ?it/s]\n",
      "Running model...: 100%|██████████| 1/1 [00:00<?, ?it/s]\n",
      "Running model...: 100%|██████████| 1/1 [00:00<?, ?it/s]\n",
      "Running model...: 100%|██████████| 1/1 [00:00<?, ?it/s]\n",
      "Running model...: 100%|██████████| 1/1 [00:00<00:00, 999.83it/s]\n",
      "Running model...: 100%|██████████| 1/1 [00:00<00:00, 998.64it/s]\n",
      "Running model...: 100%|██████████| 1/1 [00:00<?, ?it/s]\n",
      "Running model...: 100%|██████████| 1/1 [00:00<00:00, 999.83it/s]\n",
      "Running model...: 100%|██████████| 1/1 [00:00<00:00, 999.36it/s]\n",
      "Running model...: 100%|██████████| 1/1 [00:00<00:00, 999.36it/s]\n",
      "Running model...: 100%|██████████| 1/1 [00:00<00:00, 1000.07it/s]\n",
      "Running model...: 100%|██████████| 1/1 [00:00<00:00, 999.36it/s]\n",
      "Running model...: 100%|██████████| 1/1 [00:00<00:00, 999.36it/s]\n",
      "Running model...: 100%|██████████| 1/1 [00:00<?, ?it/s]\n",
      "Running model...: 100%|██████████| 1/1 [00:00<00:00, 1000.07it/s]\n",
      "Running model...: 100%|██████████| 1/1 [00:00<00:00, 999.12it/s]\n",
      "Running model...: 100%|██████████| 1/1 [00:00<?, ?it/s]\n",
      "Running model...: 100%|██████████| 1/1 [00:00<00:00, 1000.07it/s]\n",
      "Running model...: 100%|██████████| 1/1 [00:00<?, ?it/s]\n",
      "Running model...: 100%|██████████| 1/1 [00:00<00:00, 999.83it/s]\n",
      "Running model...: 100%|██████████| 1/1 [00:00<00:00, 1001.51it/s]\n",
      "Running model...: 100%|██████████| 1/1 [00:00<?, ?it/s]\n",
      "Running model...: 100%|██████████| 1/1 [00:00<?, ?it/s]\n",
      "Running model...: 100%|██████████| 1/1 [00:00<00:00, 1000.79it/s]\n",
      "Running model...: 100%|██████████| 1/1 [00:00<?, ?it/s]\n",
      "Running model...: 100%|██████████| 1/1 [00:00<?, ?it/s]\n",
      "Running model...: 100%|██████████| 1/1 [00:00<00:00, 1000.31it/s]\n",
      "Running model...: 100%|██████████| 1/1 [00:00<00:00, 1000.31it/s]\n",
      "Running model...: 100%|██████████| 1/1 [00:00<00:00, 1001.03it/s]\n",
      "Running model...: 100%|██████████| 1/1 [00:00<00:00, 997.22it/s]\n",
      "Running model...: 100%|██████████| 1/1 [00:00<?, ?it/s]\n",
      "Running model...: 100%|██████████| 1/1 [00:00<00:00, 1000.55it/s]\n",
      "Running model...: 100%|██████████| 1/1 [00:00<?, ?it/s]\n",
      "Running model...: 100%|██████████| 1/1 [00:00<?, ?it/s]\n",
      "Running model...: 100%|██████████| 1/1 [00:00<00:00, 1000.07it/s]\n",
      "Running model...: 100%|██████████| 1/1 [00:00<00:00, 999.12it/s]\n",
      "Running model...: 100%|██████████| 1/1 [00:00<?, ?it/s]\n",
      "Running model...: 100%|██████████| 1/1 [00:00<?, ?it/s]\n",
      "Running model...: 100%|██████████| 1/1 [00:00<00:00, 1000.07it/s]\n",
      "Running model...: 100%|██████████| 1/1 [00:00<?, ?it/s]\n",
      "Running model...: 100%|██████████| 1/1 [00:00<?, ?it/s]\n",
      "Running model...: 100%|██████████| 1/1 [00:00<00:00, 1000.31it/s]\n",
      "Running model...: 100%|██████████| 1/1 [00:00<00:00, 997.22it/s]\n",
      "Running model...: 100%|██████████| 1/1 [00:00<00:00, 999.36it/s]\n",
      "Running model...: 100%|██████████| 1/1 [00:00<?, ?it/s]\n",
      "Running model...: 100%|██████████| 1/1 [00:00<?, ?it/s]\n",
      "Running model...: 100%|██████████| 1/1 [00:00<00:00, 1000.07it/s]\n",
      "Running model...: 100%|██████████| 1/1 [00:00<00:00, 998.88it/s]\n",
      "Running model...: 100%|██████████| 1/1 [00:00<00:00, 1000.55it/s]\n",
      "Running model...: 100%|██████████| 1/1 [00:00<?, ?it/s]\n",
      "Running model...: 100%|██████████| 1/1 [00:00<?, ?it/s]\n",
      "Running model...: 100%|██████████| 1/1 [00:00<?, ?it/s]\n",
      "Running model...: 100%|██████████| 1/1 [00:00<?, ?it/s]\n",
      "Running model...: 100%|██████████| 1/1 [00:00<?, ?it/s]\n",
      "Running model...: 100%|██████████| 1/1 [00:00<?, ?it/s]\n",
      "Running model...: 100%|██████████| 1/1 [00:00<?, ?it/s]\n",
      "Running model...: 100%|██████████| 1/1 [00:00<?, ?it/s]\n",
      "Running model...: 100%|██████████| 1/1 [00:00<?, ?it/s]\n",
      "Running model...: 100%|██████████| 1/1 [00:00<?, ?it/s]\n",
      "Running model...: 100%|██████████| 1/1 [00:00<?, ?it/s]\n",
      "Running model...: 100%|██████████| 1/1 [00:00<00:00, 998.88it/s]\n",
      "Running model...: 100%|██████████| 1/1 [00:00<?, ?it/s]\n",
      "Running model...: 100%|██████████| 1/1 [00:00<00:00, 999.83it/s]\n",
      "Running model...: 100%|██████████| 1/1 [00:00<?, ?it/s]\n",
      "Running model...: 100%|██████████| 1/1 [00:00<00:00, 998.41it/s]\n",
      "Running model...: 100%|██████████| 1/1 [00:00<?, ?it/s]\n",
      "Running model...: 100%|██████████| 1/1 [00:00<00:00, 999.12it/s]\n",
      "Running model...: 100%|██████████| 1/1 [00:00<?, ?it/s]\n",
      "Running model...: 100%|██████████| 1/1 [00:00<?, ?it/s]\n",
      "Running model...: 100%|██████████| 1/1 [00:00<00:00, 999.36it/s]\n",
      "Running model...: 100%|██████████| 1/1 [00:00<?, ?it/s]\n",
      "Running model...: 100%|██████████| 1/1 [00:00<?, ?it/s]\n",
      "Running model...: 100%|██████████| 1/1 [00:00<00:00, 1001.51it/s]\n",
      "Running model...: 100%|██████████| 1/1 [00:00<00:00, 999.60it/s]\n",
      "Running model...: 100%|██████████| 1/1 [00:00<?, ?it/s]\n",
      "Running model...: 100%|██████████| 1/1 [00:00<00:00, 1000.55it/s]\n",
      "Running model...: 100%|██████████| 1/1 [00:00<00:00, 1000.31it/s]\n",
      "Running model...: 100%|██████████| 1/1 [00:00<00:00, 996.51it/s]\n",
      "Running model...: 100%|██████████| 1/1 [00:00<?, ?it/s]\n",
      "Running model...: 100%|██████████| 1/1 [00:00<?, ?it/s]\n",
      "Running model...: 100%|██████████| 1/1 [00:00<?, ?it/s]\n",
      "Running model...: 100%|██████████| 1/1 [00:00<00:00, 999.83it/s]\n",
      "Running model...: 100%|██████████| 1/1 [00:00<?, ?it/s]\n",
      "Running model...: 100%|██████████| 1/1 [00:00<00:00, 1000.07it/s]\n",
      "Running model...: 100%|██████████| 1/1 [00:00<00:00, 1000.55it/s]\n",
      "Running model...: 100%|██████████| 1/1 [00:00<?, ?it/s]\n",
      "Running model...: 100%|██████████| 1/1 [00:00<?, ?it/s]\n",
      "Running model...: 100%|██████████| 1/1 [00:00<?, ?it/s]\n",
      "Running model...: 100%|██████████| 1/1 [00:00<?, ?it/s]\n",
      "Running model...: 100%|██████████| 1/1 [00:00<00:00, 999.83it/s]\n",
      "Running model...: 100%|██████████| 1/1 [00:00<?, ?it/s]\n",
      "Running model...: 100%|██████████| 1/1 [00:00<?, ?it/s]\n",
      "Running model...: 100%|██████████| 1/1 [00:00<00:00, 999.12it/s]\n",
      "Running model...: 100%|██████████| 1/1 [00:00<?, ?it/s]\n",
      "Running model...: 100%|██████████| 1/1 [00:00<?, ?it/s]\n",
      "Running model...: 100%|██████████| 1/1 [00:00<?, ?it/s]\n",
      "Running model...: 100%|██████████| 1/1 [00:00<?, ?it/s]\n",
      "Running model...: 100%|██████████| 1/1 [00:00<?, ?it/s]\n",
      "Running model...: 100%|██████████| 1/1 [00:00<00:00, 999.36it/s]\n",
      "Running model...: 100%|██████████| 1/1 [00:00<00:00, 1000.07it/s]\n",
      "Running model...: 100%|██████████| 1/1 [00:00<?, ?it/s]\n",
      "Running model...: 100%|██████████| 1/1 [00:00<?, ?it/s]\n",
      "Running model...: 100%|██████████| 1/1 [00:00<?, ?it/s]\n",
      "Running model...: 100%|██████████| 1/1 [00:00<?, ?it/s]\n",
      "Running model...: 100%|██████████| 1/1 [00:00<00:00, 1000.31it/s]\n",
      "Running model...: 100%|██████████| 1/1 [00:00<00:00, 998.17it/s]\n",
      "Running model...: 100%|██████████| 1/1 [00:00<?, ?it/s]\n",
      "Running model...: 100%|██████████| 1/1 [00:00<?, ?it/s]\n",
      "Running model...: 100%|██████████| 1/1 [00:00<?, ?it/s]\n",
      "Running model...: 100%|██████████| 1/1 [00:00<00:00, 1000.31it/s]\n",
      "Running model...: 100%|██████████| 1/1 [00:00<00:00, 1001.51it/s]\n",
      "Running model...: 100%|██████████| 1/1 [00:00<00:00, 1000.79it/s]\n",
      "Running model...: 100%|██████████| 1/1 [00:00<00:00, 999.12it/s]\n",
      "Running model...: 100%|██████████| 1/1 [00:00<?, ?it/s]\n",
      "Running model...: 100%|██████████| 1/1 [00:00<?, ?it/s]\n",
      "Running model...: 100%|██████████| 1/1 [00:00<?, ?it/s]\n",
      "Running model...: 100%|██████████| 1/1 [00:00<?, ?it/s]\n",
      "Running model...: 100%|██████████| 1/1 [00:00<00:00, 1001.74it/s]\n",
      "Running model...: 100%|██████████| 1/1 [00:00<00:00, 998.41it/s]\n",
      "Running model...: 100%|██████████| 1/1 [00:00<?, ?it/s]\n",
      "Running model...: 100%|██████████| 1/1 [00:00<00:00, 1001.27it/s]\n",
      "Running model...: 100%|██████████| 1/1 [00:00<00:00, 999.36it/s]\n",
      "Running model...: 100%|██████████| 1/1 [00:00<00:00, 999.83it/s]\n",
      "Running model...: 100%|██████████| 1/1 [00:00<00:00, 998.88it/s]\n",
      "Running model...: 100%|██████████| 1/1 [00:00<00:00, 999.83it/s]\n",
      "Running model...: 100%|██████████| 1/1 [00:00<?, ?it/s]\n",
      "Running model...: 100%|██████████| 1/1 [00:00<00:00, 1001.27it/s]\n",
      "Running model...: 100%|██████████| 1/1 [00:00<00:00, 1000.07it/s]\n",
      "Running model...: 100%|██████████| 1/1 [00:00<?, ?it/s]\n",
      "Running model...: 100%|██████████| 1/1 [00:00<?, ?it/s]\n",
      "Running model...: 100%|██████████| 1/1 [00:00<?, ?it/s]\n",
      "Running model...: 100%|██████████| 1/1 [00:00<?, ?it/s]\n",
      "Running model...: 100%|██████████| 1/1 [00:00<00:00, 999.60it/s]\n",
      "Running model...: 100%|██████████| 1/1 [00:00<?, ?it/s]\n",
      "Running model...: 100%|██████████| 1/1 [00:00<00:00, 1000.79it/s]\n",
      "Running model...: 100%|██████████| 1/1 [00:00<?, ?it/s]\n",
      "Running model...: 100%|██████████| 1/1 [00:00<00:00, 1000.07it/s]\n",
      "Running model...: 100%|██████████| 1/1 [00:00<?, ?it/s]\n",
      "Running model...: 100%|██████████| 1/1 [00:00<?, ?it/s]\n",
      "Running model...: 100%|██████████| 1/1 [00:00<00:00, 1000.55it/s]\n",
      "Running model...: 100%|██████████| 1/1 [00:00<00:00, 996.27it/s]\n",
      "Running model...: 100%|██████████| 1/1 [00:00<?, ?it/s]\n",
      "Running model...: 100%|██████████| 1/1 [00:00<?, ?it/s]\n",
      "Running model...: 100%|██████████| 1/1 [00:00<00:00, 999.36it/s]\n",
      "Running model...: 100%|██████████| 1/1 [00:00<00:00, 999.36it/s]\n",
      "Running model...: 100%|██████████| 1/1 [00:00<?, ?it/s]\n",
      "Running model...: 100%|██████████| 1/1 [00:00<00:00, 1000.07it/s]\n",
      "Running model...: 100%|██████████| 1/1 [00:00<?, ?it/s]\n",
      "Running model...: 100%|██████████| 1/1 [00:00<00:00, 998.41it/s]\n",
      "Running model...: 100%|██████████| 1/1 [00:00<00:00, 998.88it/s]\n",
      "Running model...: 100%|██████████| 1/1 [00:00<00:00, 1001.51it/s]\n",
      "Running model...: 100%|██████████| 1/1 [00:00<00:00, 1000.79it/s]\n",
      "Running model...: 100%|██████████| 1/1 [00:00<00:00, 1001.27it/s]\n",
      "Running model...: 100%|██████████| 1/1 [00:00<?, ?it/s]\n",
      "Running model...: 100%|██████████| 1/1 [00:00<00:00, 999.83it/s]\n",
      "Running model...: 100%|██████████| 1/1 [00:00<00:00, 998.88it/s]\n",
      "Running model...: 100%|██████████| 1/1 [00:00<?, ?it/s]\n",
      "Running model...: 100%|██████████| 1/1 [00:00<?, ?it/s]\n",
      "Running model...: 100%|██████████| 1/1 [00:00<?, ?it/s]\n",
      "Running model...: 100%|██████████| 1/1 [00:00<00:00, 1000.31it/s]\n",
      "Running model...: 100%|██████████| 1/1 [00:00<00:00, 997.93it/s]\n",
      "Running model...: 100%|██████████| 1/1 [00:00<?, ?it/s]\n",
      "Running model...: 100%|██████████| 1/1 [00:00<?, ?it/s]\n",
      "Running model...: 100%|██████████| 1/1 [00:00<?, ?it/s]\n",
      "Running model...: 100%|██████████| 1/1 [00:00<00:00, 999.60it/s]\n",
      "Running model...: 100%|██████████| 1/1 [00:00<00:00, 998.88it/s]\n",
      "Running model...: 100%|██████████| 1/1 [00:00<?, ?it/s]\n",
      "Running model...: 100%|██████████| 1/1 [00:00<?, ?it/s]\n",
      "Running model...: 100%|██████████| 1/1 [00:00<?, ?it/s]\n",
      "Running model...: 100%|██████████| 1/1 [00:00<00:00, 1001.03it/s]\n",
      "Running model...: 100%|██████████| 1/1 [00:00<?, ?it/s]\n",
      "Running model...: 100%|██████████| 1/1 [00:00<?, ?it/s]\n",
      "Running model...: 100%|██████████| 1/1 [00:00<?, ?it/s]\n",
      "Running model...: 100%|██████████| 1/1 [00:00<?, ?it/s]\n",
      "Running model...: 100%|██████████| 1/1 [00:00<?, ?it/s]\n",
      "Running model...: 100%|██████████| 1/1 [00:00<00:00, 1000.07it/s]\n",
      "Running model...: 100%|██████████| 1/1 [00:00<?, ?it/s]\n",
      "Running model...: 100%|██████████| 1/1 [00:00<00:00, 1001.51it/s]\n",
      "Running model...: 100%|██████████| 1/1 [00:00<00:00, 998.88it/s]\n",
      "Running model...: 100%|██████████| 1/1 [00:00<00:00, 1000.31it/s]\n",
      "Running model...: 100%|██████████| 1/1 [00:00<?, ?it/s]\n",
      "Running model...: 100%|██████████| 1/1 [00:00<?, ?it/s]\n",
      "Running model...: 100%|██████████| 1/1 [00:00<?, ?it/s]\n",
      "Running model...: 100%|██████████| 1/1 [00:00<?, ?it/s]\n",
      "Running model...: 100%|██████████| 1/1 [00:00<?, ?it/s]\n",
      "Running model...: 100%|██████████| 1/1 [00:00<?, ?it/s]\n",
      "Running model...: 100%|██████████| 1/1 [00:00<00:00, 999.12it/s]\n",
      "Running model...: 100%|██████████| 1/1 [00:00<?, ?it/s]\n",
      "Running model...: 100%|██████████| 1/1 [00:00<?, ?it/s]\n",
      "Running model...: 100%|██████████| 1/1 [00:00<00:00, 999.60it/s]\n",
      "Running model...: 100%|██████████| 1/1 [00:00<?, ?it/s]\n",
      "Running model...: 100%|██████████| 1/1 [00:00<?, ?it/s]\n",
      "Running model...: 100%|██████████| 1/1 [00:00<?, ?it/s]\n",
      "Running model...: 100%|██████████| 1/1 [00:00<?, ?it/s]\n",
      "Running model...: 100%|██████████| 1/1 [00:00<?, ?it/s]\n",
      "Running model...: 100%|██████████| 1/1 [00:00<00:00, 1000.07it/s]\n",
      "Running model...: 100%|██████████| 1/1 [00:00<?, ?it/s]\n",
      "Running model...: 100%|██████████| 1/1 [00:00<00:00, 1000.31it/s]\n",
      "Running model...: 100%|██████████| 1/1 [00:00<?, ?it/s]\n",
      "Running model...: 100%|██████████| 1/1 [00:00<?, ?it/s]\n",
      "Running model...: 100%|██████████| 1/1 [00:00<00:00, 998.17it/s]\n",
      "Running model...: 100%|██████████| 1/1 [00:00<00:00, 1000.79it/s]\n",
      "Running model...: 100%|██████████| 1/1 [00:00<?, ?it/s]\n",
      "Running model...: 100%|██████████| 1/1 [00:00<?, ?it/s]\n",
      "Running model...: 100%|██████████| 1/1 [00:00<00:00, 1000.07it/s]\n",
      "Running model...: 100%|██████████| 1/1 [00:00<?, ?it/s]\n",
      "Running model...: 100%|██████████| 1/1 [00:00<00:00, 1000.79it/s]\n",
      "Running model...: 100%|██████████| 1/1 [00:00<?, ?it/s]\n",
      "Running model...: 100%|██████████| 1/1 [00:00<00:00, 1017.79it/s]\n",
      "Running model...: 100%|██████████| 1/1 [00:00<00:00, 999.12it/s]\n",
      "Running model...: 100%|██████████| 1/1 [00:00<00:00, 1001.98it/s]\n",
      "Running model...: 100%|██████████| 1/1 [00:00<?, ?it/s]\n",
      "Running model...: 100%|██████████| 1/1 [00:00<?, ?it/s]\n",
      "Running model...: 100%|██████████| 1/1 [00:00<00:00, 998.88it/s]\n",
      "Running model...: 100%|██████████| 1/1 [00:00<?, ?it/s]\n",
      "Running model...: 100%|██████████| 1/1 [00:00<00:00, 999.60it/s]\n",
      "Running model...: 100%|██████████| 1/1 [00:00<?, ?it/s]\n",
      "Running model...: 100%|██████████| 1/1 [00:00<?, ?it/s]\n",
      "Running model...: 100%|██████████| 1/1 [00:00<00:00, 1000.07it/s]\n",
      "Running model...: 100%|██████████| 1/1 [00:00<?, ?it/s]\n",
      "Running model...: 100%|██████████| 1/1 [00:00<?, ?it/s]\n",
      "Running model...: 100%|██████████| 1/1 [00:00<00:00, 1005.11it/s]\n",
      "Running model...: 100%|██████████| 1/1 [00:00<?, ?it/s]\n",
      "Running model...: 100%|██████████| 1/1 [00:00<?, ?it/s]\n",
      "Running model...: 100%|██████████| 1/1 [00:00<00:00, 1000.31it/s]\n",
      "Running model...: 100%|██████████| 1/1 [00:00<?, ?it/s]\n",
      "Running model...: 100%|██████████| 1/1 [00:00<00:00, 998.88it/s]\n",
      "Running model...: 100%|██████████| 1/1 [00:00<00:00, 998.64it/s]\n",
      "Running model...: 100%|██████████| 1/1 [00:00<?, ?it/s]\n",
      "Running model...: 100%|██████████| 1/1 [00:00<00:00, 1000.55it/s]\n",
      "Running model...: 100%|██████████| 1/1 [00:00<?, ?it/s]\n",
      "Running model...: 100%|██████████| 1/1 [00:00<?, ?it/s]\n",
      "Running model...: 100%|██████████| 1/1 [00:00<00:00, 1001.51it/s]\n",
      "Running model...: 100%|██████████| 1/1 [00:00<?, ?it/s]\n",
      "Running model...: 100%|██████████| 1/1 [00:00<?, ?it/s]\n",
      "Running model...: 100%|██████████| 1/1 [00:00<00:00, 1000.31it/s]\n",
      "Running model...: 100%|██████████| 1/1 [00:00<00:00, 1000.07it/s]\n",
      "Running model...: 100%|██████████| 1/1 [00:00<00:00, 997.22it/s]\n",
      "Running model...: 100%|██████████| 1/1 [00:00<?, ?it/s]\n",
      "Running model...: 100%|██████████| 1/1 [00:00<00:00, 997.69it/s]\n",
      "Running model...: 100%|██████████| 1/1 [00:00<00:00, 1001.98it/s]\n",
      "Running model...: 100%|██████████| 1/1 [00:00<?, ?it/s]\n",
      "Running model...: 100%|██████████| 1/1 [00:00<00:00, 997.93it/s]\n",
      "Running model...: 100%|██████████| 1/1 [00:00<00:00, 1000.07it/s]\n",
      "Running model...: 100%|██████████| 1/1 [00:00<?, ?it/s]\n",
      "Running model...: 100%|██████████| 1/1 [00:00<?, ?it/s]\n",
      "Running model...: 100%|██████████| 1/1 [00:00<00:00, 1003.90it/s]\n",
      "Running model...: 100%|██████████| 1/1 [00:00<?, ?it/s]\n",
      "Running model...: 100%|██████████| 1/1 [00:00<00:00, 1001.03it/s]\n",
      "Running model...: 100%|██████████| 1/1 [00:00<00:00, 1000.79it/s]\n",
      "Running model...: 100%|██████████| 1/1 [00:00<?, ?it/s]\n",
      "Running model...: 100%|██████████| 1/1 [00:00<00:00, 1000.79it/s]\n"
     ]
    }
   ],
   "source": [
    "pso.fitness_fn = model.assess_fitness\n",
    "pso.run()"
   ]
  },
  {
   "cell_type": "code",
   "execution_count": 30,
   "metadata": {},
   "outputs": [
    {
     "output_type": "execute_result",
     "data": {
      "text/plain": [
       "array([ 1.1718655 , -0.05118378,  0.33444535, -0.0073191 ,  0.03949879,\n",
       "       -0.08935478, -0.47397191,  1.99132334, -0.21560999,  0.47417894,\n",
       "       -0.03325863])"
      ]
     },
     "metadata": {},
     "execution_count": 30
    }
   ],
   "source": [
    "c = pso.best.location\n",
    "c"
   ]
  },
  {
   "cell_type": "code",
   "execution_count": 17,
   "metadata": {},
   "outputs": [
    {
     "output_type": "execute_result",
     "data": {
      "text/plain": [
       "array([ 1.        ,  0.16490882,  0.32054064, -0.42608063, -0.0892174 ,\n",
       "        0.29815946,  0.35260979,  2.        , -0.06929032,  0.03188893,\n",
       "        0.09618511])"
      ]
     },
     "metadata": {},
     "execution_count": 17
    }
   ],
   "source": []
  },
  {
   "cell_type": "code",
   "execution_count": 31,
   "metadata": {},
   "outputs": [
    {
     "output_type": "stream",
     "name": "stderr",
     "text": [
      "Running model...: 100%|██████████| 1/1 [00:00<?, ?it/s]\n"
     ]
    },
    {
     "output_type": "execute_result",
     "data": {
      "text/plain": [
       "1.5363608190354157"
      ]
     },
     "metadata": {},
     "execution_count": 31
    }
   ],
   "source": [
    "model.assess_fitness(random_model)"
   ]
  },
  {
   "cell_type": "code",
   "execution_count": 32,
   "metadata": {},
   "outputs": [
    {
     "output_type": "stream",
     "name": "stderr",
     "text": [
      "Running model...: 100%|██████████| 1/1 [00:00<00:00, 1000.07it/s]\n"
     ]
    },
    {
     "output_type": "execute_result",
     "data": {
      "text/plain": [
       "2.678393956634769"
      ]
     },
     "metadata": {},
     "execution_count": 32
    }
   ],
   "source": [
    "model.assess_fitness(b)"
   ]
  },
  {
   "cell_type": "code",
   "execution_count": 33,
   "metadata": {},
   "outputs": [
    {
     "output_type": "stream",
     "name": "stderr",
     "text": [
      "Running model...: 100%|██████████| 1/1 [00:00<00:00, 999.12it/s]\n"
     ]
    },
    {
     "output_type": "execute_result",
     "data": {
      "text/plain": [
       "3.042354020159016"
      ]
     },
     "metadata": {},
     "execution_count": 33
    }
   ],
   "source": [
    "model.assess_fitness(c)"
   ]
  },
  {
   "cell_type": "code",
   "execution_count": null,
   "metadata": {},
   "outputs": [],
   "source": []
  }
 ],
 "metadata": {
  "language_info": {
   "codemirror_mode": {
    "name": "ipython",
    "version": 3
   },
   "file_extension": ".py",
   "mimetype": "text/x-python",
   "name": "python",
   "nbconvert_exporter": "python",
   "pygments_lexer": "ipython3",
   "version": "3.8.5-final"
  },
  "kernelspec": {
   "name": "python3",
   "display_name": "Python 3.8.5 64-bit ('Bio-Comp': conda)",
   "metadata": {
    "interpreter": {
     "hash": "35fcc499aa92e9c09728161005928b218aa1f3c0d7d5e2a582fbddbbabfd4aa2"
    }
   }
  }
 },
 "nbformat": 4,
 "nbformat_minor": 4
}