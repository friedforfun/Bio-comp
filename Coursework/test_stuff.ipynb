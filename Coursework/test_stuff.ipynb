{
 "cells": [
  {
   "cell_type": "code",
   "execution_count": 3,
   "metadata": {
    "tags": []
   },
   "outputs": [],
   "source": [
    "from SamModel import model as mod\n",
    "%load_ext autoreload\n",
    "%autoreload 2\n"
   ]
  },
  {
   "cell_type": "code",
   "execution_count": 4,
   "metadata": {},
   "outputs": [],
   "source": [
    "input_mat = mod.weight_matrix(10000,2)\n",
    "result_mat = mod.weight_matrix(10000, 1)"
   ]
  },
  {
   "cell_type": "code",
   "execution_count": 13,
   "metadata": {
    "tags": []
   },
   "outputs": [
    {
     "output_type": "stream",
     "name": "stdout",
     "text": [
      "Model Compiled!\n"
     ]
    }
   ],
   "source": [
    "model = mod.ANN()\n",
    "model.set_input(input_mat, result_mat)\n",
    "model.add(mod.Layer(512, activation=\"relu\"))\n",
    "model.add(mod.Layer(512, activation=\"relu\"))\n",
    "model.add(mod.Layer(512, activation=\"relu\"))\n",
    "model.add(mod.Layer(512, activation=\"relu\"))\n",
    "model.add(mod.Layer(512, activation=\"relu\"))\n",
    "model.add(mod.Layer(512, activation=\"relu\"))\n",
    "model.add(mod.Layer(512, activation=\"relu\"))\n",
    "model.add(mod.Layer(512, activation=\"relu\"))\n",
    "model.add(mod.Layer(512, activation=\"relu\"))\n",
    "model.add(mod.Layer(512, activation=\"relu\"))\n",
    "model.add(mod.Layer(512, activation=\"relu\"))\n",
    "model.add(mod.Layer(512, activation=\"relu\"))\n",
    "model.add(mod.Layer(512, activation=\"relu\"))\n",
    "model.add(mod.Layer(512, activation=\"relu\"))\n",
    "model.add(mod.Layer(512, activation=\"relu\"))\n",
    "model.add(mod.Layer(512, activation=\"relu\"))\n",
    "model.add(mod.Layer(512, activation=\"relu\"))\n",
    "model.add(mod.Layer(512, activation=\"relu\"))\n",
    "model.add(mod.Layer(512, activation=\"relu\"))\n",
    "model.add(mod.Layer(512, activation=\"relu\"))\n",
    "model.add(mod.Layer(512, activation=\"relu\"))\n",
    "model.add(mod.Layer(512, activation=\"relu\"))\n",
    "model.add(mod.Layer(512, activation=\"relu\"))\n",
    "model.add(mod.Layer(512, activation=\"relu\"))\n",
    "model.add(mod.Layer(512, activation=\"relu\"))\n",
    "model.add(mod.Layer(512, activation=\"relu\"))\n",
    "model.add(mod.Layer(512, activation=\"relu\"))\n",
    "model.add(mod.Layer(512, activation=\"relu\"))\n",
    "model.add(mod.Layer(512, activation=\"relu\"))\n",
    "model.add(mod.Layer(512, activation=\"relu\"))\n",
    "model.add(mod.Layer(512, activation=\"relu\"))\n",
    "model.add(mod.Layer(512, activation=\"relu\"))\n",
    "model.add(mod.Layer(512, activation=\"relu\"))\n",
    "model.add(mod.Layer(512, activation=\"relu\"))\n",
    "model.add(mod.Layer(512, activation=\"sigmoid\"))\n",
    "model.add(mod.Layer(512, activation=\"sigmoid\"))\n",
    "model.add(mod.Layer(1, activation=\"sigmoid\"))\n",
    "#print(len(model.layers))\n",
    "model.compile()\n",
    "\n",
    "# model.epoch(input_mat)\n",
    "#model.weights[0].shape[1]\n",
    "#model.bias[0].shape[0] == "
   ]
  },
  {
   "cell_type": "code",
   "execution_count": 15,
   "metadata": {},
   "outputs": [],
   "source": [
    "model.one_pass()\n",
    "\n",
    "yhat = model.layers[-1].output"
   ]
  },
  {
   "cell_type": "code",
   "execution_count": 16,
   "metadata": {},
   "outputs": [
    {
     "output_type": "stream",
     "name": "stdout",
     "text": [
      "1.3305635252629495\n1.3305635252629495\n"
     ]
    }
   ],
   "source": [
    "\n",
    "import numpy as np\n",
    "print(np.mean((result_mat - yhat)**2))\n",
    "\n",
    "print(mod.apply_loss(result_mat, yhat))"
   ]
  },
  {
   "cell_type": "code",
   "execution_count": 18,
   "metadata": {},
   "outputs": [
    {
     "output_type": "execute_result",
     "data": {
      "text/plain": [
       "array([0.99999999, 0.99999999, 0.99999999, ..., 1.        , 1.        ,\n",
       "       1.        ])"
      ]
     },
     "metadata": {},
     "execution_count": 18
    }
   ],
   "source": [
    "np.unique(model.y_hat)"
   ]
  },
  {
   "cell_type": "code",
   "execution_count": 23,
   "metadata": {},
   "outputs": [
    {
     "output_type": "stream",
     "name": "stdout",
     "text": [
      "a [-0.15993532  0.70374582 -0.89854746 -0.11118929 -0.13303417]\nb [ 0.9496636  -0.58536648 -0.91996408 -0.74872937 -0.91167048]\n"
     ]
    }
   ],
   "source": [
    "\n",
    "vec_a = 2*np.random.rand(5)-1\n",
    "vec_b = 2*np.random.rand(5)-1\n",
    "print(\"a\", vec_a)\n",
    "print(\"b\", vec_b)"
   ]
  },
  {
   "cell_type": "code",
   "execution_count": 24,
   "metadata": {},
   "outputs": [
    {
     "output_type": "execute_result",
     "data": {
      "text/plain": [
       "5"
      ]
     },
     "metadata": {},
     "execution_count": 24
    }
   ],
   "source": [
    "out = vec_a + vec_b\n",
    "out.shape[0]"
   ]
  },
  {
   "cell_type": "code",
   "execution_count": 25,
   "metadata": {},
   "outputs": [
    {
     "output_type": "execute_result",
     "data": {
      "text/plain": [
       "array([[0.5, 0.5, 0.5],\n",
       "       [0.5, 0.5, 0.5]])"
      ]
     },
     "metadata": {},
     "execution_count": 25
    }
   ],
   "source": [
    "mat = np.array([[0.5, 0.5, 0.5], [0.5,0.5, 0.5]])\n",
    "vec = np.array([1.0, 2.0, 3.0])\n",
    "mat"
   ]
  },
  {
   "cell_type": "code",
   "execution_count": 26,
   "metadata": {},
   "outputs": [
    {
     "output_type": "execute_result",
     "data": {
      "text/plain": [
       "array([[1.5, 2.5, 3.5],\n",
       "       [1.5, 2.5, 3.5]])"
      ]
     },
     "metadata": {},
     "execution_count": 26
    }
   ],
   "source": [
    "mat + vec"
   ]
  },
  {
   "cell_type": "code",
   "execution_count": null,
   "metadata": {},
   "outputs": [],
   "source": []
  }
 ],
 "metadata": {
  "kernelspec": {
   "display_name": "Python 3",
   "language": "python",
   "name": "python3"
  },
  "language_info": {
   "codemirror_mode": {
    "name": "ipython",
    "version": 3
   },
   "file_extension": ".py",
   "mimetype": "text/x-python",
   "name": "python",
   "nbconvert_exporter": "python",
   "pygments_lexer": "ipython3",
   "version": "3.8.3-final"
  }
 },
 "nbformat": 4,
 "nbformat_minor": 4
}