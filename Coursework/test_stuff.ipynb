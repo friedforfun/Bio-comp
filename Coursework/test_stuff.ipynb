{
 "cells": [
  {
   "cell_type": "code",
   "execution_count": 33,
   "metadata": {
    "tags": []
   },
   "outputs": [
    {
     "output_type": "stream",
     "name": "stdout",
     "text": [
      "The autoreload extension is already loaded. To reload it, use:\n  %reload_ext autoreload\n"
     ]
    }
   ],
   "source": [
    "import model as mod\n",
    "%load_ext autoreload\n",
    "%autoreload 2\n"
   ]
  },
  {
   "cell_type": "code",
   "execution_count": 34,
   "metadata": {},
   "outputs": [],
   "source": [
    "input_mat = mod.__weight_matrix__(3,2)\n",
    "result_mat = mod.__weight_matrix__(3, 1)"
   ]
  },
  {
   "cell_type": "code",
   "execution_count": 35,
   "metadata": {},
   "outputs": [
    {
     "output_type": "stream",
     "name": "stdout",
     "text": [
      "Model Compiled!\n"
     ]
    }
   ],
   "source": [
    "model = mod.ANN()\n",
    "model.set_input_cols(2)\n",
    "model.add(mod.Layer(5, activation=\"sigmoid\"))\n",
    "model.add(mod.Layer(3, activation=\"sigmoid\"))\n",
    "#print(len(model.layers))\n",
    "model.compile()\n",
    "\n",
    "# model.epoch(input_mat)\n",
    "#model.weights[0].shape[1]\n",
    "#model.bias[0].shape[0] == "
   ]
  },
  {
   "cell_type": "code",
   "execution_count": 36,
   "metadata": {},
   "outputs": [
    {
     "output_type": "execute_result",
     "data": {
      "text/plain": [
       "[array([[0.43365092, 0.5357357 , 0.31383579, 0.19852324, 0.43280151],\n",
       "        [0.41614783, 0.69027552, 0.46683486, 0.34448454, 0.62568995],\n",
       "        [0.44261471, 0.70512606, 0.433336  , 0.27865472, 0.60572196]]),\n",
       " array([[0.27018049, 0.68646667, 0.6992465 ],\n",
       "        [0.26072649, 0.69559983, 0.70118053],\n",
       "        [0.25375325, 0.69236741, 0.69387846]])]"
      ]
     },
     "metadata": {},
     "execution_count": 36
    }
   ],
   "source": [
    "model.epoch(input_mat)\n",
    "\n",
    "model.layer_outputs"
   ]
  },
  {
   "cell_type": "code",
   "execution_count": 7,
   "metadata": {},
   "outputs": [
    {
     "output_type": "stream",
     "name": "stdout",
     "text": [
      "a [-0.2079169  -0.46756626  0.26532028 -0.42937715  0.63713061]\nb [-0.83907075 -0.05055559  0.24130667  0.65674205  0.1340894 ]\n"
     ]
    }
   ],
   "source": [
    "import numpy as np\n",
    "\n",
    "vec_a = 2*np.random.rand(5)-1\n",
    "vec_b = 2*np.random.rand(5)-1\n",
    "print(\"a\", vec_a)\n",
    "print(\"b\", vec_b)"
   ]
  },
  {
   "cell_type": "code",
   "execution_count": 10,
   "metadata": {},
   "outputs": [
    {
     "output_type": "execute_result",
     "data": {
      "text/plain": [
       "5"
      ]
     },
     "metadata": {},
     "execution_count": 10
    }
   ],
   "source": [
    "out = vec_a + vec_b\n",
    "out.shape[0]"
   ]
  },
  {
   "cell_type": "code",
   "execution_count": 11,
   "metadata": {},
   "outputs": [
    {
     "output_type": "execute_result",
     "data": {
      "text/plain": [
       "array([[0.5, 0.5, 0.5],\n",
       "       [0.5, 0.5, 0.5]])"
      ]
     },
     "metadata": {},
     "execution_count": 11
    }
   ],
   "source": [
    "mat = np.array([[0.5, 0.5, 0.5], [0.5,0.5, 0.5]])\n",
    "vec = np.array([1.0, 2.0, 3.0])\n",
    "mat"
   ]
  },
  {
   "cell_type": "code",
   "execution_count": 12,
   "metadata": {},
   "outputs": [
    {
     "output_type": "execute_result",
     "data": {
      "text/plain": [
       "array([[1.5, 2.5, 3.5],\n",
       "       [1.5, 2.5, 3.5]])"
      ]
     },
     "metadata": {},
     "execution_count": 12
    }
   ],
   "source": [
    "mat + vec"
   ]
  },
  {
   "cell_type": "code",
   "execution_count": null,
   "metadata": {},
   "outputs": [],
   "source": []
  }
 ],
 "metadata": {
  "kernelspec": {
   "display_name": "Python 3",
   "language": "python",
   "name": "python3"
  },
  "language_info": {
   "codemirror_mode": {
    "name": "ipython",
    "version": 3
   },
   "file_extension": ".py",
   "mimetype": "text/x-python",
   "name": "python",
   "nbconvert_exporter": "python",
   "pygments_lexer": "ipython3",
   "version": "3.8.3-final"
  }
 },
 "nbformat": 4,
 "nbformat_minor": 4
}