{
 "cells": [
  {
   "cell_type": "code",
   "execution_count": 1255,
   "metadata": {},
   "outputs": [],
   "source": [
    "import numpy as np\n",
    "import math"
   ]
  },
  {
   "cell_type": "code",
   "execution_count": 1256,
   "metadata": {},
   "outputs": [
    {
     "output_type": "stream",
     "name": "stdout",
     "text": [
      "The autoreload extension is already loaded. To reload it, use:\n  %reload_ext autoreload\n"
     ]
    }
   ],
   "source": [
    "from PSO import pswarm as ps\n",
    "from PSO import psobehaviour as psh\n",
    "from ANNModel.model import ANNhistory as annh\n",
    "%load_ext autoreload\n",
    "%autoreload 2"
   ]
  },
  {
   "cell_type": "code",
   "execution_count": 1257,
   "metadata": {},
   "outputs": [],
   "source": [
    "class TrivialOptimisation:\n",
    "    def __init__(self, best_position = [0.45, -0.1], search_dimension=[(-1.0, 1.0),(-1.0, 1.0)], num_particles=10, num_iterations=100):\n",
    "        self.best_position = np.array(best_position)\n",
    "        self.search_dimension = search_dimension\n",
    "        self.all_vectors = []\n",
    "        self.num_particles = num_particles\n",
    "        self.num_iterations = num_iterations\n",
    "\n",
    "    def assess_fitness(self, vec):\n",
    "        return 1 / (self.vec_distance(vec) + 0.0000001)\n",
    "\n",
    "    def vec_distance(self, vec):\n",
    "        return math.sqrt(np.sum((self.best_position - vec)**2))\n",
    "    \n",
    "\n"
   ]
  },
  {
   "cell_type": "code",
   "execution_count": 1258,
   "metadata": {},
   "outputs": [],
   "source": [
    "pos = [0.45, -0.1, 0.5, 0.45, -0.1, 0.5]\n",
    "dim = [(-1.0, 1.0), (-1.0, 1.0), (-1, 1.0),(-1.0, 1.0), (-1.0, 1.0), (-1, 1.0)]\n",
    "triv = TrivialOptimisation(pos, search_dimension=dim)\n",
    "triv_h = annh(triv)"
   ]
  },
  {
   "cell_type": "code",
   "execution_count": 1259,
   "metadata": {},
   "outputs": [
    {
     "output_type": "display_data",
     "data": {
      "text/plain": "HBox(children=(HTML(value='Fitness: -9999.0'), FloatProgress(value=0.0), HTML(value='')))",
      "application/vnd.jupyter.widget-view+json": {
       "version_major": 2,
       "version_minor": 0,
       "model_id": "2fb1571546214a438ff6dc61dd1cc4aa"
      }
     },
     "metadata": {}
    },
    {
     "output_type": "stream",
     "name": "stdout",
     "text": [
      "\n"
     ]
    }
   ],
   "source": [
    "pso = ps.PSO(swarm_size=10, num_informants=2, boundary_policy=psh.BoundaryPolicy.RANDOMREINIT, termination_policy=[psh.TerminationPolicy.ITERATIONS], termination_args={'max_iter': 400}, alpha=0.61, beta=0.4, gamma=0.4, delta=0.4, epsilon=0.61)\n",
    "\n",
    "pso.set_search_dimensions(triv.search_dimension)\n",
    "pso.set_fitness_fn(triv_h.assess_fitness)\n",
    "best = pso.run()"
   ]
  },
  {
   "cell_type": "code",
   "execution_count": 1260,
   "metadata": {},
   "outputs": [
    {
     "output_type": "execute_result",
     "data": {
      "text/plain": [
       "7.835830582903535"
      ]
     },
     "metadata": {},
     "execution_count": 1260
    }
   ],
   "source": [
    "pso.best.fitness"
   ]
  },
  {
   "cell_type": "code",
   "execution_count": 1261,
   "metadata": {},
   "outputs": [],
   "source": [
    "triv_h.historical_particle_fitness()\n",
    "triv_h.historical_particle_location()"
   ]
  },
  {
   "cell_type": "code",
   "execution_count": 1263,
   "metadata": {},
   "outputs": [
    {
     "output_type": "execute_result",
     "data": {
      "text/plain": [
       "[243, 238, 239, 237, 240, 241, 239, 240, 241, 240]"
      ]
     },
     "metadata": {},
     "execution_count": 1263
    }
   ],
   "source": [
    "triv_h.best_iter_per_particle()\n"
   ]
  }
 ],
 "metadata": {
  "kernelspec": {
   "name": "python3",
   "display_name": "Python 3"
  }
 },
 "nbformat": 4,
 "nbformat_minor": 4
}