{
 "cells": [
  {
   "cell_type": "code",
   "execution_count": 11,
   "metadata": {},
   "outputs": [],
   "source": [
    "from datetime import datetime, timedelta"
   ]
  },
  {
   "cell_type": "code",
   "execution_count": 3,
   "metadata": {
    "tags": []
   },
   "outputs": [],
   "source": [
    "from ANNModel import model as mod\n",
    "from PSO import pswarm as ps\n",
    "from PSO import psobehaviour as psh\n",
    "%load_ext autoreload\n",
    "%autoreload 2\n",
    "\n",
    "import numpy as np\n",
    "from ANNModel import data as d"
   ]
  },
  {
   "cell_type": "code",
   "execution_count": 5,
   "metadata": {},
   "outputs": [],
   "source": [
    "data = d.Data(\"./Data/1in_cubic.txt\")\n",
    "input_mat = data.get_rows()\n",
    "result_mat = data.get_output()"
   ]
  },
  {
   "cell_type": "code",
   "execution_count": 8,
   "metadata": {
    "tags": []
   },
   "outputs": [
    {
     "output_type": "stream",
     "name": "stdout",
     "text": [
      "Model Compiled!\n"
     ]
    }
   ],
   "source": [
    "model = mod.ANN()\n",
    "model.set_training_input(input_mat, result_mat)\n",
    "model.add(mod.Layer(2, activation=\"sigmoid\"))\n",
    "model.add(mod.Layer(1, activation=\"sigmoid\"))\n",
    "#print(len(model.layers))\n",
    "model.compile()\n",
    "\n",
    "# model.epoch(input_mat)\n",
    "#model.weights[0].shape[1]\n",
    "#model.bias[0].shape[0] == "
   ]
  },
  {
   "cell_type": "code",
   "execution_count": 9,
   "metadata": {},
   "outputs": [],
   "source": [
    "model.one_pass()"
   ]
  },
  {
   "cell_type": "code",
   "execution_count": 12,
   "metadata": {},
   "outputs": [],
   "source": [
    "pso = ps.PSO(boundary_policy=psh.BoundaryPolicy.RANDOMREINIT, termination_policy=[psh.TerminationPolicy.ITERATIONS, psh.TerminationPolicy.DURATION], termination_args={'max_iter': 50, 'time_delta': timedelta(minutes=4)})"
   ]
  },
  {
   "cell_type": "code",
   "execution_count": 13,
   "metadata": {},
   "outputs": [],
   "source": [
    "pso.set_search_dimensions(model.dimension_vec())"
   ]
  },
  {
   "cell_type": "code",
   "execution_count": 15,
   "metadata": {
    "tags": []
   },
   "outputs": [
    {
     "output_type": "stream",
     "name": "stderr",
     "text": [
      "101.99999999999993it [00:00, 680.48it/s]                        Fitness:  6.598769604657023\n",
      "Fitness:  6.598769604657023\n",
      "Fitness:  6.598769604657023\n",
      "Fitness:  6.598769604657023\n",
      "Fitness:  6.598769604657023\n",
      "Fitness:  6.598769604657023\n",
      "Fitness:  6.598769604657023\n",
      "Fitness:  6.598769604657023\n",
      "Fitness:  6.598769604657023\n",
      "Fitness:  6.598769604657023\n",
      "Fitness:  6.598769604657023\n",
      "Fitness:  6.598769604657023\n",
      "Fitness:  6.598769604657023\n",
      "Fitness:  6.598769604657023\n",
      "Fitness:  6.598769604657023\n",
      "Fitness:  6.598769604657023\n",
      "Fitness:  6.598769604657023\n",
      "Fitness:  6.598769604657023\n",
      "Fitness:  6.598769604657023\n",
      "Fitness:  6.598769604657023\n",
      "Fitness:  6.598769604657023\n",
      "Fitness:  6.598769604657023\n",
      "Fitness:  6.598769604657023\n",
      "Fitness:  6.598769604657023\n",
      "Fitness:  6.598769604657023\n",
      "Fitness:  6.598769604657023\n",
      "Fitness:  6.598769604657023\n",
      "Fitness:  6.598769604657023\n",
      "Fitness:  6.598769604657023\n",
      "Fitness:  6.598769604657023\n",
      "Fitness:  6.598769604657023\n",
      "Fitness:  6.598769604657023\n",
      "Fitness:  6.598769604657023\n",
      "Fitness:  6.598769604657023\n",
      "Fitness:  6.598769604657023\n",
      "Fitness:  6.598769604657023\n",
      "Fitness:  6.598769604657023\n",
      "Fitness:  6.598769604657023\n",
      "Fitness:  6.598769604657023\n",
      "Fitness:  6.598769604657023\n",
      "Fitness:  6.598769604657023\n",
      "Fitness:  6.598769604657023\n",
      "Fitness:  6.598769604657023\n",
      "Fitness:  6.598769604657023\n",
      "Fitness:  6.598769604657023\n",
      "Fitness:  6.598769604657023\n",
      "Fitness:  6.598769604657023\n",
      "Fitness:  6.598769604657023\n",
      "Fitness:  6.598769604657023\n",
      "Fitness:  6.598769604657023\n",
      "Fitness:  6.598769604657023\n",
      "Fitness:  6.598769604657023\n",
      "\n"
     ]
    }
   ],
   "source": [
    "pso.fitness_fn = model.assess_fitness\n",
    "pso.run()"
   ]
  },
  {
   "cell_type": "code",
   "execution_count": null,
   "metadata": {},
   "outputs": [],
   "source": []
  }
 ],
 "metadata": {
  "language_info": {
   "codemirror_mode": {
    "name": "ipython",
    "version": 3
   },
   "file_extension": ".py",
   "mimetype": "text/x-python",
   "name": "python",
   "nbconvert_exporter": "python",
   "pygments_lexer": "ipython3",
   "version": "3.8.3-final"
  },
  "kernelspec": {
   "name": "python3",
   "display_name": "Python 3"
  }
 },
 "nbformat": 4,
 "nbformat_minor": 4
}