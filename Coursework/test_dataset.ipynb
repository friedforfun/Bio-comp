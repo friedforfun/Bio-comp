{
 "cells": [
  {
   "cell_type": "code",
   "execution_count": 78,
   "metadata": {},
   "outputs": [],
   "source": [
    "from datetime import datetime, timedelta"
   ]
  },
  {
   "cell_type": "code",
   "execution_count": 79,
   "metadata": {
    "tags": []
   },
   "outputs": [
    {
     "output_type": "stream",
     "name": "stdout",
     "text": [
      "The autoreload extension is already loaded. To reload it, use:\n  %reload_ext autoreload\n"
     ]
    }
   ],
   "source": [
    "from ANNModel import model as mod\n",
    "from PSO import pswarm as ps\n",
    "from PSO import psobehaviour as psh\n",
    "%load_ext autoreload\n",
    "%autoreload 2\n",
    "\n",
    "import numpy as np\n",
    "from ANNModel import data as d"
   ]
  },
  {
   "cell_type": "code",
   "execution_count": 80,
   "metadata": {},
   "outputs": [],
   "source": [
    "data = d.Data(\"./Data/1in_linear.txt\")\n",
    "input_mat = data.get_rows()\n",
    "result_mat = data.get_output()"
   ]
  },
  {
   "cell_type": "code",
   "execution_count": 81,
   "metadata": {
    "tags": []
   },
   "outputs": [
    {
     "output_type": "stream",
     "name": "stdout",
     "text": [
      "Model Compiled!\n"
     ]
    }
   ],
   "source": [
    "model = mod.ANN()\n",
    "model.set_training_input(input_mat, result_mat)\n",
    "model.add(mod.Layer(2, activation=\"gaussian\"))\n",
    "model.add(mod.Layer(8, activation='relu'))\n",
    "model.add(mod.Layer(1, activation=\"sigmoid\"))\n",
    "model.compile()\n",
    "\n"
   ]
  },
  {
   "cell_type": "code",
   "execution_count": 82,
   "metadata": {},
   "outputs": [],
   "source": [
    "model.one_pass()"
   ]
  },
  {
   "cell_type": "code",
   "execution_count": 83,
   "metadata": {},
   "outputs": [],
   "source": [
    "model_copies = mod.ANNhistory(model)"
   ]
  },
  {
   "cell_type": "code",
   "execution_count": 84,
   "metadata": {},
   "outputs": [],
   "source": [
    "random_model = model.vectorize()"
   ]
  },
  {
   "cell_type": "code",
   "execution_count": 85,
   "metadata": {},
   "outputs": [],
   "source": [
    "import copy\n",
    "model_copy = copy.deepcopy(model)"
   ]
  },
  {
   "cell_type": "code",
   "execution_count": 86,
   "metadata": {},
   "outputs": [],
   "source": [
    "pso = ps.PSO(swarm_size=10, num_informants=6, boundary_policy=psh.BoundaryPolicy.REFUSE, termination_policy=[psh.TerminationPolicy.ITERATIONS], termination_args={'max_iter': 50}, alpha=0.1, beta=1, gamma=2, delta=1, epsilon=0.01)"
   ]
  },
  {
   "cell_type": "code",
   "execution_count": 87,
   "metadata": {},
   "outputs": [
    {
     "output_type": "stream",
     "name": "stdout",
     "text": [
      "<bound method ANNhistory.assess_fitness of <ANNModel.model.ANNhistory object at 0x0000029E18AFE250>>\n"
     ]
    }
   ],
   "source": [
    "pso.set_search_dimensions(model.dimension_vec())\n",
    "pso.set_fitness_fn(model_copies.assess_fitness)"
   ]
  },
  {
   "cell_type": "code",
   "execution_count": 88,
   "metadata": {
    "tags": []
   },
   "outputs": [
    {
     "output_type": "stream",
     "name": "stderr",
     "text": [
      "101.99999999999993it [00:00, 836.08it/s]                        Iteration:  52\n",
      "Fitness:  2.999400119976005\n",
      "\n"
     ]
    }
   ],
   "source": [
    "best = pso.run()"
   ]
  },
  {
   "cell_type": "code",
   "execution_count": 89,
   "metadata": {},
   "outputs": [],
   "source": [
    "PSO_best = pso.best.location\n",
    "PSO_fitness = pso.best.fitness"
   ]
  },
  {
   "cell_type": "code",
   "execution_count": 90,
   "metadata": {},
   "outputs": [
    {
     "output_type": "stream",
     "name": "stdout",
     "text": [
      "2.999400119976005 2.999400119976005\n"
     ]
    }
   ],
   "source": [
    "print(best.fitness, PSO_fitness)"
   ]
  },
  {
   "cell_type": "code",
   "execution_count": 91,
   "metadata": {},
   "outputs": [],
   "source": [
    "previous_best = pso.previous_best"
   ]
  },
  {
   "cell_type": "code",
   "execution_count": 92,
   "metadata": {},
   "outputs": [
    {
     "output_type": "execute_result",
     "data": {
      "text/plain": [
       "2.314341199190793"
      ]
     },
     "metadata": {},
     "execution_count": 92
    }
   ],
   "source": [
    "model.assess_fitness(model.vectorize())"
   ]
  },
  {
   "cell_type": "code",
   "execution_count": 93,
   "metadata": {},
   "outputs": [
    {
     "output_type": "stream",
     "name": "stdout",
     "text": [
      "Model fitness:  2.999400119976005\n"
     ]
    }
   ],
   "source": [
    "print('Model fitness: ', model_copy.assess_fitness(best.location))"
   ]
  },
  {
   "cell_type": "code",
   "execution_count": 94,
   "metadata": {},
   "outputs": [],
   "source": [
    "#model_copies.ann_list[-1].vectorize() == model_copies.ann_list[-2].vectorize()"
   ]
  },
  {
   "cell_type": "code",
   "execution_count": 95,
   "metadata": {},
   "outputs": [],
   "source": [
    "model_after_pso = copy.deepcopy(model)"
   ]
  },
  {
   "cell_type": "code",
   "execution_count": 96,
   "metadata": {},
   "outputs": [
    {
     "output_type": "stream",
     "name": "stdout",
     "text": [
      "Model fitness:  2.999400119976005\n"
     ]
    }
   ],
   "source": [
    "print('Model fitness: ', model.assess_fitness(PSO_best))"
   ]
  },
  {
   "cell_type": "code",
   "execution_count": 97,
   "metadata": {},
   "outputs": [
    {
     "output_type": "stream",
     "name": "stdout",
     "text": [
      "Model fitness:  1.8446284275210247\n"
     ]
    }
   ],
   "source": [
    "print('Model fitness: ', model_after_pso.assess_fitness(previous_best.location))"
   ]
  },
  {
   "cell_type": "code",
   "execution_count": 98,
   "metadata": {
    "tags": []
   },
   "outputs": [
    {
     "output_type": "stream",
     "name": "stdout",
     "text": [
      "Model:  51\nFitness:  0.7508263791573867\nModel:  52\nFitness:  1.1135353552511609\nModel:  53\nFitness:  0.47062512509707466\nModel:  54\nFitness:  2.9569742279216693\nModel:  55\nFitness:  0.7810383315958674\nModel:  56\nFitness:  0.8017868812372232\nModel:  57\nFitness:  0.8754049655431803\nModel:  58\nFitness:  0.9425348291994787\nModel:  59\nFitness:  2.314341199190793\n"
     ]
    }
   ],
   "source": [
    "maxf = 0\n",
    "maxf_index = 0\n",
    "best_vec = None\n",
    "for index, vec in enumerate(model_copies.vec_history):\n",
    "    fitness = model.assess_fitness(vec)\n",
    "    if 50 < index < 60:\n",
    "        print('Model: ', index)\n",
    "        print('Fitness: ', fitness)\n",
    "        \n",
    "    if fitness > maxf:\n",
    "        maxf = fitness\n",
    "        maxf_index = index\n",
    "        best_vec = vec "
   ]
  },
  {
   "cell_type": "code",
   "execution_count": 99,
   "metadata": {},
   "outputs": [
    {
     "output_type": "execute_result",
     "data": {
      "text/plain": [
       "(2.9569742279216693, 4)"
      ]
     },
     "metadata": {},
     "execution_count": 99
    }
   ],
   "source": [
    "(maxf, maxf_index)"
   ]
  },
  {
   "cell_type": "code",
   "execution_count": 100,
   "metadata": {},
   "outputs": [
    {
     "output_type": "stream",
     "name": "stdout",
     "text": [
      "Model fitness:  2.314341199190793\n"
     ]
    }
   ],
   "source": [
    "print('Model fitness: ', model.assess_fitness(model_copies.vec_history[-1]))\n"
   ]
  },
  {
   "cell_type": "code",
   "execution_count": 101,
   "metadata": {},
   "outputs": [],
   "source": [
    "#print('Model fitness: ', model.assess_fitness(model_copies.ann_list[-2].vectorize()))"
   ]
  },
  {
   "cell_type": "code",
   "execution_count": 104,
   "metadata": {},
   "outputs": [
    {
     "output_type": "execute_result",
     "data": {
      "text/plain": [
       "52"
      ]
     },
     "metadata": {},
     "execution_count": 104
    }
   ],
   "source": [
    "model_copies.historical_particle_fitness()\n",
    "model_copies.particle_fitness[1]"
   ]
  },
  {
   "cell_type": "code",
   "execution_count": null,
   "metadata": {},
   "outputs": [],
   "source": []
  }
 ],
 "metadata": {
  "language_info": {
   "codemirror_mode": {
    "name": "ipython",
    "version": 3
   },
   "file_extension": ".py",
   "mimetype": "text/x-python",
   "name": "python",
   "nbconvert_exporter": "python",
   "pygments_lexer": "ipython3",
   "version": "3.8.5-final"
  },
  "kernelspec": {
   "name": "python3",
   "display_name": "Python 3.8.5 64-bit ('Bio-Comp': conda)",
   "metadata": {
    "interpreter": {
     "hash": "35fcc499aa92e9c09728161005928b218aa1f3c0d7d5e2a582fbddbbabfd4aa2"
    }
   }
  }
 },
 "nbformat": 4,
 "nbformat_minor": 4
}