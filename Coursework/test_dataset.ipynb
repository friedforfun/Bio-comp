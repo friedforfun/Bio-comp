{
 "cells": [
  {
   "cell_type": "code",
   "execution_count": 1,
   "metadata": {},
   "outputs": [],
   "source": [
    "from datetime import datetime, timedelta"
   ]
  },
  {
   "cell_type": "code",
   "execution_count": 2,
   "metadata": {
    "tags": []
   },
   "outputs": [],
   "source": [
    "from ANNModel import model as mod\n",
    "from PSO import pswarm as ps\n",
    "from PSO import psobehaviour as psh\n",
    "%load_ext autoreload\n",
    "%autoreload 2\n",
    "\n",
    "import numpy as np\n",
    "from ANNModel import data as d"
   ]
  },
  {
   "cell_type": "code",
   "execution_count": 3,
   "metadata": {},
   "outputs": [],
   "source": [
    "data = d.Data(\"./Data/1in_linear.txt\")\n",
    "input_mat = data.get_rows()\n",
    "result_mat = data.get_output()"
   ]
  },
  {
   "cell_type": "code",
   "execution_count": 4,
   "metadata": {
    "tags": []
   },
   "outputs": [
    {
     "output_type": "stream",
     "name": "stdout",
     "text": [
      "Model Compiled!\n"
     ]
    }
   ],
   "source": [
    "model = mod.ANN()\n",
    "model.set_training_input(input_mat, result_mat)\n",
    "model.add(mod.Layer(2, activation=\"gaussian\"))\n",
    "model.add(mod.Layer(8, activation='relu'))\n",
    "model.add(mod.Layer(1, activation=\"sigmoid\"))\n",
    "model.compile()\n",
    "\n"
   ]
  },
  {
   "cell_type": "code",
   "execution_count": 5,
   "metadata": {},
   "outputs": [],
   "source": [
    "model.one_pass()"
   ]
  },
  {
   "cell_type": "code",
   "execution_count": 6,
   "metadata": {},
   "outputs": [],
   "source": [
    "random_model = model.vectorize()"
   ]
  },
  {
   "cell_type": "code",
   "execution_count": null,
   "metadata": {},
   "outputs": [],
   "source": [
    "import copy\n",
    "model_copy = copy.deepcopy(model)"
   ]
  },
  {
   "cell_type": "code",
   "execution_count": 7,
   "metadata": {},
   "outputs": [],
   "source": [
    "pso = ps.PSO(swarm_size=10, num_informants=2, boundary_policy=psh.BoundaryPolicy.RANDOMREINIT, termination_policy=[psh.TerminationPolicy.ITERATIONS], termination_args={'max_iter': 50})"
   ]
  },
  {
   "cell_type": "code",
   "execution_count": 8,
   "metadata": {},
   "outputs": [
    {
     "output_type": "stream",
     "name": "stdout",
     "text": [
      "<bound method ANN.assess_fitness of <ANNModel.model.ANN object at 0x0000029A7C4FCCD0>>\n"
     ]
    }
   ],
   "source": [
    "pso.set_search_dimensions(model.dimension_vec())\n",
    "pso.set_fitness_fn(model.assess_fitness)"
   ]
  },
  {
   "cell_type": "code",
   "execution_count": 9,
   "metadata": {},
   "outputs": [
    {
     "output_type": "execute_result",
     "data": {
      "text/plain": [
       "<bound method ANN.assess_fitness of <ANNModel.model.ANN object at 0x0000029A7C4FCCD0>>"
      ]
     },
     "metadata": {},
     "execution_count": 9
    }
   ],
   "source": [
    "model.assess_fitness"
   ]
  },
  {
   "cell_type": "code",
   "execution_count": 10,
   "metadata": {
    "tags": []
   },
   "outputs": [
    {
     "output_type": "stream",
     "name": "stdout",
     "text": [
      "Iteration:  0\n",
      "Fitness:  2.999400119976005\n",
      "Iteration:  1\n",
      "Fitness:  2.999400119976005\n",
      "Iteration:  2\n",
      "Fitness:  2.999400119976005\n",
      "Iteration:  3\n",
      "Fitness:  2.999400119976005\n",
      "Iteration:  4\n",
      "Fitness:  2.999400119976005\n",
      "Iteration:  5\n",
      "Fitness:  2.999400119976005\n",
      "Iteration:  6\n",
      "Fitness:  2.999400119976005\n",
      "Iteration:  7\n",
      "Fitness:  2.999400119976005\n",
      "Iteration:  8\n",
      "Fitness:  2.999400119976005\n",
      "Iteration:  9\n",
      "Fitness:  2.999400119976005\n",
      "Iteration:  10\n",
      "Fitness:  2.999400119976005\n",
      "Iteration:  11\n",
      "Fitness:  2.999400119976005\n",
      "Iteration:  12\n",
      "Fitness:  2.999400119976005\n",
      "Iteration:  13\n",
      "Fitness:  2.999400119976005\n",
      "Iteration:  14\n",
      "Fitness:  2.999400119976005\n",
      "Iteration:  15\n",
      "Fitness:  2.999400119976005\n",
      "Iteration:  16\n",
      "Fitness:  2.999400119976005\n",
      "Iteration:  17\n",
      "Fitness:  2.999400119976005\n",
      "Iteration:  18\n",
      "Fitness:  2.999400119976005\n",
      "Iteration:  19\n",
      "Fitness:  2.999400119976005\n",
      "Iteration:  20\n",
      "Fitness:  2.999400119976005\n",
      "Iteration:  21\n",
      "Fitness:  2.999400119976005\n",
      "Iteration:  22\n",
      "Fitness:  2.999400119976005\n",
      "Iteration:  23\n",
      "Fitness:  2.999400119976005\n",
      "Iteration:  24\n",
      "Fitness:  2.999400119976005\n",
      "Iteration:  25\n",
      "Fitness:  2.999400119976005\n",
      "Iteration:  26\n",
      "Fitness:  2.999400119976005\n",
      "Iteration:  27\n",
      "Fitness:  2.999400119976005\n",
      "Iteration:  28\n",
      "Fitness:  2.999400119976005\n",
      "Iteration:  29\n",
      "Fitness:  2.999400119976005\n",
      "Iteration:  30\n",
      "Fitness:  2.999400119976005\n",
      "Iteration:  31\n",
      "Fitness:  2.999400119976005\n",
      "Iteration:  32\n",
      "Fitness:  2.999400119976005\n",
      "Iteration:  33\n",
      "Fitness:  2.999400119976005\n",
      "Iteration:  34\n",
      "Fitness:  2.999400119976005\n",
      "Iteration:  35\n",
      "Fitness:  2.999400119976005\n",
      "Iteration:  36\n",
      "Fitness:  2.999400119976005\n",
      "Iteration:  37\n",
      "Fitness:  2.999400119976005\n",
      "Iteration:  38\n",
      "Fitness:  2.999400119976005\n",
      "Iteration:  39\n",
      "Fitness:  2.999400119976005\n",
      "Iteration:  40\n",
      "Fitness:  2.999400119976005\n",
      "Iteration:  41\n",
      "Fitness:  2.999400119976005\n",
      "Iteration:  42\n",
      "Fitness:  2.999400119976005\n",
      "Iteration:  43\n",
      "Fitness:  2.999400119976005\n",
      "Iteration:  44\n",
      "Fitness:  2.999400119976005\n",
      "Iteration:  45\n",
      "Fitness:  2.999400119976005\n",
      "Iteration:  46\n",
      "Fitness:  2.999400119976005\n",
      "Iteration:  47\n",
      "Fitness:  2.999400119976005\n",
      "Iteration:  48\n",
      "Fitness:  2.999400119976005\n",
      "Iteration:  49\n",
      "Fitness:  2.999400119976005\n",
      "Iteration:  50\n",
      "Fitness:  2.999400119976005\n",
      "Iteration:  51\n",
      "Fitness:  2.999400119976005\n"
     ]
    }
   ],
   "source": [
    "pso.run()"
   ]
  },
  {
   "cell_type": "code",
   "execution_count": 11,
   "metadata": {},
   "outputs": [],
   "source": [
    "PSO_best = pso.best.location\n",
    "PSO_fitness = pso.best.fitness"
   ]
  },
  {
   "cell_type": "code",
   "execution_count": null,
   "metadata": {},
   "outputs": [],
   "source": []
  },
  {
   "cell_type": "code",
   "execution_count": null,
   "metadata": {},
   "outputs": [],
   "source": [
    "model.assess_fitness(random_model)"
   ]
  },
  {
   "cell_type": "code",
   "execution_count": 12,
   "metadata": {},
   "outputs": [
    {
     "output_type": "stream",
     "name": "stdout",
     "text": [
      "<bound method ANN.assess_fitness of <ANNModel.model.ANN object at 0x0000029A7C4FCCD0>>\n"
     ]
    }
   ],
   "source": [
    "print(pso.fitness_fn)"
   ]
  },
  {
   "cell_type": "code",
   "execution_count": 13,
   "metadata": {},
   "outputs": [],
   "source": [
    "old = PSO_best\n",
    "PSO_best[0] = 4"
   ]
  },
  {
   "cell_type": "code",
   "execution_count": 14,
   "metadata": {},
   "outputs": [
    {
     "output_type": "execute_result",
     "data": {
      "text/plain": [
       "1.1726677222378066"
      ]
     },
     "metadata": {},
     "execution_count": 14
    }
   ],
   "source": []
  },
  {
   "cell_type": "code",
   "execution_count": 15,
   "metadata": {},
   "outputs": [
    {
     "output_type": "stream",
     "name": "stdout",
     "text": [
      "Model fitness:  0.7613392930745075\n"
     ]
    }
   ],
   "source": [
    "print('Model fitness: ', model.assess_fitness(PSO_best))\n"
   ]
  },
  {
   "cell_type": "code",
   "execution_count": 16,
   "metadata": {},
   "outputs": [
    {
     "output_type": "execute_result",
     "data": {
      "text/plain": [
       "array([ 4.00000000e+00,  2.04308744e-01, -3.91867162e-01,  1.19936086e-02,\n",
       "       -1.83666403e-01,  3.00000000e+00, -5.07430453e-02, -1.49700351e-01,\n",
       "       -3.55530452e-01, -5.00352186e-01,  2.69187072e-01,  3.21388437e-02,\n",
       "        1.32121591e-02,  4.76079968e-01,  4.55975951e-01, -2.94534280e-01,\n",
       "       -5.70699042e-01, -1.54544605e-01,  2.08395304e-01,  3.11431762e-03,\n",
       "        4.07807013e-02,  1.76944692e-01, -6.04857967e-01, -4.22587532e-01,\n",
       "       -2.51443670e-02, -3.70599874e-01, -3.48560506e-01,  3.67594944e-01,\n",
       "        4.54196469e-01, -2.73657850e-02,  3.00000000e+00,  3.62458925e-01,\n",
       "       -2.88474435e-01, -7.14508162e-02,  5.84821141e-01,  7.78613787e-03,\n",
       "        3.48157196e-01, -6.18314813e-01, -1.55183849e-01,  1.94321403e-01])"
      ]
     },
     "metadata": {},
     "execution_count": 16
    }
   ],
   "source": [
    "model.vectorize()"
   ]
  },
  {
   "cell_type": "code",
   "execution_count": 17,
   "metadata": {},
   "outputs": [
    {
     "output_type": "execute_result",
     "data": {
      "text/plain": [
       "array([ 4.00000000e+00,  2.04308744e-01, -3.91867162e-01,  1.19936086e-02,\n",
       "       -1.83666403e-01,  2.77299957e+00, -5.07430453e-02, -1.49700351e-01,\n",
       "       -3.55530452e-01, -5.00352186e-01,  2.69187072e-01,  3.21388437e-02,\n",
       "        1.32121591e-02,  4.76079968e-01,  4.55975951e-01, -2.94534280e-01,\n",
       "       -5.70699042e-01, -1.54544605e-01,  2.08395304e-01,  3.11431762e-03,\n",
       "        4.07807013e-02,  1.76944692e-01, -6.04857967e-01, -4.22587532e-01,\n",
       "       -2.51443670e-02, -3.70599874e-01, -3.48560506e-01,  3.67594944e-01,\n",
       "        4.54196469e-01, -2.73657850e-02,  3.42866815e+00,  3.62458925e-01,\n",
       "       -2.88474435e-01, -7.14508162e-02,  5.84821141e-01,  7.78613787e-03,\n",
       "        3.48157196e-01, -6.18314813e-01, -1.55183849e-01,  1.94321403e-01])"
      ]
     },
     "metadata": {},
     "execution_count": 17
    }
   ],
   "source": [
    "PSO_best"
   ]
  },
  {
   "cell_type": "code",
   "execution_count": 18,
   "metadata": {},
   "outputs": [
    {
     "output_type": "stream",
     "name": "stdout",
     "text": [
      "old fitness:  0.7613392930745075\n"
     ]
    }
   ],
   "source": [
    "print('old fitness: ', model.assess_fitness(old))"
   ]
  },
  {
   "cell_type": "code",
   "execution_count": 19,
   "metadata": {},
   "outputs": [
    {
     "output_type": "execute_result",
     "data": {
      "text/plain": [
       "array([ 4.00000000e+00,  2.04308744e-01, -3.91867162e-01,  1.19936086e-02,\n",
       "       -1.83666403e-01,  3.00000000e+00, -5.07430453e-02, -1.49700351e-01,\n",
       "       -3.55530452e-01, -5.00352186e-01,  2.69187072e-01,  3.21388437e-02,\n",
       "        1.32121591e-02,  4.76079968e-01,  4.55975951e-01, -2.94534280e-01,\n",
       "       -5.70699042e-01, -1.54544605e-01,  2.08395304e-01,  3.11431762e-03,\n",
       "        4.07807013e-02,  1.76944692e-01, -6.04857967e-01, -4.22587532e-01,\n",
       "       -2.51443670e-02, -3.70599874e-01, -3.48560506e-01,  3.67594944e-01,\n",
       "        4.54196469e-01, -2.73657850e-02,  3.00000000e+00,  3.62458925e-01,\n",
       "       -2.88474435e-01, -7.14508162e-02,  5.84821141e-01,  7.78613787e-03,\n",
       "        3.48157196e-01, -6.18314813e-01, -1.55183849e-01,  1.94321403e-01])"
      ]
     },
     "metadata": {},
     "execution_count": 19
    }
   ],
   "source": [
    "model.vectorize()"
   ]
  },
  {
   "cell_type": "code",
   "execution_count": null,
   "metadata": {},
   "outputs": [],
   "source": []
  }
 ],
 "metadata": {
  "language_info": {
   "codemirror_mode": {
    "name": "ipython",
    "version": 3
   },
   "file_extension": ".py",
   "mimetype": "text/x-python",
   "name": "python",
   "nbconvert_exporter": "python",
   "pygments_lexer": "ipython3",
   "version": "3.8.5-final"
  },
  "kernelspec": {
   "name": "python3",
   "display_name": "Python 3.8.5 64-bit ('Bio-Comp': conda)",
   "metadata": {
    "interpreter": {
     "hash": "35fcc499aa92e9c09728161005928b218aa1f3c0d7d5e2a582fbddbbabfd4aa2"
    }
   }
  }
 },
 "nbformat": 4,
 "nbformat_minor": 4
}