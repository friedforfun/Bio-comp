{
 "cells": [
  {
   "cell_type": "code",
   "execution_count": 1,
   "metadata": {},
   "outputs": [
    {
     "name": "stderr",
     "output_type": "stream",
     "text": [
      "D:\\GitProjects\\Bio-comp\\Coursework\\ANNModel\\model.py:5: TqdmExperimentalWarning: Using `tqdm.autonotebook.tqdm` in notebook mode. Use `tqdm.tqdm` instead to force console mode (e.g. in jupyter console)\n",
      "  from tqdm.autonotebook import tqdm\n"
     ]
    }
   ],
   "source": [
    "import numpy as np\n",
    "from Coursework.ANNModel import model as mod\n",
    "from Coursework.ANNModel import data as d\n",
    "from Coursework.PSO import pswarm as ps\n",
    "from Coursework.PSO import psobehaviour as psh\n",
    "from Coursework.PSO import history as hs\n",
    "from sklearn.model_selection import train_test_split\n",
    "\n",
    "%load_ext autoreload\n",
    "%autoreload 2"
   ]
  },
  {
   "cell_type": "markdown",
   "metadata": {},
   "source": []
  },
  {
   "cell_type": "code",
   "execution_count": 2,
   "metadata": {},
   "outputs": [],
   "source": [
    "# Cubic (10 runs) mean fitness: 44.37869624714425\n",
    "Cubic_pso_config_mean = [91.38785822,  6.52696304,  0.59416449,  0.43559926,  0.29415449,\n",
    "        1.29923762,  0.73352514]\n",
    "\n",
    "# Linear (10 runs) mean fintess: 1103190071387.8752\n",
    "Linear_pso_config_mean = [85.37707185,  6.86909089,  0.51382895,  0.9798064,  0.12477974, 0.59493009,  0.89702589]\n",
    "\n",
    "# Tanh (10 runs) mean fitness: 25.520455427936067\n",
    "Tanh_pso_config_mean = [55.32621771,  7.52578441,  0.12798331,  0.72531664,  1.08313114, 0.29216353,  1.3627685 ]\n",
    "\n",
    "# Sine (10 runs) mean fitness: 434\n",
    "Sine_pso_config_mean = [8.73729926e+01, 7.54895398e+00, 7.33998847e-01, 7.52228076e-02,\n",
    "       2.92737853e-01, 3.09977124e-01, 8.51531051e-01]\n",
    "\n",
    "# Complex (10 runs) mean fitness: 12\n",
    "Complex_pso_config_mean = [82.66312781,  5.85540776,  0.62559032,  0.58225519,  0.26541185,\n",
    "        1.38181036,  0.6510299 ]\n",
    "\n",
    "# Xor (10 runs) mean fitness: 2710748526\n",
    "Xor_pso_config_mean = [96.15250011,  7.08445513,  0.53364588,  0.62468836,  1.57375821,\n",
    "        1.50229261,  0.17895104]\n"
   ]
  },
  {
   "cell_type": "markdown",
   "metadata": {},
   "source": []
  },
  {
   "cell_type": "code",
   "execution_count": 3,
   "metadata": {},
   "outputs": [],
   "source": [
    "# Cubic Most fit model: 109.50653486975476\n",
    "Cubic_ann_params = np.array([ 5.3012172 , -0.57272851, -0.29479981,  0.80752501, -0.45059291,\n",
    "       -0.37421024, -0.75524689, -0.44855557,  0.89593846,  0.21242254,\n",
    "        0.65222056, -0.53284427, -0.79926862, -0.79949714,  0.96237351])\n",
    "\n",
    "# Linear Most fit model: 10965948279221.076\n",
    "Linear_ann_params = np.array([ 0.15520314,  0.2222954 ,  0.47238101, -0.83439247, -0.27726962,\n",
    "        0.11339216, -0.7816949 , -0.79196132, -0.3392678 ,  0.41548984,\n",
    "       -0.08055252,  0.12817675, -0.71425698, -0.21576561, -0.7553213 ])\n",
    "\n",
    "# Tanh Most fit model: 39.38730853575883\n",
    "Tanh_ann_params = np.array([ 0.09854553,  0.39395654, -0.33737974, -0.12358008,  0.4334227 ,\n",
    "       -0.98235414, -0.99205521,  0.98638961, -0.97515305,  2.33845816,\n",
    "        0.51783499, -0.96708832, -0.9922467 ,  0.9696207 , -0.99365926])\n",
    "\n",
    "# Sine Most fit model: 4212\n",
    "Sine_ann_params = np.array([ 0.26515734,  0.7400037 , -0.0499965 ,  0.32639921,  0.03951493,\n",
    "        0.93575309,  0.82658881,  0.95566027,  0.89756768,  3.01482873,\n",
    "       -0.62419448, -0.9322514 , -0.99330274, -0.85322129, -0.65752741])\n",
    "\n",
    "# Complex Most fit model: 15.36\n",
    "Complex_ann_params = np.array([ 5.16794124, -0.50701965, -0.02085653, -0.67915966, -0.56917589,\n",
    "        0.93068562,  0.25302176,  0.92653444,  0.67209426,  0.39299595,\n",
    "       -0.75832145, -0.44806736, -0.62409455,  2.26094952, -0.26506833,\n",
    "       -0.86461154,  0.31096583,  0.90781783,  0.72454439])\n",
    "\n",
    "# Xor Most fit model: 27107485189\n",
    "Xor_ann_params = np.array([-0.13057076, -0.66250843,  0.0122888 , -0.4294471 , -0.56088656,\n",
    "        0.76634383,  0.95302873,  0.27348615,  0.86272884,  0.79509781,\n",
    "        0.80510636,  0.08453014,  0.86190117,  3.37130705, -0.79043449,\n",
    "        0.74686407,  0.4886179 , -0.22842822,  0.69471657])"
   ]
  },
  {
   "cell_type": "code",
   "execution_count": 4,
   "metadata": {},
   "outputs": [],
   "source": [
    "data = d.Data(\"./Data/1in_cubic.txt\")\n",
    "decimals = 'cubic'\n",
    "X = data.get_rows()\n",
    "y = data.get_output()\n",
    "\n",
    "psoParams = Cubic_pso_config_mean\n",
    "annParams = Cubic_ann_params\n",
    "\n",
    "X_train, X_test, y_train, y_test = train_test_split(X, y, test_size=0.33, random_state=14)"
   ]
  },
  {
   "cell_type": "code",
   "execution_count": 5,
   "metadata": {},
   "outputs": [
    {
     "name": "stdout",
     "output_type": "stream",
     "text": [
      "Model Compiled!\n",
      "Model Compiled!\n",
      "Model Compiled!\n",
      "Model Compiled!\n"
     ]
    }
   ],
   "source": [
    "import copy\n",
    "base_model = mod.ANN()\n",
    "base_model.set_training_input(X_train, y_train)\n",
    "base_model.add(mod.Layer(1, activation=\"sigmoid\"))\n",
    "base_model.add(mod.Layer(50, activation=\"sigmoid\"))\n",
    "base_model.add(mod.Layer(50, activation=\"sigmoid\"))\n",
    "base_model.add(mod.Layer(1, activation=\"null\"))\n",
    "base_model.compile()\n",
    "\n",
    "#train the model\n",
    "train_model = copy.deepcopy(base_model)\n",
    "train_model.compile()\n",
    "\n",
    "test_model = copy.deepcopy(base_model)\n",
    "test_model.compile()\n",
    "\n",
    "local_best_model = copy.deepcopy(base_model)\n",
    "local_best_model.compile()\n"
   ]
  },
  {
   "cell_type": "code",
   "execution_count": 6,
   "metadata": {
    "tags": []
   },
   "outputs": [
    {
     "name": "stdout",
     "output_type": "stream",
     "text": [
      "Sanity check swarm size:  91\n"
     ]
    }
   ],
   "source": [
    "pso = ps.PSO(termination_args={'max_iter': 800}, verbose=True)\n",
    "pso = pso.decode_vec(psoParams)\n",
    "print('Sanity check swarm size: ',pso.swarm_size)"
   ]
  },
  {
   "cell_type": "code",
   "execution_count": 7,
   "metadata": {},
   "outputs": [],
   "source": [
    "train_model_history = hs.PSOHistory(train_model, num_particles=pso.swarm_size, num_iterations=800)"
   ]
  },
  {
   "cell_type": "markdown",
   "metadata": {},
   "source": [
    "### Run experiment with the PSO hyperparameters calculated by meta-PSO \n",
    "#### This will find the 10 most fit ANN parameters, produce a mean accuracy*, Fitness, and loss for both test and train.\n",
    "\n",
    "*This accuracy is calculated with an absolute tolerance of 0.03 for all tests"
   ]
  },
  {
   "cell_type": "code",
   "execution_count": 8,
   "metadata": {},
   "outputs": [
    {
     "data": {
      "application/vnd.jupyter.widget-view+json": {
       "model_id": "8967064fca5c40399cde3d81fab30575",
       "version_major": 2,
       "version_minor": 0
      },
      "text/plain": [
       "HBox(children=(HTML(value='Fitness: -9999.0'), FloatProgress(value=0.0), HTML(value='')))"
      ]
     },
     "metadata": {},
     "output_type": "display_data"
    },
    {
     "name": "stdout",
     "output_type": "stream",
     "text": [
      "\n"
     ]
    },
    {
     "data": {
      "application/vnd.jupyter.widget-view+json": {
       "model_id": "22e1a30ac0f14e5985370a5936361531",
       "version_major": 2,
       "version_minor": 0
      },
      "text/plain": [
       "HBox(children=(HTML(value='Fitness: -9999.0'), FloatProgress(value=0.0), HTML(value='')))"
      ]
     },
     "metadata": {},
     "output_type": "display_data"
    },
    {
     "name": "stdout",
     "output_type": "stream",
     "text": [
      "\n"
     ]
    },
    {
     "data": {
      "application/vnd.jupyter.widget-view+json": {
       "model_id": "17886e8fa78347378f69a16c23a4ba05",
       "version_major": 2,
       "version_minor": 0
      },
      "text/plain": [
       "HBox(children=(HTML(value='Fitness: -9999.0'), FloatProgress(value=0.0), HTML(value='')))"
      ]
     },
     "metadata": {},
     "output_type": "display_data"
    },
    {
     "name": "stdout",
     "output_type": "stream",
     "text": [
      "\n"
     ]
    },
    {
     "data": {
      "application/vnd.jupyter.widget-view+json": {
       "model_id": "d9492677652e4c2d86979c99af836084",
       "version_major": 2,
       "version_minor": 0
      },
      "text/plain": [
       "HBox(children=(HTML(value='Fitness: -9999.0'), FloatProgress(value=0.0), HTML(value='')))"
      ]
     },
     "metadata": {},
     "output_type": "display_data"
    },
    {
     "name": "stdout",
     "output_type": "stream",
     "text": [
      "\n"
     ]
    },
    {
     "data": {
      "application/vnd.jupyter.widget-view+json": {
       "model_id": "045b5ae2955944178715c15fdf9c8936",
       "version_major": 2,
       "version_minor": 0
      },
      "text/plain": [
       "HBox(children=(HTML(value='Fitness: -9999.0'), FloatProgress(value=0.0), HTML(value='')))"
      ]
     },
     "metadata": {},
     "output_type": "display_data"
    },
    {
     "name": "stdout",
     "output_type": "stream",
     "text": [
      "\n"
     ]
    },
    {
     "data": {
      "application/vnd.jupyter.widget-view+json": {
       "model_id": "2d5eef8874ec4135b2091163a6906521",
       "version_major": 2,
       "version_minor": 0
      },
      "text/plain": [
       "HBox(children=(HTML(value='Fitness: -9999.0'), FloatProgress(value=0.0), HTML(value='')))"
      ]
     },
     "metadata": {},
     "output_type": "display_data"
    },
    {
     "name": "stdout",
     "output_type": "stream",
     "text": [
      "\n"
     ]
    },
    {
     "data": {
      "application/vnd.jupyter.widget-view+json": {
       "model_id": "e0be373ff10942eda97cb0fbb90afc91",
       "version_major": 2,
       "version_minor": 0
      },
      "text/plain": [
       "HBox(children=(HTML(value='Fitness: -9999.0'), FloatProgress(value=0.0), HTML(value='')))"
      ]
     },
     "metadata": {},
     "output_type": "display_data"
    },
    {
     "name": "stdout",
     "output_type": "stream",
     "text": [
      "\n"
     ]
    },
    {
     "data": {
      "application/vnd.jupyter.widget-view+json": {
       "model_id": "cdf85d1f057f4271bfbbae727d65305b",
       "version_major": 2,
       "version_minor": 0
      },
      "text/plain": [
       "HBox(children=(HTML(value='Fitness: -9999.0'), FloatProgress(value=0.0), HTML(value='')))"
      ]
     },
     "metadata": {},
     "output_type": "display_data"
    },
    {
     "name": "stdout",
     "output_type": "stream",
     "text": [
      "\n"
     ]
    },
    {
     "data": {
      "application/vnd.jupyter.widget-view+json": {
       "model_id": "94fe8b554d9b4ba78cd9a067f2001f07",
       "version_major": 2,
       "version_minor": 0
      },
      "text/plain": [
       "HBox(children=(HTML(value='Fitness: -9999.0'), FloatProgress(value=0.0), HTML(value='')))"
      ]
     },
     "metadata": {},
     "output_type": "display_data"
    },
    {
     "name": "stdout",
     "output_type": "stream",
     "text": [
      "\n"
     ]
    },
    {
     "data": {
      "application/vnd.jupyter.widget-view+json": {
       "model_id": "2ea5e6b0349b4d75bd0efa23ec7e03c2",
       "version_major": 2,
       "version_minor": 0
      },
      "text/plain": [
       "HBox(children=(HTML(value='Fitness: -9999.0'), FloatProgress(value=0.0), HTML(value='')))"
      ]
     },
     "metadata": {},
     "output_type": "display_data"
    },
    {
     "name": "stdout",
     "output_type": "stream",
     "text": [
      "\n",
      "Testing on train - A:  0.1044776119402985  B:  0.1044776119402985  Fitness:  34.467  Loss:  0.029\n",
      "Testing on test - A:  0.09411764705882354  B:  0.09411764705882354  Fitness:  44.04  Loss:  0.023\n"
     ]
    }
   ],
   "source": [
    "pso.set_search_dimensions(train_model_history.dimension_vec())\n",
    "pso.set_fitness_fn(train_model_history.evaluate_fitness)\n",
    "\n",
    "train ={\n",
    "    'scoreA' : [],\n",
    "    'scoreB' : [],\n",
    "    'fitnessList': [],\n",
    "    'lossList': []\n",
    "}\n",
    "\n",
    "test = {\n",
    "    'scoreA' : [],\n",
    "    'scoreB' : [],\n",
    "    'fitnessList': [],\n",
    "    'lossList': []\n",
    "}\n",
    "\n",
    "for i in range(10):\n",
    "    fitness = pso.run()\n",
    "    # Evaluating on training set\n",
    "    train_model.set_training_input(X_train, y_train)\n",
    "    train['fitnessList'].append(train_model.evaluate_fitness(fitness.location))\n",
    "    score = data.score(train_model, decimals, atol=0.03)\n",
    "    train['scoreA'].append(score[0])\n",
    "    train['scoreB'].append(score[1])\n",
    "    train['lossList'].append(train_model.loss)\n",
    "    # Evaluating on testing set\n",
    "    test_model.set_training_input(X_test, y_test)\n",
    "    test['fitnessList'].append(test_model.evaluate_fitness(fitness.location))\n",
    "    score = data.score(test_model, decimals, atol=0.03)\n",
    "    test['scoreA'].append(score[0])\n",
    "    test['scoreB'].append(score[1])\n",
    "    test['lossList'].append(test_model.loss)\n",
    "\n",
    "print(\"Testing on train - A: \", np.mean(train['scoreA']), \" B: \", np.mean(train['scoreB']), \" Fitness: \", round(np.mean(train['fitnessList']), 3), \" Loss: \", round(np.mean(train['lossList']), 3))\n",
    "print(\"Testing on test - A: \", np.mean(test['scoreA']), \" B: \", np.mean(test['scoreB']), \" Fitness: \", round(np.mean(test['fitnessList']), 3), \" Loss: \", round(np.mean(test['lossList']), 3))"
   ]
  },
  {
   "cell_type": "code",
   "execution_count": 9,
   "metadata": {},
   "outputs": [
    {
     "name": "stdout",
     "output_type": "stream",
     "text": [
      "Model Compiled!\n"
     ]
    }
   ],
   "source": [
    "best_model = mod.ANN()\n",
    "best_model.set_training_input(X_train, y_train)\n",
    "best_model.add(mod.Layer(4, activation=\"sigmoid\"))\n",
    "best_model.add(mod.Layer(1, activation=\"null\"))\n",
    "best_model.compile()\n"
   ]
  },
  {
   "cell_type": "code",
   "execution_count": 10,
   "metadata": {},
   "outputs": [
    {
     "name": "stdout",
     "output_type": "stream",
     "text": [
      "Testing on train - A:  0.13432835820895522  B:  0.13432835820895522  Fitness:  109.507  Loss:  0.009\n",
      "Testing on test - A:  0.17647058823529413  B:  0.17647058823529413  Fitness:  155.279  Loss:  0.006\n"
     ]
    }
   ],
   "source": [
    "best_model.decode_vec(annParams)\n",
    "best_model.one_pass()\n",
    "\n",
    "train ={\n",
    "    'scoreA' : [],\n",
    "    'scoreB' : [],\n",
    "    'fitnessList': [],\n",
    "    'lossList': []\n",
    "}\n",
    "\n",
    "test = {\n",
    "    'scoreA' : [],\n",
    "    'scoreB' : [],\n",
    "    'fitnessList': [],\n",
    "    'lossList': []\n",
    "}\n",
    "\n",
    "# Evaluating on training set\n",
    "best_model.set_training_input(X_train, y_train)\n",
    "train['fitnessList'].append(best_model.evaluate_fitness(annParams))\n",
    "score = data.score(best_model, decimals, atol=0.03)\n",
    "train['scoreA'].append(score[0])\n",
    "train['scoreB'].append(score[1])\n",
    "train['lossList'].append(best_model.loss)\n",
    "# Evaluating on testing set\n",
    "best_model.set_training_input(X_test, y_test)\n",
    "test['fitnessList'].append(best_model.evaluate_fitness(annParams))\n",
    "score = data.score(best_model, decimals, atol=0.03)\n",
    "test['scoreA'].append(score[0])\n",
    "test['scoreB'].append(score[1])\n",
    "test['lossList'].append(best_model.loss)\n",
    "\n",
    "print(\"Testing on train - A: \", np.mean(train['scoreA']), \" B: \", np.mean(train['scoreB']), \" Fitness: \", round(np.mean(train['fitnessList']), 3), \" Loss: \", round(np.mean(train['lossList']), 3))\n",
    "print(\"Testing on test - A: \", np.mean(test['scoreA']), \" B: \", np.mean(test['scoreB']), \" Fitness: \", round(np.mean(test['fitnessList']), 3), \" Loss: \", round(np.mean(test['lossList']), 3))\n"
   ]
  },
  {
   "cell_type": "code",
   "execution_count": 11,
   "metadata": {},
   "outputs": [],
   "source": [
    "mean_10_run_best_fitness, mean_10_run_best_location = train_model_history.best_particle()"
   ]
  },
  {
   "cell_type": "code",
   "execution_count": 12,
   "metadata": {},
   "outputs": [],
   "source": [
    "train_particle_fitness_dict = train_model_history.historical_particle_fitness()\n",
    "train_particle_location_dict = train_model_history.historical_particle_location()"
   ]
  },
  {
   "cell_type": "code",
   "execution_count": 13,
   "metadata": {},
   "outputs": [],
   "source": [
    "train_model_history.reshape_lists(10)\n"
   ]
  },
  {
   "cell_type": "code",
   "execution_count": 14,
   "metadata": {},
   "outputs": [
    {
     "data": {
      "image/png": "[encoded data removed]",
      "text/plain": [
       "<Figure size 432x288 with 1 Axes>"
      ]
     },
     "metadata": {
      "needs_background": "light"
     },
     "output_type": "display_data"
    },
    {
     "data": {
      "image/png": "[encoded data removed]",
      "text/plain": [
       "<Figure size 432x288 with 1 Axes>"
      ]
     },
     "metadata": {
      "needs_background": "light"
     },
     "output_type": "display_data"
    },
    {
     "data": {
      "text/plain": [
       "(None, None)"
      ]
     },
     "execution_count": 14,
     "metadata": {},
     "output_type": "execute_result"
    }
   ],
   "source": [
    "train_model_history.plot_fitness(),train_model_history.plot_mean_fitness()"
   ]
  },
  {
   "cell_type": "code",
   "execution_count": null,
   "metadata": {},
   "outputs": [],
   "source": []
  },
  {
   "cell_type": "code",
   "execution_count": 15,
   "metadata": {},
   "outputs": [
    {
     "name": "stdout",
     "output_type": "stream",
     "text": [
      "Testing on train - A:  0.13432835820895522  B:  0.13432835820895522  Fitness:  39.47  Loss:  0.025\n",
      "Testing on test - A:  0.058823529411764705  B:  0.058823529411764705  Fitness:  52.556  Loss:  0.019\n"
     ]
    }
   ],
   "source": [
    "local_best_model.decode_vec(mean_10_run_best_location)\n",
    "local_best_model.one_pass()\n",
    "\n",
    "train ={\n",
    "    'scoreA' : [],\n",
    "    'scoreB' : [],\n",
    "    'fitnessList': [],\n",
    "    'lossList': []\n",
    "}\n",
    "\n",
    "test = {\n",
    "    'scoreA' : [],\n",
    "    'scoreB' : [],\n",
    "    'fitnessList': [],\n",
    "    'lossList': []\n",
    "}\n",
    "\n",
    "# Evaluating on training set\n",
    "local_best_model.set_training_input(X_train, y_train)\n",
    "train['fitnessList'].append(local_best_model.evaluate_fitness(mean_10_run_best_location))\n",
    "score = data.score(local_best_model, decimals, atol=0.03)\n",
    "train['scoreA'].append(score[0])\n",
    "train['scoreB'].append(score[1])\n",
    "train['lossList'].append(local_best_model.loss)\n",
    "# Evaluating on testing set\n",
    "local_best_model.set_training_input(X_test, y_test)\n",
    "test['fitnessList'].append(local_best_model.evaluate_fitness(mean_10_run_best_location))\n",
    "score = data.score(local_best_model, decimals, atol=0.03)\n",
    "test['scoreA'].append(score[0])\n",
    "test['scoreB'].append(score[1])\n",
    "test['lossList'].append(local_best_model.loss)\n",
    "\n",
    "print(\"Testing on train - A: \", np.mean(train['scoreA']), \" B: \", np.mean(train['scoreB']), \" Fitness: \", round(np.mean(train['fitnessList']), 3), \" Loss: \", round(np.mean(train['lossList']), 3))\n",
    "print(\"Testing on test - A: \", np.mean(test['scoreA']), \" B: \", np.mean(test['scoreB']), \" Fitness: \", round(np.mean(test['fitnessList']), 3), \" Loss: \", round(np.mean(test['lossList']), 3))\n"
   ]
  },
  {
   "cell_type": "code",
   "execution_count": null,
   "metadata": {},
   "outputs": [],
   "source": []
  }
 ],
 "metadata": {
  "kernelspec": {
   "display_name": "Python 3",
   "language": "python",
   "name": "python3"
  },
  "language_info": {
   "codemirror_mode": {
    "name": "ipython",
    "version": 3
   },
   "file_extension": ".py",
   "mimetype": "text/x-python",
   "name": "python",
   "nbconvert_exporter": "python",
   "pygments_lexer": "ipython3",
   "version": "3.8.5"
  }
 },
 "nbformat": 4,
 "nbformat_minor": 2
}
