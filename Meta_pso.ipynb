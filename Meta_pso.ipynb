{
 "cells": [
  {
   "cell_type": "code",
   "execution_count": 35,
   "metadata": {},
   "outputs": [
    {
     "output_type": "stream",
     "name": "stdout",
     "text": [
      "The autoreload extension is already loaded. To reload it, use:\n  %reload_ext autoreload\n"
     ]
    }
   ],
   "source": [
    "import numpy as np\n",
    "from Coursework.ANNModel import model as mod\n",
    "from Coursework.ANNModel import data as d\n",
    "from Coursework.PSO import pswarm as ps\n",
    "from Coursework.PSO import psobehaviour as psh\n",
    "from Coursework.PSO import history as hs\n",
    "from sklearn.model_selection import train_test_split\n",
    "\n",
    "%load_ext autoreload\n",
    "%autoreload 2"
   ]
  },
  {
   "cell_type": "code",
   "execution_count": 36,
   "metadata": {},
   "outputs": [],
   "source": [
    "data = d.Data(\"./Data/1in_tanh.txt\")\n",
    "X = data.get_rows()\n",
    "y = data.get_output()\n",
    "X_train, X_test, y_train, y_test = train_test_split(X, y, test_size=0.33, random_state=14)"
   ]
  },
  {
   "cell_type": "code",
   "execution_count": 37,
   "metadata": {},
   "outputs": [
    {
     "output_type": "stream",
     "name": "stdout",
     "text": [
      "Model Compiled!\n"
     ]
    }
   ],
   "source": [
    "# Define a model\n",
    "model = mod.ANN()\n",
    "model.set_training_input(X_train, y_train)\n",
    "model.add(mod.Layer(4, activation=\"sigmoid\"))\n",
    "model.add(mod.Layer(1, activation=\"null\"))\n",
    "model.compile()\n",
    "\n",
    "model_record = hs.PSOFittest(model)"
   ]
  },
  {
   "cell_type": "code",
   "execution_count": 38,
   "metadata": {},
   "outputs": [],
   "source": [
    "# create a pso object\n",
    "inner_pso = ps.PSO(termination_args={'max_iter': 50}, verbose=False, num_runs=10)"
   ]
  },
  {
   "cell_type": "code",
   "execution_count": 39,
   "metadata": {},
   "outputs": [],
   "source": [
    "# Define the search dimensions and fitness function of inner_pso\n",
    "inner_pso.set_search_dimensions(model_record.dimension_vec())\n",
    "inner_pso.set_fitness_fn(model_record.evaluate_fitness)"
   ]
  },
  {
   "cell_type": "code",
   "execution_count": 40,
   "metadata": {},
   "outputs": [],
   "source": [
    "# Use PSO to optimise the hyperparameters of inner_pso\n",
    "swarm_size = 10\n",
    "iterations = 50\n",
    "\n",
    "meta_pso = ps.PSO(swarm_size=swarm_size, num_informants=6, boundary_policy=psh.BoundaryPolicy.RANDOMREINIT, termination_policy=[psh.TerminationPolicy.ITERATIONS], termination_args={'max_iter': iterations}, alpha=0.61, beta=1.3, gamma=1.4, delta=1.3, epsilon=0.6, verbose=True)"
   ]
  },
  {
   "cell_type": "code",
   "execution_count": 41,
   "metadata": {},
   "outputs": [],
   "source": [
    "pso_record = hs.PSOHistory(inner_pso, swarm_size, iterations)\n",
    "\n",
    "meta_pso.set_search_dimensions(inner_pso.dimension_vec())\n",
    "meta_pso.set_fitness_fn(inner_pso.evaluate_fitness)\n"
   ]
  },
  {
   "cell_type": "code",
   "execution_count": 42,
   "metadata": {},
   "outputs": [
    {
     "output_type": "stream",
     "name": "stderr",
     "text": [
      "Fitness: 25.520455427936067: 100%|██████████| 100.0/100 [1:09:44<00:00, 41.85s/it][55.32621771  7.52578441  0.12798331  0.72531664  1.08313114  0.29216353\n",
      "  1.3627685 ]\n",
      "25.520455427936067\n",
      "\n"
     ]
    }
   ],
   "source": [
    "# Egregiously inefficient\n",
    "\n",
    "fitness = meta_pso.run()\n",
    "print(fitness.location)\n",
    "print(fitness.fitness)"
   ]
  },
  {
   "cell_type": "code",
   "execution_count": 43,
   "metadata": {},
   "outputs": [
    {
     "output_type": "stream",
     "name": "stdout",
     "text": [
      "25.520455427936067\n"
     ]
    },
    {
     "output_type": "execute_result",
     "data": {
      "text/plain": [
       "array([55.32621771,  7.52578441,  0.12798331,  0.72531664,  1.08313114,\n",
       "        0.29216353,  1.3627685 ])"
      ]
     },
     "metadata": {},
     "execution_count": 43
    }
   ],
   "source": [
    "\n",
    "print(fitness.fitness)\n",
    "fitness.location"
   ]
  },
  {
   "cell_type": "markdown",
   "metadata": {},
   "source": [
    "### Experiment results - best PSO hyperparameters\n",
    "#### These hyperparameters were found using a neural network with 1 hidden layer with 4 neurons and a single neuron output layer.\n"
   ]
  },
  {
   "cell_type": "code",
   "execution_count": 44,
   "metadata": {},
   "outputs": [],
   "source": [
    "# Cubic (10 runs) mean fitness: 36.35011784882427\n",
    "Cubic_pso_config_mean = [90.38687483,  5.98667815,  1.08064781,  1.46586089,  0.53518642, 1.09814992,  1.47658579]\n",
    "\n",
    "# Linear (10 runs) mean fintess: 1103190071387.8752\n",
    "Linear_pso_config_mean = [85.37707185,  6.86909089,  0.51382895,  0.9798064,  0.12477974, 0.59493009,  0.89702589]\n",
    "\n",
    "# Tanh (10 runs) mean fitness: 25.520455427936067\n",
    "Tanh_pso_config_mean = [55.32621771,  7.52578441,  0.12798331,  0.72531664,  1.08313114, 0.29216353,  1.3627685 ]\n",
    "\n",
    "# Sine (10 runs) mean fitness: \n",
    "Sine_pso_config_mean = []\n",
    "\n",
    "# Complex (10 runs) mean fitness: \n",
    "Complex_pso_config_mean = []\n",
    "\n",
    "# Xor (10 runs) mean fitness: \n",
    "Xor_pso_config_mean = []\n"
   ]
  },
  {
   "cell_type": "markdown",
   "metadata": {},
   "source": [
    "### Experiment results - best ANN hyperparameters\n",
    "#### These represent the single highest scoring hyperparameters for each dataset from the above experiment"
   ]
  },
  {
   "cell_type": "code",
   "execution_count": 45,
   "metadata": {},
   "outputs": [],
   "source": [
    "# Cubic Most fit model: 55.21568414718436\n",
    "Cubic_ann_params = np.array([ 4.78225917, -0.45809605, -0.21994928,  0.81358392,  0.18922872,\n",
    "        0.70214767, -0.81948744,  0.71403473, -0.02265093,  0.26644057,\n",
    "       -0.60531157,  0.69434508, -0.44034252,  0.64224264,  0.7446249])\n",
    "\n",
    "# Linear Most fit model: 10965948279221.076\n",
    "Linear_ann_params = np.array([ 0.15520314,  0.2222954 ,  0.47238101, -0.83439247, -0.27726962,\n",
    "        0.11339216, -0.7816949 , -0.79196132, -0.3392678 ,  0.41548984,\n",
    "       -0.08055252,  0.12817675, -0.71425698, -0.21576561, -0.7553213 ])\n",
    "\n",
    "# Tanh Most fit model: 39.38730853575883\n",
    "Tanh_ann_params = np.array([ 0.09854553,  0.39395654, -0.33737974, -0.12358008,  0.4334227 ,\n",
    "       -0.98235414, -0.99205521,  0.98638961, -0.97515305,  2.33845816,\n",
    "        0.51783499, -0.96708832, -0.9922467 ,  0.9696207 , -0.99365926])\n",
    "\n",
    "# Sine Most fit model: \n",
    "Sine_ann_params = np.array([])\n",
    "\n",
    "# Complex Most fit model: \n",
    "Complex_ann_params = np.array([])\n",
    "\n",
    "# Xor Most fit model: \n",
    "Xor_ann_params = np.array([])"
   ]
  },
  {
   "cell_type": "code",
   "execution_count": 46,
   "metadata": {},
   "outputs": [
    {
     "output_type": "execute_result",
     "data": {
      "text/plain": [
       "39.38730853575883"
      ]
     },
     "metadata": {},
     "execution_count": 46
    }
   ],
   "source": [
    "model_record.fitness"
   ]
  },
  {
   "cell_type": "code",
   "execution_count": 47,
   "metadata": {},
   "outputs": [
    {
     "output_type": "execute_result",
     "data": {
      "text/plain": [
       "array([ 0.09854553,  0.39395654, -0.33737974, -0.12358008,  0.4334227 ,\n",
       "       -0.98235414, -0.99205521,  0.98638961, -0.97515305,  2.33845816,\n",
       "        0.51783499, -0.96708832, -0.9922467 ,  0.9696207 , -0.99365926])"
      ]
     },
     "metadata": {},
     "execution_count": 47
    }
   ],
   "source": [
    "model_record.vec"
   ]
  },
  {
   "cell_type": "code",
   "execution_count": null,
   "metadata": {},
   "outputs": [],
   "source": []
  }
 ],
 "metadata": {
  "kernelspec": {
   "display_name": "Python 3",
   "language": "python",
   "name": "python3"
  },
  "language_info": {
   "codemirror_mode": {
    "name": "ipython",
    "version": 3
   },
   "file_extension": ".py",
   "mimetype": "text/x-python",
   "name": "python",
   "nbconvert_exporter": "python",
   "pygments_lexer": "ipython3",
   "version": "3.8.5-final"
  }
 },
 "nbformat": 4,
 "nbformat_minor": 4
}