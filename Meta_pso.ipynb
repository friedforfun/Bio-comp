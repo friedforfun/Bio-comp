{
 "cells": [
  {
   "cell_type": "code",
   "execution_count": 1,
   "metadata": {},
   "outputs": [],
   "source": [
    "import numpy as np\n",
    "from Coursework.ANNModel import model as mod\n",
    "from Coursework.ANNModel import data as d\n",
    "from Coursework.PSO import pswarm as ps\n",
    "from Coursework.PSO import psobehaviour as psh\n",
    "from Coursework.PSO import history as hs\n",
    "from sklearn.model_selection import train_test_split\n",
    "\n",
    "%load_ext autoreload\n",
    "%autoreload 2"
   ]
  },
  {
   "cell_type": "code",
   "execution_count": 2,
   "metadata": {},
   "outputs": [],
   "source": [
    "data = d.Data(\"./Data/2in_xor.txt\")\n",
    "X = data.get_rows()\n",
    "y = data.get_output()\n",
    "X_train, X_test, y_train, y_test = train_test_split(X, y, test_size=0.33, random_state=14)"
   ]
  },
  {
   "cell_type": "code",
   "execution_count": 3,
   "metadata": {},
   "outputs": [
    {
     "name": "stdout",
     "output_type": "stream",
     "text": [
      "Model Compiled!\n"
     ]
    }
   ],
   "source": [
    "# Define a model\n",
    "model = mod.ANN()\n",
    "model.set_training_input(X_train, y_train)\n",
    "model.add(mod.Layer(4, activation=\"sigmoid\"))\n",
    "model.add(mod.Layer(1, activation=\"null\"))\n",
    "model.compile()\n",
    "\n",
    "model_record = hs.PSOFittest(model)"
   ]
  },
  {
   "cell_type": "code",
   "execution_count": 4,
   "metadata": {},
   "outputs": [],
   "source": [
    "# create a pso object\n",
    "inner_pso = ps.PSO(termination_args={'max_iter': 50}, verbose=False, num_runs=10)"
   ]
  },
  {
   "cell_type": "code",
   "execution_count": 5,
   "metadata": {},
   "outputs": [],
   "source": [
    "# Define the search dimensions and fitness function of inner_pso\n",
    "inner_pso.set_search_dimensions(model_record.dimension_vec())\n",
    "inner_pso.set_fitness_fn(model_record.evaluate_fitness)"
   ]
  },
  {
   "cell_type": "code",
   "execution_count": 6,
   "metadata": {},
   "outputs": [],
   "source": [
    "# Use PSO to optimise the hyperparameters of inner_pso\n",
    "swarm_size = 10\n",
    "iterations = 50\n",
    "\n",
    "meta_pso = ps.PSO(swarm_size=swarm_size, num_informants=6, boundary_policy=psh.BoundaryPolicy.RANDOMREINIT, termination_policy=[psh.TerminationPolicy.ITERATIONS], termination_args={'max_iter': iterations}, alpha=0.61, beta=1.3, gamma=1.4, delta=1.3, epsilon=0.6, verbose=True)"
   ]
  },
  {
   "cell_type": "code",
   "execution_count": 7,
   "metadata": {},
   "outputs": [],
   "source": [
    "pso_record = hs.PSOHistory(inner_pso, swarm_size, iterations)\n",
    "\n",
    "meta_pso.set_search_dimensions(pso_record.dimension_vec())\n",
    "meta_pso.set_fitness_fn(pso_record.evaluate_fitness)\n"
   ]
  },
  {
   "cell_type": "code",
   "execution_count": null,
   "metadata": {},
   "outputs": [
    {
     "data": {
      "application/vnd.jupyter.widget-view+json": {
       "model_id": "3977ac2ba2d842c6bd4e3be68de42d03",
       "version_major": 2,
       "version_minor": 0
      },
      "text/plain": [
       "HBox(children=(HTML(value='Fitness: -9999.0'), FloatProgress(value=0.0), HTML(value='')))"
      ]
     },
     "metadata": {},
     "output_type": "display_data"
    }
   ],
   "source": [
    "# Egregiously inefficient\n",
    "\n",
    "fitness = meta_pso.run()\n",
    "print(fitness.location)\n",
    "print(fitness.fitness)"
   ]
  },
  {
   "cell_type": "code",
   "execution_count": null,
   "metadata": {},
   "outputs": [],
   "source": [
    "\n",
    "print(fitness.fitness)\n",
    "fitness.location"
   ]
  },
  {
   "cell_type": "markdown",
   "metadata": {},
   "source": [
    "### Experiment results - best PSO hyperparameters\n",
    "#### These hyperparameters were found using a neural network with 1 hidden layer with 4 neurons and a single neuron output layer.\n"
   ]
  },
  {
   "cell_type": "code",
   "execution_count": null,
   "metadata": {},
   "outputs": [],
   "source": [
    "# Cubic (10 runs) mean fitness: \n",
    "Cubic_pso_config_mean = []\n",
    "\n",
    "# Linear (10 runs) mean fintess:\n",
    "Linear_pso_config_mean = []\n",
    "\n",
    "# Tanh (10 runs) mean fitness: \n",
    "Tanh_pso_config_mean = []\n",
    "\n",
    "# Sine (10 runs) mean fitness: \n",
    "Sine_pso_config_mean = []\n",
    "\n",
    "# Complex (10 runs) mean fitness: \n",
    "Complex_pso_config_mean = []\n",
    "\n",
    "# Xor (10 runs) mean fitness: \n",
    "Xor_pso_config_mean = []\n"
   ]
  },
  {
   "cell_type": "markdown",
   "metadata": {},
   "source": [
    "### Experiment results - best ANN hyperparameters\n",
    "#### These represent the single highest scoring hyperparameters for each dataset from the above experiment"
   ]
  },
  {
   "cell_type": "code",
   "execution_count": null,
   "metadata": {},
   "outputs": [],
   "source": [
    "# Cubic Most fit model: \n",
    "Cubic_ann_params = np.array([])\n",
    "\n",
    "# Linear Most fit model: \n",
    "Linear_ann_params = np.array([])\n",
    "\n",
    "# Tanh Most fit model: \n",
    "Tanh_ann_params = np.array([])\n",
    "\n",
    "# Sine Most fit model: \n",
    "Sine_ann_params = np.array([])\n",
    "\n",
    "# Complex Most fit model: \n",
    "Complex_ann_params = np.array([])\n",
    "\n",
    "# Xor Most fit model: \n",
    "Xor_ann_params = np.array([])"
   ]
  },
  {
   "cell_type": "code",
   "execution_count": null,
   "metadata": {},
   "outputs": [],
   "source": [
    "model_record.fitness"
   ]
  },
  {
   "cell_type": "code",
   "execution_count": null,
   "metadata": {},
   "outputs": [],
   "source": [
    "model_record.vec"
   ]
  },
  {
   "cell_type": "code",
   "execution_count": null,
   "metadata": {},
   "outputs": [],
   "source": []
  }
 ],
 "metadata": {
  "kernelspec": {
   "display_name": "Python 3",
   "language": "python",
   "name": "python3"
  },
  "language_info": {
   "codemirror_mode": {
    "name": "ipython",
    "version": 3
   },
   "file_extension": ".py",
   "mimetype": "text/x-python",
   "name": "python",
   "nbconvert_exporter": "python",
   "pygments_lexer": "ipython3",
   "version": "3.8.5"
  }
 },
 "nbformat": 4,
 "nbformat_minor": 4
}
