{
 "cells": [
  {
   "cell_type": "code",
   "execution_count": 4,
   "metadata": {},
   "outputs": [
    {
     "output_type": "stream",
     "name": "stdout",
     "text": [
      "The autoreload extension is already loaded. To reload it, use:\n  %reload_ext autoreload\n"
     ]
    }
   ],
   "source": [
    "import numpy as np\n",
    "from Coursework.ANNModel import model as mod\n",
    "from Coursework.ANNModel import data as d\n",
    "from Coursework.PSO import pswarm as ps\n",
    "from Coursework.PSO import psobehaviour as psh\n",
    "from Coursework.PSO import history as hs\n",
    "from sklearn.model_selection import train_test_split\n",
    "\n",
    "%load_ext autoreload\n",
    "%autoreload 2"
   ]
  },
  {
   "cell_type": "code",
   "execution_count": 5,
   "metadata": {},
   "outputs": [],
   "source": [
    "data = d.Data(\"./Data/2in_xor.txt\")\n",
    "X = data.get_rows()\n",
    "y = data.get_output()\n",
    "X_train, X_test, y_train, y_test = train_test_split(X, y, test_size=0.33, random_state=14)"
   ]
  },
  {
   "cell_type": "code",
   "execution_count": 6,
   "metadata": {},
   "outputs": [
    {
     "output_type": "stream",
     "name": "stdout",
     "text": [
      "Model Compiled!\n"
     ]
    }
   ],
   "source": [
    "# Define a model\n",
    "model = mod.ANN()\n",
    "model.set_training_input(X_train, y_train)\n",
    "model.add(mod.Layer(4, activation=\"sigmoid\"))\n",
    "model.add(mod.Layer(1, activation=\"null\"))\n",
    "model.compile()\n",
    "\n",
    "model_record = hs.PSOFittest(model)"
   ]
  },
  {
   "cell_type": "code",
   "execution_count": 7,
   "metadata": {},
   "outputs": [],
   "source": [
    "# create a pso object\n",
    "inner_pso = ps.PSO(swarm_size=10, num_informants=6, boundary_policy=psh.BoundaryPolicy.RANDOMREINIT, termination_policy=[psh.TerminationPolicy.ITERATIONS], termination_args={'max_iter': 50}, alpha=0.61, beta=1.3, gamma=1.4, delta=1.3, epsilon=0.6, verbose=False, num_runs=10)"
   ]
  },
  {
   "cell_type": "code",
   "execution_count": 8,
   "metadata": {},
   "outputs": [],
   "source": [
    "# Define the search dimensions and fitness function of inner_pso\n",
    "inner_pso.set_search_dimensions(model_record.dimension_vec())\n",
    "inner_pso.set_fitness_fn(model_record.evaluate_fitness)"
   ]
  },
  {
   "cell_type": "code",
   "execution_count": 9,
   "metadata": {},
   "outputs": [],
   "source": [
    "# Use PSO to optimise the hyperparameters of inner_pso\n",
    "swarm_size = 10\n",
    "iterations = 50\n",
    "\n",
    "meta_pso = ps.PSO(swarm_size=swarm_size, num_informants=6, boundary_policy=psh.BoundaryPolicy.RANDOMREINIT, termination_policy=[psh.TerminationPolicy.ITERATIONS], termination_args={'max_iter': iterations}, alpha=0.61, beta=1.3, gamma=1.4, delta=1.3, epsilon=0.6, verbose=True)"
   ]
  },
  {
   "cell_type": "code",
   "execution_count": 10,
   "metadata": {},
   "outputs": [],
   "source": [
    "pso_record = hs.PSOHistory(inner_pso, swarm_size, iterations)\n",
    "\n",
    "meta_pso.set_search_dimensions(inner_pso.dimension_vec())\n",
    "meta_pso.set_fitness_fn(inner_pso.evaluate_fitness)\n"
   ]
  },
  {
   "cell_type": "code",

   "execution_count": 8,
   "metadata": {},
   "outputs": [
    {
     "data": {
      "application/vnd.jupyter.widget-view+json": {
       "model_id": "b802f47cb5f045b382b527cde22e8f18",
       "version_major": 2,
       "version_minor": 0
      },
      "text/plain": [
       "HBox(children=(HTML(value='Fitness: -9999.0'), FloatProgress(value=0.0), HTML(value='')))"
      ]
     },
     "metadata": {},
     "output_type": "display_data"
    },
    {
     "name": "stdout",
     "output_type": "stream",
     "text": [
      "\n",
      "[8.99258905e+01 5.57111071e+00 5.69030292e-01 3.38835134e-02\n",
      " 1.24389435e+00 1.35151796e+00 4.87958932e-01]\n",
      "13.046321678506308\n"
     ]
    }
   ],
   "source": [
    "# Egregiously inefficient\n",
    "\n",
    "fitness = meta_pso.run()\n",
    "print(fitness.location)\n",
    "print(fitness.fitness)"
   ]
  },
  {
   "cell_type": "code",

   "execution_count": 9,
   "metadata": {},
   "outputs": [
    {
     "name": "stdout",
     "output_type": "stream",
     "text": [
      "13.046321678506308\n"
     ]
    },
    {
     "data": {
      "text/plain": [
       "array([8.99258905e+01, 5.57111071e+00, 5.69030292e-01, 3.38835134e-02,\n",
       "       1.24389435e+00, 1.35151796e+00, 4.87958932e-01])"
      ]
     },
     "execution_count": 9,
     "metadata": {},
     "output_type": "execute_result"
    }
   ],
   "source": [
    "\n",
    "print(fitness.fitness)\n",
    "fitness.location"
   ]
  },
  {
   "cell_type": "markdown",
   "metadata": {},
   "source": [
    "### Experiment results - best PSO hyperparameters\n",
    "#### These hyperparameters were found using a neural network with 1 hidden layer with 4 neurons and a single neuron output layer.\n"
   ]
  },
  {
   "cell_type": "code",

   "metadata": {},
   "outputs": [],
   "source": [
    "# Cubic (10 runs) mean fitness: 252\n",
    "Cubic_pso_config_mean = [65.07982407, 4.95690714, 0.28949701, 0.54421663, 0.39890445, 1.42315492, 1.18854163]\n",
    "\n",
    "# Linear (10 runs) mean fintess: 9.17486598344206e+24\n",
    "Linear_pso_config_mean = [75.13534983, 6.59595661, 0.15486748, 0.63274028, 0.93549642, 1.5667033, 0.48415203]\n",
    "\n",
    "# Tanh (10 runs) mean fitness: 23659 \n",
    "Tanh_pso_config_mean = [54.98334367, 6.41212707, 0.59507185, 1.23273439, 1.68258425, 1.01222575, 0.19820747]\n",
    "\n",
    "# Xor (10 runs) mean fitness 873815265613870.6\n",
    "Xor_pso_config_mean = [8.64423020e+01, 6.33181111e+00, 7.82660047e-02, 1.43692310e+00, 1.70649966e+00, 1.06783274e+00, 5.57344119e-01]\n"
    "# Sine (10 runs) mean fitness: 71\n",
    "Sine_pso_config_mean = [72.77234021, 6.72388576, 0.60373995, 0.38615018, 1.022057, 0.86230487, 0.59935222]\n",
    "\n",
    "# Complex (10 runs) mean fitness: 13\n",
    "Complex_pso_config_mean = [8.99258905e+01, 5.57111071e+00, 5.69030292e-01, 3.38835134e-02, 1.24389435e+00, 1.35151796e+00, 4.87958932e-01]\n"
   ]
  },
  {
   "cell_type": "markdown",
   "metadata": {},
   "source": [
    "### Experiment results - best ANN hyperparameters\n",
    "#### These represent the single highest scoring hyperparameters for each dataset from the above experiment"
   ]
  },
  {
   "cell_type": "code",

   "metadata": {},
   "outputs": [],
   "source": [
    "# Cubic Most fit model: 4436\n",
    "Cubic_ann_params = np.array([ 4.06948631e+00, -7.29125756e-01,  5.73721712e-01, -4.97778569e-01, 1.21867021e-01, -4.07830431e-01,  9.23118308e-01,  9.96763804e-01, -3.53176479e-01,  2.82162360e+00, -6.77411971e-01, -6.33183382e-01, 3.17935306e-01, -1.91733120e-01,  2.57710600e-03])\n",
    "\n",
    "# Linear Most fit model: 9.17486598344206e+25\n",
    "Linear_ann_params = np.array([0.33653903, 0.62395429, 0.38036724,-0.73197691, 0.27957089, -0.44447831, 0.90125204, -0.72400064, -0.73325263, 0.2053941, -0.37270846, 0.1568939, 0.4157871, -0.37861424, -0.57400409])\n",
    "\n",
    "# Tanh Most fit model: 236154\n",
    "Tanh_ann_params = np.array([4.30993349, 0.2291253, -0.99626464, -0.29776704,  0.99032436, 0.54519926, 0.98178641, -0.06046016, 0.9675356, 2.17890815, -0.49269196, -0.29330431, -0.94045692, 0.72556016, 0.95398864])\n",
    "\n",
    "# Sine Most fit model: 488\n",
    "Sine_ann_params = np.array([ 4.34214646, -0.37620669, -0.1737171 ,  0.98924977,  0.94187429, -0.35848436,  0.03053108,  0.31920693, -0.32693426,  2.7825707, -0.7316042, -0.33840137, -0.59207658, -0.77175905, 0.91605957])\n",
    "\n",
    "Complex_ann_params = np.array([ 3.90353086, 0.38052382, -0.55386827, 0.08622513, -0.44906989, 0.61901606, -0.87650059, -0.625452, -0.98830069, 0.85692286, 0.01958315, -0.2346267, 0.35945306, 1.73135609, -0.28885139, 0.0893994 , -0.47053919,  0.00421956, 0.40903142])"
    "\n"
    "# Xor Most fit model: 8738152656138548\n",
    "Xor_ann_params = np.array([ 4.02523790e+00,  6.23414094e-01,  9.76014400e-03,  2.37501907e-01, 1.61720158e-01, -4.58494817e-01,  5.43701583e-01,  1.31984645e-03, 4.74499415e-01, -8.82859850e-01, -1.29200272e-01, -3.78243447e-01, -9.62890568e-01,  3.54267095e-01, -4.41831336e-01, -9.22734200e-01, 6.87573835e-01,  3.54729391e-01,  7.20793804e-01])"
   ]
  },
  {
   "cell_type": "code",

   "execution_count": 12,
   "metadata": {},
   "outputs": [
    {
     "data": {
      "text/plain": [
       "20.17067847387637"
      ]
     },
     "execution_count": 12,
     "metadata": {},
     "output_type": "execute_result"
    }
   ],
   "source": [
    "model_record.fitness"
   ]
  },
  {
   "cell_type": "code",

   "execution_count": 13,
   "metadata": {},
   "outputs": [
    {
     "data": {
      "text/plain": [
       "array([ 3.90353086,  0.38052382, -0.55386827,  0.08622513, -0.44906989,\n",
       "        0.61901606, -0.87650059, -0.625452  , -0.98830069,  0.85692286,\n",
       "        0.01958315, -0.2346267 ,  0.35945306,  1.73135609, -0.28885139,\n",
       "        0.0893994 , -0.47053919,  0.00421956,  0.40903142])"
      ]
     },
     "execution_count": 13,
     "metadata": {},
     "output_type": "execute_result"
    }
   ],
   "source": [
    "model_record.vec"
   ]
  },
  {
   "cell_type": "code",
   "execution_count": null,
   "metadata": {},
   "outputs": [],
   "source": []
  }
 ],
 "metadata": {
  "kernelspec": {
   "name": "python3",
   "display_name": "Python 3.8.5 64-bit ('bio': conda)",
   "metadata": {
    "interpreter": {
     "hash": "7e8532fd3d680e0c71c3bcfe5fb0d3d9d48fe46e1b9f5ca642e07413cb854ca5"
    }
   }
  },
  "language_info": {
   "codemirror_mode": {
    "name": "ipython",
    "version": 3
   },
   "file_extension": ".py",
   "mimetype": "text/x-python",
   "name": "python",
   "nbconvert_exporter": "python",
   "pygments_lexer": "ipython3",
   "version": "3.8.5-final"
  }
 },
 "nbformat": 4,
 "nbformat_minor": 4
}
