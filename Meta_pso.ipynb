{
 "cells": [
  {
   "cell_type": "code",
   "execution_count": 1,
   "metadata": {},
   "outputs": [
    {
     "name": "stderr",
     "output_type": "stream",
     "text": [
      "D:\\GitProjects\\Bio-comp\\Coursework\\ANNModel\\model.py:5: TqdmExperimentalWarning: Using `tqdm.autonotebook.tqdm` in notebook mode. Use `tqdm.tqdm` instead to force console mode (e.g. in jupyter console)\n",
      "  from tqdm.autonotebook import tqdm\n"
     ]
    }
   ],
   "source": [
    "import numpy as np\n",
    "from Coursework.ANNModel import model as mod\n",
    "from Coursework.ANNModel import data as d\n",
    "from Coursework.PSO import pswarm as ps\n",
    "from Coursework.PSO import psobehaviour as psh\n",
    "from Coursework.PSO import history as hs\n",
    "from sklearn.model_selection import train_test_split\n",
    "\n",
    "%load_ext autoreload\n",
    "%autoreload 2"
   ]
  },
  {
   "cell_type": "code",
   "execution_count": 2,
   "metadata": {},
   "outputs": [],
   "source": [
    "data = d.Data(\"./Data/1in_linear.txt\")\n",
    "X = data.get_rows()\n",
    "y = data.get_output()\n",
    "X_train, X_test, y_train, y_test = train_test_split(X, y, test_size=0.33, random_state=14)"
   ]
  },
  {
   "cell_type": "code",
   "execution_count": 3,
   "metadata": {},
   "outputs": [
    {
     "name": "stdout",
     "output_type": "stream",
     "text": [
      "Model Compiled!\n"
     ]
    }
   ],
   "source": [
    "# Define a model\n",
    "model = mod.ANN()\n",
    "model.set_training_input(X_train, y_train)\n",
    "model.add(mod.Layer(4, activation=\"sigmoid\"))\n",
    "model.add(mod.Layer(1, activation=\"null\"))\n",
    "model.compile()\n",
    "\n",
    "model_record = hs.PSOFittest(model)"
   ]
  },
  {
   "cell_type": "code",
   "execution_count": 4,
   "metadata": {},
   "outputs": [],
   "source": [
    "# create a pso object\n",
    "inner_pso = ps.PSO(swarm_size=10, num_informants=6, boundary_policy=psh.BoundaryPolicy.RANDOMREINIT, termination_policy=[psh.TerminationPolicy.ITERATIONS], termination_args={'max_iter': 50}, alpha=0.61, beta=1.3, gamma=1.4, delta=1.3, epsilon=0.6, verbose=False, num_runs=10)"
   ]
  },
  {
   "cell_type": "code",
   "execution_count": 5,
   "metadata": {},
   "outputs": [],
   "source": [
    "# Define the search dimensions and fitness function of inner_pso\n",
    "inner_pso.set_search_dimensions(model_record.dimension_vec())\n",
    "inner_pso.set_fitness_fn(model_record.evaluate_fitness)"
   ]
  },
  {
   "cell_type": "code",
   "execution_count": 6,
   "metadata": {},
   "outputs": [],
   "source": [
    "# Use PSO to optimise the hyperparameters of inner_pso\n",
    "swarm_size = 10\n",
    "iterations = 50\n",
    "\n",
    "meta_pso = ps.PSO(swarm_size=swarm_size, num_informants=6, boundary_policy=psh.BoundaryPolicy.RANDOMREINIT, termination_policy=[psh.TerminationPolicy.ITERATIONS], termination_args={'max_iter': iterations}, alpha=0.61, beta=1.3, gamma=1.4, delta=1.3, epsilon=0.6, verbose=True)"
   ]
  },
  {
   "cell_type": "code",
   "execution_count": 7,
   "metadata": {},
   "outputs": [],
   "source": [
    "pso_record = hs.PSOHistory(inner_pso, swarm_size, iterations)\n",
    "\n",
    "meta_pso.set_search_dimensions(inner_pso.dimension_vec())\n",
    "meta_pso.set_fitness_fn(inner_pso.evaluate_fitness)\n"
   ]
  },
  {
   "cell_type": "code",
   "execution_count": 8,
   "metadata": {},
   "outputs": [
    {
     "data": {
      "application/vnd.jupyter.widget-view+json": {
       "model_id": "757f2804697e4642863df5586730907f",
       "version_major": 2,
       "version_minor": 0
      },
      "text/plain": [
       "HBox(children=(HTML(value='Fitness: -9999.0'), FloatProgress(value=0.0), HTML(value='')))"
      ]
     },
     "metadata": {},
     "output_type": "display_data"
    },
    {
     "name": "stdout",
     "output_type": "stream",
     "text": [
      "\n",
      "[65.07982407  4.95690714  0.28949701  0.54421663  0.39890445  1.42315492\n",
      "  1.18854163]\n",
      "252.39166774852652\n"
     ]
    }
   ],
   "source": [
    "# Egregiously inefficient\n",
    "\n",
    "fitness = meta_pso.run()\n",
    "print(fitness.location)\n",
    "print(fitness.fitness)"
   ]
  },
  {
   "cell_type": "code",
   "execution_count": 9,
   "metadata": {},
   "outputs": [
    {
     "name": "stdout",
     "output_type": "stream",
     "text": [
      "252.39166774852652\n"
     ]
    },
    {
     "data": {
      "text/plain": [
       "array([65.07982407,  4.95690714,  0.28949701,  0.54421663,  0.39890445,\n",
       "        1.42315492,  1.18854163])"
      ]
     },
     "execution_count": 9,
     "metadata": {},
     "output_type": "execute_result"
    }
   ],
   "source": [
    "\n",
    "print(fitness.fitness)\n",
    "fitness.location"
   ]
  },
  {
   "cell_type": "code",
   "execution_count": 10,
   "metadata": {},
   "outputs": [],
   "source": [
    "# Cubic (10 runs) mean fitness: 252\n",
    "Cubic_pso_config_mean = [65.07982407, 4.95690714, 0.28949701, 0.54421663, 0.39890445, 1.42315492, 1.18854163]\n",
    "\n",
    "\n",
    "\n",
    "# Tanh (10 runs) mean fitness: 726 \n",
    "Tanh_pso_config_mean = [57.81506585, 4.49521216, 0.14795705, 1.12579856, 0.3560856 , 1.03022577, 1.22604699]\n",
    "\n",
    "\n"
   ]
  },
  {
   "cell_type": "code",
   "execution_count": 11,
   "metadata": {},
   "outputs": [],
   "source": [
    "Cubic_config = [87.89778055, 6.49863902, 1.75988205, 1.49289439, 1.01223157, 1.59668149, 1.2725761] #Fitness: 1248\n",
    "Linear_config = [6.19884153e+01, 6.19329219e+00, 2.82994987e-02, 9.33192720e-01, 9.06362957e-01, 1.09817852e+00, 1.05772006e+00] # Fitness: 552335863302\n",
    "Sine_config = [81.06057318, 5.95964172, 0.53052416, 0.74490966, 1.33496379, 1.03351271, 0.55462578] # Fitness: 348\n",
    "Tanh_config = [64.45651991,  6.25238014,  0.57690358,  1.25084245,  0.93161939, 0.55929343,  0.53392325] # Fitness: 20498\n"
   ]
  },
  {
   "cell_type": "code",
   "execution_count": 12,
   "metadata": {},
   "outputs": [
    {
     "data": {
      "text/plain": [
       "2162.629575606629"
      ]
     },
     "execution_count": 12,
     "metadata": {},
     "output_type": "execute_result"
    }
   ],
   "source": [
    "model_record.fitness"
   ]
  },
  {
   "cell_type": "code",
   "execution_count": 13,
   "metadata": {},
   "outputs": [
    {
     "data": {
      "text/plain": [
       "array([ 4.09745797, -0.3750161 ,  0.86469061,  0.40206354, -0.32670384,\n",
       "       -0.96703603,  0.53198094, -0.95775048, -0.03575204,  2.90430462,\n",
       "       -0.36136225,  0.66154362, -0.38193923, -0.34284105, -0.66300857])"
      ]
     },
     "execution_count": 13,
     "metadata": {},
     "output_type": "execute_result"
    }
   ],
   "source": [
    "model_record.vec"
   ]
  },
  {
   "cell_type": "code",
   "execution_count": null,
   "metadata": {},
   "outputs": [],
   "source": []
  }
 ],
 "metadata": {
  "kernelspec": {
   "display_name": "Python 3",
   "language": "python",
   "name": "python3"
  },
  "language_info": {
   "codemirror_mode": {
    "name": "ipython",
    "version": 3
   },
   "file_extension": ".py",
   "mimetype": "text/x-python",
   "name": "python",
   "nbconvert_exporter": "python",
   "pygments_lexer": "ipython3",
   "version": "3.8.5"
  }
 },
 "nbformat": 4,
 "nbformat_minor": 4
}
