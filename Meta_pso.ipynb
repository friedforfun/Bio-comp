{
 "cells": [
  {
   "cell_type": "code",
   "execution_count": 35,
   "metadata": {},
   "outputs": [
    {
     "output_type": "stream",
     "name": "stdout",
     "text": [
      "The autoreload extension is already loaded. To reload it, use:\n  %reload_ext autoreload\n"
     ]
    }
   ],
   "source": [
    "import numpy as np\n",
    "from Coursework.ANNModel import model as mod\n",
    "from Coursework.ANNModel import data as d\n",
    "from Coursework.PSO import pswarm as ps\n",
    "from Coursework.PSO import psobehaviour as psh\n",
    "from Coursework.PSO import history as hs\n",
    "from sklearn.model_selection import train_test_split\n",
    "\n",
    "%load_ext autoreload\n",
    "%autoreload 2"
   ]
  },
  {
   "cell_type": "markdown",
   "metadata": {},
   "source": [
    "## Prepare data and models\n",
    "### Import and split the data into train and test using sklearn"
   ]
  },
  {
   "cell_type": "code",
   "execution_count": 36,
   "metadata": {},
   "outputs": [],
   "source": [
    "data = d.Data(\"./Data/1in_tanh.txt\")\n",
    "X = data.get_rows()\n",
    "y = data.get_output()\n",
    "X_train, X_test, y_train, y_test = train_test_split(X, y, test_size=0.33, random_state=14)"
   ]
  },
  {
   "cell_type": "markdown",
   "metadata": {},
   "source": [
    "### Define a model for the tests\n",
    "#### Also use the PSOFittest class to store the best ANN hyperparameters found in this experiment"
   ]
  },
  {
   "cell_type": "code",
   "execution_count": 37,
   "metadata": {},
   "outputs": [
    {
     "output_type": "stream",
     "name": "stdout",
     "text": [
      "Model Compiled!\n"
     ]
    }
   ],
   "source": [
    "model = mod.ANN()\n",
    "model.set_training_input(X_train, y_train)\n",
    "model.add(mod.Layer(4, activation=\"sigmoid\"))\n",
    "model.add(mod.Layer(1, activation=\"null\"))\n",
    "model.compile()\n",
    "\n",
    "model_record = hs.PSOFittest(model)"
   ]
  },
  {
   "cell_type": "markdown",
   "metadata": {},
   "source": [
    "### Instantiate a PSO object that will optimise the ANN model"
   ]
  },
  {
   "cell_type": "code",
   "execution_count": 38,
   "metadata": {},
   "outputs": [],
   "source": [
    "# create a pso object\n",
    "inner_pso = ps.PSO(termination_args={'max_iter': 50}, verbose=False, num_runs=10)"
   ]
  },
  {
   "cell_type": "markdown",
   "metadata": {},
   "source": [
    "#### Configure the inner_pso optimizers search space and fitness function"
   ]
  },
  {
   "cell_type": "code",
   "execution_count": 39,
   "metadata": {},
   "outputs": [],
   "source": [
    "# Define the search dimensions and fitness function of inner_pso\n",
    "inner_pso.set_search_dimensions(model_record.dimension_vec())\n",
    "inner_pso.set_fitness_fn(model_record.evaluate_fitness)"
   ]
  },
  {
   "cell_type": "markdown",
   "metadata": {},
   "source": [
    "### Instantiate a PSO object that will attempt to optimise the inner_pso object"
   ]
  },
  {
   "cell_type": "code",
   "execution_count": 40,
   "metadata": {},
   "outputs": [],
   "source": [
    "# Use PSO to optimise the hyperparameters of inner_pso\n",
    "swarm_size = 10\n",
    "iterations = 50\n",
    "\n",
    "meta_pso = ps.PSO(swarm_size=swarm_size, num_informants=6, boundary_policy=psh.BoundaryPolicy.RANDOMREINIT, termination_policy=[psh.TerminationPolicy.ITERATIONS], termination_args={'max_iter': iterations}, alpha=0.61, beta=1.3, gamma=1.4, delta=1.3, epsilon=0.6, verbose=True)"
   ]
  },
  {
   "cell_type": "markdown",
   "metadata": {},
   "source": [
    "#### Use the PSOHistory class to record each PSO hyperparameter configuration\n",
    "#### Set the meta_pso optimizers search space and fitness function"
   ]
  },
  {
   "cell_type": "code",
   "execution_count": 41,
   "metadata": {},
   "outputs": [],
   "source": [
    "pso_record = hs.PSOHistory(inner_pso, swarm_size, iterations)\n",
    "\n",
    "meta_pso.set_search_dimensions(inner_pso.dimension_vec())\n",
    "meta_pso.set_fitness_fn(inner_pso.evaluate_fitness)\n"
   ]
  },
  {
   "cell_type": "markdown",
   "metadata": {},
   "source": [
    "## Run experiment\n",
    "### Start meta_pso\n",
    "#### Warning this may take at least 30 mins to run.\n",
    "#### Each iteration each particle of meta_pso will cause inner_pso to run 10 times and return a mean of the resulting runs"
   ]
  },
  {
   "cell_type": "code",
   "execution_count": 8,
   "metadata": {},
   "outputs": [
    {
     "data": {
      "application/vnd.jupyter.widget-view+json": {
       "model_id": "d8311390649543bca632dd079b01b96b",
       "version_major": 2,
       "version_minor": 0
      },
      "text/plain": [
       "HBox(children=(HTML(value='Fitness: -9999.0'), FloatProgress(value=0.0), HTML(value='')))"
      ]
     },
     "metadata": {},
     "output_type": "display_data"
    },
    {
     "name": "stdout",
     "output_type": "stream",
     "text": [
      "\n",
      "[96.15250011  7.08445513  0.53364588  0.62468836  1.57375821  1.50229261\n",
      "  0.17895104]\n",
      "2710748526.098356\n"
     ]
    }
   ],
   "source": [
    "# Egregiously inefficient\n",
    "\n",
    "fitness = meta_pso.run()\n",
    "print(fitness.location)\n",
    "print(fitness.fitness)"
   ]
  },
  {
   "cell_type": "markdown",
   "metadata": {},
   "source": [
    "### Best PSO hyperparameters this run"
   ]
  },
  {
   "cell_type": "code",
   "execution_count": 9,
   "metadata": {},
   "outputs": [
    {
     "name": "stdout",
     "output_type": "stream",
     "text": [
      "Fitness:  2710748526.098356\n",
      "Location: \n"
     ]
    },
    {
     "data": {
      "text/plain": [
       "array([96.15250011,  7.08445513,  0.53364588,  0.62468836,  1.57375821,\n",
       "        1.50229261,  0.17895104])"
      ]
     },
     "execution_count": 9,
     "metadata": {},
     "output_type": "execute_result"
    }
   ],
   "source": [
    "\n",
    "print('Fitness: ', fitness.fitness)\n",
    "print('Location: ')\n",
    "fitness.location"
   ]
  },
  {
   "cell_type": "markdown",
   "metadata": {},
   "source": [
    "### Experiment results - best PSO hyperparameters\n",
    "#### These hyperparameters were found using a neural network with 1 hidden layer with 4 neurons and a single neuron output layer.\n"
   ]
  },
  {
   "cell_type": "code",
   "execution_count": 10,
   "metadata": {},
   "outputs": [],
   "source": [
    "# Cubic (10 runs) mean fitness: 36.35011784882427\n",
    "Cubic_pso_config_mean = [90.38687483,  5.98667815,  1.08064781,  1.46586089,  0.53518642, 1.09814992,  1.47658579]\n",
    "\n",
    "# Linear (10 runs) mean fintess: 1103190071387.8752\n",
    "Linear_pso_config_mean = [85.37707185,  6.86909089,  0.51382895,  0.9798064,  0.12477974, 0.59493009,  0.89702589]\n",
    "\n",
    "# Tanh (10 runs) mean fitness: 25.520455427936067\n",
    "Tanh_pso_config_mean = [55.32621771,  7.52578441,  0.12798331,  0.72531664,  1.08313114, 0.29216353,  1.3627685 ]\n",
    "\n",
    "# Sine (10 runs) mean fitness: 434\n",
    "Sine_pso_config_mean = [8.73729926e+01, 7.54895398e+00, 7.33998847e-01, 7.52228076e-02,\n",
    "       2.92737853e-01, 3.09977124e-01, 8.51531051e-01]\n",
    "\n",
    "# Complex (10 runs) mean fitness: 12\n",
    "Complex_pso_config_mean = [82.66312781,  5.85540776,  0.62559032,  0.58225519,  0.26541185,\n",
    "        1.38181036,  0.6510299 ]\n",
    "\n",
    "# Xor (10 runs) mean fitness: 2710748526\n",
    "Xor_pso_config_mean = [96.15250011,  7.08445513,  0.53364588,  0.62468836,  1.57375821,\n",
    "        1.50229261,  0.17895104]\n"
   ]
  },
  {
   "cell_type": "markdown",
   "metadata": {},
   "source": [
    "### Experiment results - best ANN hyperparameters\n",
    "#### These represent the single highest scoring hyperparameters for each dataset from the above experiment"
   ]
  },
  {
   "cell_type": "code",
   "execution_count": 12,
   "metadata": {},
   "outputs": [],
   "source": [
    "# Cubic Most fit model: 55.21568414718436\n",
    "Cubic_ann_params = np.array([ 4.78225917, -0.45809605, -0.21994928,  0.81358392,  0.18922872,\n",
    "        0.70214767, -0.81948744,  0.71403473, -0.02265093,  0.26644057,\n",
    "       -0.60531157,  0.69434508, -0.44034252,  0.64224264,  0.7446249])\n",
    "\n",
    "# Linear Most fit model: 10965948279221.076\n",
    "Linear_ann_params = np.array([ 0.15520314,  0.2222954 ,  0.47238101, -0.83439247, -0.27726962,\n",
    "        0.11339216, -0.7816949 , -0.79196132, -0.3392678 ,  0.41548984,\n",
    "       -0.08055252,  0.12817675, -0.71425698, -0.21576561, -0.7553213 ])\n",
    "\n",
    "# Tanh Most fit model: 39.38730853575883\n",
    "Tanh_ann_params = np.array([ 0.09854553,  0.39395654, -0.33737974, -0.12358008,  0.4334227 ,\n",
    "       -0.98235414, -0.99205521,  0.98638961, -0.97515305,  2.33845816,\n",
    "        0.51783499, -0.96708832, -0.9922467 ,  0.9696207 , -0.99365926])\n",
    "\n",
    "# Sine Most fit model: 4212\n",
    "Sine_ann_params = np.array([ 0.26515734,  0.7400037 , -0.0499965 ,  0.32639921,  0.03951493,\n",
    "        0.93575309,  0.82658881,  0.95566027,  0.89756768,  3.01482873,\n",
    "       -0.62419448, -0.9322514 , -0.99330274, -0.85322129, -0.65752741])\n",
    "\n",
    "# Complex Most fit model: 15.36\n",
    "Complex_ann_params = np.array([ 5.16794124, -0.50701965, -0.02085653, -0.67915966, -0.56917589,\n",
    "        0.93068562,  0.25302176,  0.92653444,  0.67209426,  0.39299595,\n",
    "       -0.75832145, -0.44806736, -0.62409455,  2.26094952, -0.26506833,\n",
    "       -0.86461154,  0.31096583,  0.90781783,  0.72454439])\n",
    "\n",
    "# Xor Most fit model: 27107485189\n",
    "Xor_ann_params = np.array([-0.13057076, -0.66250843,  0.0122888 , -0.4294471 , -0.56088656,\n",
    "        0.76634383,  0.95302873,  0.27348615,  0.86272884,  0.79509781,\n",
    "        0.80510636,  0.08453014,  0.86190117,  3.37130705, -0.79043449,\n",
    "        0.74686407,  0.4886179 , -0.22842822,  0.69471657])"
   ]
  },
  {
   "cell_type": "markdown",
   "metadata": {},
   "source": [
    "### Best ANN hyperparameter found this run"
   ]
  },
  {
   "cell_type": "code",
   "execution_count": 13,
   "metadata": {},
   "outputs": [
    {
     "name": "stdout",
     "output_type": "stream",
     "text": [
      "Fitness:  27107485189.045113\n",
      "Location: \n"
     ]
    },
    {
     "data": {
      "text/plain": [
       "array([-0.13057076, -0.66250843,  0.0122888 , -0.4294471 , -0.56088656,\n",
       "        0.76634383,  0.95302873,  0.27348615,  0.86272884,  0.79509781,\n",
       "        0.80510636,  0.08453014,  0.86190117,  3.37130705, -0.79043449,\n",
       "        0.74686407,  0.4886179 , -0.22842822,  0.69471657])"
      ]
     },
     "execution_count": 13,
     "metadata": {},
     "output_type": "execute_result"
    }
   ],
   "source": [
    "print('Fitness: ', model_record.fitness)\n",
    "print('Location: ')\n",
    "model_record.vec"
   ]
  },
  {
   "cell_type": "markdown",
   "metadata": {},
   "source": [
    "## Visualise the data\n",
    "#### First move the history vectors into a dictionary where each key is a particle"
   ]
  },
  {
   "cell_type": "code",
   "execution_count": 14,
   "metadata": {},
   "outputs": [
    {
     "output_type": "execute_result",
     "data": {
      "text/plain": [
       "array([ 0.09854553,  0.39395654, -0.33737974, -0.12358008,  0.4334227 ,\n",
       "       -0.98235414, -0.99205521,  0.98638961, -0.97515305,  2.33845816,\n",
       "        0.51783499, -0.96708832, -0.9922467 ,  0.9696207 , -0.99365926])"
      ]
     },
     "metadata": {},
     "execution_count": 47
    }
   ],
   "source": [
    "particle_fitness_dict = pso_record.historical_particle_fitness()\n",
    "particle_location_dict = pso_record.historical_particle_location()"
   ]
  },
  {
   "cell_type": "markdown",
   "metadata": {},
   "source": [
    "#### Compute the nth iteration each particle found its personal best"
   ]
  },
  {
   "cell_type": "code",
   "execution_count": 15,
   "metadata": {},
   "outputs": [
    {
     "data": {
      "text/plain": [
       "[12, 47, 5, 0, 8, 22, 44, 49, 20, 6]"
      ]
     },
     "execution_count": 15,
     "metadata": {},
     "output_type": "execute_result"
    }
   ],
   "source": [
    "pso_record.best_iter_per_particle()"
   ]
  },
  {
   "cell_type": "markdown",
   "metadata": {},
   "source": [
    "### Plot particle fitness over iterations\n",
    "#### Iteration numnber on the x-axis and the fitness score on the y-axis"
   ]
  },
  {
   "cell_type": "code",
   "execution_count": 16,
   "metadata": {},
   "outputs": [
    {
     "data": {
      "image/png": "[encoded data removed]",
      "text/plain": [
       "<Figure size 432x288 with 1 Axes>"
      ]
     },
     "metadata": {
      "needs_background": "light"
     },
     "output_type": "display_data"
    }
   ],
   "source": [
    "pso_record.plot_fitness()"
   ]
  },
  {
   "cell_type": "markdown",
   "metadata": {},
   "source": [
    "### Plot mean fitness of all paticles\n",
    "#### Helps to visualise an overall trend across iterations."
   ]
  },
  {
   "cell_type": "code",
   "execution_count": 17,
   "metadata": {},
   "outputs": [
    {
     "data": {
      "image/png": "[encoded data removed]",
      "text/plain": [
       "<Figure size 432x288 with 1 Axes>"
      ]
     },
     "metadata": {
      "needs_background": "light"
     },
     "output_type": "display_data"
    }
   ],
   "source": [
    "pso_record.plot_mean_fitness()"
   ]
  },
  {
   "cell_type": "code",
   "execution_count": null,
   "metadata": {},
   "outputs": [],
   "source": []
  }
 ],
 "metadata": {
  "kernelspec": {
   "display_name": "Python 3",
   "language": "python",
   "name": "python3"
  },
  "language_info": {
   "codemirror_mode": {
    "name": "ipython",
    "version": 3
   },
   "file_extension": ".py",
   "mimetype": "text/x-python",
   "name": "python",
   "nbconvert_exporter": "python",
   "pygments_lexer": "ipython3",
   "version": "3.8.5-final"
  }
 },
 "nbformat": 4,
 "nbformat_minor": 4
}
