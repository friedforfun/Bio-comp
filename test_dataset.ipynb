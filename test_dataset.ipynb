{
 "cells": [
  {
   "cell_type": "code",
   "execution_count": 1145,
   "metadata": {},
   "outputs": [],
   "source": [
    "from datetime import datetime, timedelta"
   ]
  },
  {
   "cell_type": "code",
   "execution_count": 1146,
   "metadata": {
    "tags": []
   },
   "outputs": [
    {
     "output_type": "stream",
     "name": "stdout",
     "text": [
      "The autoreload extension is already loaded. To reload it, use:\n  %reload_ext autoreload\n"
     ]
    }
   ],
   "source": [
    "from ANNModel import model as mod\n",
    "from PSO import pswarm as ps\n",
    "from PSO import psobehaviour as psh\n",
    "%load_ext autoreload\n",
    "%autoreload 2\n",
    "\n",
    "import numpy as np\n",
    "from ANNModel import data as d"
   ]
  },
  {
   "cell_type": "code",
   "execution_count": 1147,
   "metadata": {},
   "outputs": [],
   "source": [
    "data = d.Data(\"./Data/1in_linear.txt\")\n",
    "input_mat = data.get_rows()\n",
    "result_mat = data.get_output()"
   ]
  },
  {
   "cell_type": "code",
   "execution_count": 1148,
   "metadata": {
    "tags": []
   },
   "outputs": [
    {
     "output_type": "stream",
     "name": "stdout",
     "text": [
      "Model Compiled!\n"
     ]
    }
   ],
   "source": [
    "model = mod.ANN()\n",
    "model.set_training_input(input_mat, result_mat)\n",
    "model.add(mod.Layer(2, activation=\"gaussian\"))\n",
    "model.add(mod.Layer(8, activation='relu'))\n",
    "model.add(mod.Layer(1, activation=\"sigmoid\"))\n",
    "model.compile()\n",
    "\n"
   ]
  },
  {
   "cell_type": "code",
   "execution_count": 1149,
   "metadata": {},
   "outputs": [],
   "source": [
    "model.one_pass()"
   ]
  },
  {
   "cell_type": "code",
   "execution_count": 1150,
   "metadata": {},
   "outputs": [],
   "source": [
    "model_copies = mod.ANNhistory(model)"
   ]
  },
  {
   "cell_type": "code",
   "execution_count": 1151,
   "metadata": {},
   "outputs": [],
   "source": [
    "random_model = model.vectorize()"
   ]
  },
  {
   "cell_type": "code",
   "execution_count": 1152,
   "metadata": {},
   "outputs": [],
   "source": [
    "import copy\n",
    "model_copy = copy.deepcopy(model)"
   ]
  },
  {
   "cell_type": "code",
   "execution_count": 1153,
   "metadata": {},
   "outputs": [],
   "source": [
    "pso = ps.PSO(swarm_size=100, num_informants=6, boundary_policy=psh.BoundaryPolicy.REFUSE, termination_policy=[psh.TerminationPolicy.ITERATIONS], termination_args={'max_iter': 500}, alpha=0.2, beta=0.5, gamma=0.6, delta=0.5, epsilon=0.1)"
   ]
  },
  {
   "cell_type": "code",
   "execution_count": 1154,
   "metadata": {},
   "outputs": [
    {
     "output_type": "stream",
     "name": "stdout",
     "text": [
      "<bound method ANNhistory.assess_fitness of <ANNModel.model.ANNhistory object at 0x0000029E54F8B4C0>>\n"
     ]
    }
   ],
   "source": [
    "pso.set_search_dimensions(model.dimension_vec())\n",
    "pso.set_fitness_fn(model_copies.assess_fitness)"
   ]
  },
  {
   "cell_type": "code",
   "execution_count": 1155,
   "metadata": {
    "tags": []
   },
   "outputs": [
    {
     "output_type": "stream",
     "name": "stderr",
     "text": [
      "Fitness: 3.0002994581580573: 100%|██████████| 100.20000000000078/100 [00:11<00:00,  8.89it/s]\n"
     ]
    }
   ],
   "source": [
    "best = pso.run()"
   ]
  },
  {
   "cell_type": "code",
   "execution_count": 1156,
   "metadata": {},
   "outputs": [],
   "source": [
    "PSO_best = pso.best.location\n",
    "PSO_fitness = pso.best.fitness"
   ]
  },
  {
   "cell_type": "code",
   "execution_count": 1157,
   "metadata": {},
   "outputs": [
    {
     "output_type": "stream",
     "name": "stdout",
     "text": [
      "3.0002994581580573 3.0002994581580573\n"
     ]
    }
   ],
   "source": [
    "print(best.fitness, PSO_fitness)"
   ]
  },
  {
   "cell_type": "code",
   "execution_count": 1158,
   "metadata": {},
   "outputs": [],
   "source": [
    "previous_best = pso.previous_best"
   ]
  },
  {
   "cell_type": "code",
   "execution_count": 1159,
   "metadata": {},
   "outputs": [
    {
     "output_type": "execute_result",
     "data": {
      "text/plain": [
       "3.000291503430602"
      ]
     },
     "metadata": {},
     "execution_count": 1159
    }
   ],
   "source": [
    "model.assess_fitness(model.vectorize())"
   ]
  },
  {
   "cell_type": "code",
   "execution_count": 1160,
   "metadata": {},
   "outputs": [
    {
     "output_type": "stream",
     "name": "stdout",
     "text": [
      "Model fitness:  3.0002994581580573\n"
     ]
    }
   ],
   "source": [
    "print('Model fitness: ', model_copy.assess_fitness(best.location))"
   ]
  },
  {
   "cell_type": "code",
   "execution_count": 1161,
   "metadata": {},
   "outputs": [],
   "source": [
    "#model_copies.ann_list[-1].vectorize() == model_copies.ann_list[-2].vectorize()"
   ]
  },
  {
   "cell_type": "code",
   "execution_count": 1162,
   "metadata": {},
   "outputs": [],
   "source": [
    "model_after_pso = copy.deepcopy(model)"
   ]
  },
  {
   "cell_type": "code",
   "execution_count": 1163,
   "metadata": {},
   "outputs": [
    {
     "output_type": "stream",
     "name": "stdout",
     "text": [
      "Model fitness:  3.0002994581580573\n"
     ]
    }
   ],
   "source": [
    "print('Model fitness: ', model.assess_fitness(PSO_best))"
   ]
  },
  {
   "cell_type": "code",
   "execution_count": 1164,
   "metadata": {},
   "outputs": [
    {
     "output_type": "stream",
     "name": "stdout",
     "text": [
      "Model fitness:  3.000299458147585\n"
     ]
    }
   ],
   "source": [
    "print('Model fitness: ', model_after_pso.assess_fitness(previous_best.location))"
   ]
  },
  {
   "cell_type": "code",
   "execution_count": 1165,
   "metadata": {
    "tags": []
   },
   "outputs": [
    {
     "output_type": "stream",
     "name": "stdout",
     "text": [
      "Model:  51\nFitness:  0.7628813834454632\nModel:  52\nFitness:  3.2610700667065236e-07\nModel:  53\nFitness:  2.205722163083529e-06\nModel:  54\nFitness:  4.320905652403311e-06\nModel:  55\nFitness:  8.348375569167627e-06\nModel:  56\nFitness:  0.5531153059802899\nModel:  57\nFitness:  1.0980903215422e-07\nModel:  58\nFitness:  1.0745324795104476\nModel:  59\nFitness:  2.999400119976005\n"
     ]
    }
   ],
   "source": [
    "maxf = 0\n",
    "maxf_index = 0\n",
    "best_vec = None\n",
    "for index, vec in enumerate(model_copies.vec_history):\n",
    "    fitness = model.assess_fitness(vec)\n",
    "    if 50 < index < 60:\n",
    "        print('Model: ', index)\n",
    "        print('Fitness: ', fitness)\n",
    "        \n",
    "    if fitness > maxf:\n",
    "        maxf = fitness\n",
    "        maxf_index = index\n",
    "        best_vec = vec "
   ]
  },
  {
   "cell_type": "code",
   "execution_count": 1166,
   "metadata": {},
   "outputs": [
    {
     "output_type": "execute_result",
     "data": {
      "text/plain": [
       "(3.0002994581580573, 49289)"
      ]
     },
     "metadata": {},
     "execution_count": 1166
    }
   ],
   "source": [
    "(maxf, maxf_index)"
   ]
  },
  {
   "cell_type": "code",
   "execution_count": 1167,
   "metadata": {},
   "outputs": [
    {
     "output_type": "stream",
     "name": "stdout",
     "text": [
      "Model fitness:  3.000291503430602\n"
     ]
    }
   ],
   "source": [
    "print('Model fitness: ', model.assess_fitness(model_copies.vec_history[-1]))\n"
   ]
  },
  {
   "cell_type": "code",
   "execution_count": 1168,
   "metadata": {},
   "outputs": [],
   "source": [
    "#print('Model fitness: ', model.assess_fitness(model_copies.ann_list[-2].vectorize()))"
   ]
  },
  {
   "cell_type": "code",
   "execution_count": 1169,
   "metadata": {},
   "outputs": [
    {
     "output_type": "stream",
     "name": "stdout",
     "text": [
      "C:\\Users\\fried\\.conda\\envs\\Bio-Comp\n"
     ]
    }
   ],
   "source": [
    "import sys\n",
    "print(sys.prefix)"
   ]
  },
  {
   "cell_type": "code",
   "execution_count": 1170,
   "metadata": {},
   "outputs": [
    {
     "output_type": "execute_result",
     "data": {
      "text/plain": [
       "False"
      ]
     },
     "metadata": {},
     "execution_count": 1170
    }
   ],
   "source": [
    "model_copies.historical_particle_fitness()\n",
    "model_copies.particle_fitness[0][0] == model_copies.particle_fitness[0][-1]"
   ]
  },
  {
   "cell_type": "code",
   "execution_count": 1171,
   "metadata": {},
   "outputs": [
    {
     "output_type": "execute_result",
     "data": {
      "text/plain": [
       "array([False, False, False, False, False, False, False, False, False,\n",
       "       False, False, False, False, False, False, False, False, False,\n",
       "       False, False, False, False, False, False, False, False, False,\n",
       "       False, False, False, False, False, False, False, False, False,\n",
       "       False, False, False, False])"
      ]
     },
     "metadata": {},
     "execution_count": 1171
    }
   ],
   "source": [
    "model_copies.historical_particle_location()\n",
    "model_copies.particle_location[1][0] == model_copies.particle_location[1][-1]"
   ]
  },
  {
   "cell_type": "code",
   "execution_count": 1172,
   "metadata": {},
   "outputs": [
    {
     "output_type": "execute_result",
     "data": {
      "text/plain": [
       "array([False, False, False, False, False, False, False, False, False,\n",
       "       False, False, False, False, False, False, False, False, False,\n",
       "       False, False, False, False, False, False, False, False, False,\n",
       "       False, False, False, False, False, False, False, False, False,\n",
       "       False, False, False, False])"
      ]
     },
     "metadata": {},
     "execution_count": 1172
    }
   ],
   "source": [
    "pso.particles[0].velocity_list[0] == pso.particles[0].velocity_list[-1]"
   ]
  },
  {
   "cell_type": "code",
   "execution_count": 1173,
   "metadata": {},
   "outputs": [
    {
     "output_type": "execute_result",
     "data": {
      "text/plain": [
       "[3.0002994580673183,\n",
       " 2.1570892581367924,\n",
       " 0.7514466585372266,\n",
       " 0.7468008289058862,\n",
       " 3.0002994581279676,\n",
       " 1.1475150529832547,\n",
       " 0.7400463681025685,\n",
       " 0.8017996896879442,\n",
       " 3.000299458133543,\n",
       " 3.000288394081014,\n",
       " 3.000299458068372,\n",
       " 2.2363686021390015,\n",
       " 0.7520894585788666,\n",
       " 0.746786175570411,\n",
       " 3.000299458127564,\n",
       " 1.1649007394832251,\n",
       " 0.7407563121920712,\n",
       " 0.8027095475155339,\n",
       " 3.000299458137393,\n",
       " 3.000291503430602]"
      ]
     },
     "metadata": {},
     "execution_count": 1173
    }
   ],
   "source": [
    "model_copies.particle_fitness[9][-20:]"
   ]
  },
  {
   "cell_type": "code",
   "execution_count": 1174,
   "metadata": {},
   "outputs": [
    {
     "output_type": "execute_result",
     "data": {
      "text/plain": [
       "array([<PSO.pswarm.Particle object at 0x0000029E55189E50>,\n",
       "       <PSO.pswarm.Particle object at 0x0000029E55189F70>,\n",
       "       <PSO.pswarm.Particle object at 0x0000029E5513B820>,\n",
       "       <PSO.pswarm.Particle object at 0x0000029E5512FE80>,\n",
       "       <PSO.pswarm.Particle object at 0x0000029E52811FD0>,\n",
       "       <PSO.pswarm.Particle object at 0x0000029E5513B190>], dtype=object)"
      ]
     },
     "metadata": {},
     "execution_count": 1174
    }
   ],
   "source": [
    "pso.particles[0].informants"
   ]
  },
  {
   "cell_type": "code",
   "execution_count": null,
   "metadata": {},
   "outputs": [],
   "source": []
  }
 ],
 "metadata": {
  "language_info": {
   "codemirror_mode": {
    "name": "ipython",
    "version": 3
   },
   "file_extension": ".py",
   "mimetype": "text/x-python",
   "name": "python",
   "nbconvert_exporter": "python",
   "pygments_lexer": "ipython3",
   "version": "3.8.5-final"
  },
  "kernelspec": {
   "name": "python3",
   "display_name": "Python 3.8.5 64-bit ('Bio-Comp': conda)",
   "metadata": {
    "interpreter": {
     "hash": "35fcc499aa92e9c09728161005928b218aa1f3c0d7d5e2a582fbddbbabfd4aa2"
    }
   }
  }
 },
 "nbformat": 4,
 "nbformat_minor": 4
}