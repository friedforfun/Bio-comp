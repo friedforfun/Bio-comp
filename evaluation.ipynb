{
 "metadata": {
  "language_info": {
   "codemirror_mode": {
    "name": "ipython",
    "version": 3
   },
   "file_extension": ".py",
   "mimetype": "text/x-python",
   "name": "python",
   "nbconvert_exporter": "python",
   "pygments_lexer": "ipython3",
   "version": "3.8.5-final"
  },
  "orig_nbformat": 2,
  "kernelspec": {
   "name": "python3",
   "display_name": "python3"
  }
 },
 "nbformat": 4,
 "nbformat_minor": 2,
 "cells": [
  {
   "cell_type": "code",
   "execution_count": 5,
   "metadata": {},
   "outputs": [
    {
     "output_type": "error",
     "ename": "ValueError",
     "evalue": "attempted relative import beyond top-level package",
     "traceback": [
      "\u001b[1;31m---------------------------------------------------------------------------\u001b[0m",
      "\u001b[1;31mValueError\u001b[0m                                Traceback (most recent call last)",
      "\u001b[1;32m<ipython-input-5-99c17ff61d56>\u001b[0m in \u001b[0;36m<module>\u001b[1;34m\u001b[0m\n\u001b[0;32m      1\u001b[0m \u001b[1;32mimport\u001b[0m \u001b[0mnumpy\u001b[0m \u001b[1;32mas\u001b[0m \u001b[0mnp\u001b[0m\u001b[1;33m\u001b[0m\u001b[1;33m\u001b[0m\u001b[0m\n\u001b[1;32m----> 2\u001b[1;33m \u001b[1;32mfrom\u001b[0m \u001b[0mANNModel\u001b[0m \u001b[1;32mimport\u001b[0m \u001b[0mmodel\u001b[0m \u001b[1;32mas\u001b[0m \u001b[0mmod\u001b[0m\u001b[1;33m\u001b[0m\u001b[1;33m\u001b[0m\u001b[0m\n\u001b[0m\u001b[0;32m      3\u001b[0m \u001b[1;32mfrom\u001b[0m \u001b[0mANNModel\u001b[0m \u001b[1;32mimport\u001b[0m \u001b[0mdata\u001b[0m \u001b[1;32mas\u001b[0m \u001b[0md\u001b[0m\u001b[1;33m\u001b[0m\u001b[1;33m\u001b[0m\u001b[0m\n\u001b[0;32m      4\u001b[0m \u001b[1;32mfrom\u001b[0m \u001b[0mPSO\u001b[0m \u001b[1;32mimport\u001b[0m \u001b[0mpswarm\u001b[0m \u001b[1;32mas\u001b[0m \u001b[0mps\u001b[0m\u001b[1;33m\u001b[0m\u001b[1;33m\u001b[0m\u001b[0m\n\u001b[0;32m      5\u001b[0m \u001b[1;32mfrom\u001b[0m \u001b[0mPSO\u001b[0m \u001b[1;32mimport\u001b[0m \u001b[0mpsobehaviour\u001b[0m \u001b[1;32mas\u001b[0m \u001b[0mpsh\u001b[0m\u001b[1;33m\u001b[0m\u001b[1;33m\u001b[0m\u001b[0m\n",
      "\u001b[1;32mD:\\GitProjects\\Bio-comp\\Coursework\\ANNModel\\model.py\u001b[0m in \u001b[0;36m<module>\u001b[1;34m\u001b[0m\n\u001b[0;32m      6\u001b[0m \u001b[1;32mfrom\u001b[0m \u001b[1;33m.\u001b[0m \u001b[1;32mimport\u001b[0m \u001b[0mactivations\u001b[0m \u001b[1;32mas\u001b[0m \u001b[0mactiv\u001b[0m\u001b[1;33m\u001b[0m\u001b[1;33m\u001b[0m\u001b[0m\n\u001b[0;32m      7\u001b[0m \u001b[1;32mfrom\u001b[0m \u001b[1;33m.\u001b[0m \u001b[1;32mimport\u001b[0m \u001b[0mloss\u001b[0m\u001b[1;33m\u001b[0m\u001b[1;33m\u001b[0m\u001b[0m\n\u001b[1;32m----> 8\u001b[1;33m \u001b[1;32mfrom\u001b[0m \u001b[1;33m.\u001b[0m\u001b[1;33m.\u001b[0m\u001b[0mPSO\u001b[0m\u001b[1;33m.\u001b[0m\u001b[0minterface\u001b[0m \u001b[1;32mimport\u001b[0m \u001b[0mOptimisable\u001b[0m\u001b[1;33m\u001b[0m\u001b[1;33m\u001b[0m\u001b[0m\n\u001b[0m\u001b[0;32m      9\u001b[0m \u001b[1;33m\u001b[0m\u001b[0m\n\u001b[0;32m     10\u001b[0m \u001b[1;32mimport\u001b[0m \u001b[0mcopy\u001b[0m\u001b[1;33m\u001b[0m\u001b[1;33m\u001b[0m\u001b[0m\n",
      "\u001b[1;31mValueError\u001b[0m: attempted relative import beyond top-level package"
     ]
    }
   ],
   "source": [
    "import numpy as np\n",
    "from ANNModel import model as mod\n",
    "from ANNModel import data as d\n",
    "from PSO import pswarm as ps\n",
    "from PSO import psobehaviour as psh\n",
    "from sklearn.model_selection import train_test_split\n",
    "\n",
    "%load_ext autoreload\n",
    "%autoreload 2\n",
    "\n",
    "data = d.Data(\"./Data/1in_tanh.txt\")\n",
    "X = data.get_rows()\n",
    "y = data.get_output()\n",
    "\n",
    "\n",
    "X_train, X_test, y_train, y_test = train_test_split(X, y, test_size=0.33, random_state=14)"
   ]
  },
  {
   "cell_type": "code",
   "execution_count": 922,
   "metadata": {},
   "outputs": [
    {
     "output_type": "stream",
     "name": "stdout",
     "text": [
      "Model Compiled!\n"
     ]
    }
   ],
   "source": [
    "#train the model\n",
    "model = mod.ANN()\n",
    "model.set_training_input(X_train, y_train)\n",
    "model.add(mod.Layer(4, activation=\"sigmoid\"))\n",
    "model.add(mod.Layer(1, activation=\"null\"))\n",
    "model.compile()\n",
    "\n",
    "model_history = mod.ANNhistory(model)"
   ]
  },
  {
   "cell_type": "code",
   "execution_count": 923,
   "metadata": {},
   "outputs": [
    {
     "output_type": "execute_result",
     "data": {
      "text/plain": [
       "[(0.0, 5.0),\n",
       " (-1.0, 1.0),\n",
       " (-1.0, 1.0),\n",
       " (-1.0, 1.0),\n",
       " (-1.0, 1.0),\n",
       " (-1.0, 1.0),\n",
       " (-1.0, 1.0),\n",
       " (-1.0, 1.0),\n",
       " (-1.0, 1.0),\n",
       " (0.0, 5.0),\n",
       " (-1.0, 1.0),\n",
       " (-1.0, 1.0),\n",
       " (-1.0, 1.0),\n",
       " (-1.0, 1.0),\n",
       " (-1.0, 1.0)]"
      ]
     },
     "metadata": {},
     "execution_count": 923
    }
   ],
   "source": [
    "model.dimension_vec()"
   ]
  },
  {
   "cell_type": "code",
   "execution_count": null,
   "metadata": {},
   "outputs": [],
   "source": []
  },
  {
   "cell_type": "code",
   "execution_count": 1,
   "metadata": {
    "tags": []
   },
   "outputs": [
    {
     "output_type": "error",
     "ename": "NameError",
     "evalue": "name 'ps' is not defined",
     "traceback": [
      "\u001b[1;31m---------------------------------------------------------------------------\u001b[0m",
      "\u001b[1;31mNameError\u001b[0m                                 Traceback (most recent call last)",
      "\u001b[1;32m<ipython-input-1-5498bfa71c8f>\u001b[0m in \u001b[0;36m<module>\u001b[1;34m\u001b[0m\n\u001b[1;32m----> 1\u001b[1;33m \u001b[0mpso\u001b[0m \u001b[1;33m=\u001b[0m \u001b[0mps\u001b[0m\u001b[1;33m.\u001b[0m\u001b[0mPSO\u001b[0m\u001b[1;33m(\u001b[0m\u001b[0mswarm_size\u001b[0m\u001b[1;33m=\u001b[0m\u001b[1;36m100\u001b[0m\u001b[1;33m,\u001b[0m \u001b[0mnum_informants\u001b[0m\u001b[1;33m=\u001b[0m\u001b[1;36m6\u001b[0m\u001b[1;33m,\u001b[0m \u001b[0mboundary_policy\u001b[0m\u001b[1;33m=\u001b[0m\u001b[0mpsh\u001b[0m\u001b[1;33m.\u001b[0m\u001b[0mBoundaryPolicy\u001b[0m\u001b[1;33m.\u001b[0m\u001b[0mRANDOMREINIT\u001b[0m\u001b[1;33m,\u001b[0m \u001b[0mtermination_policy\u001b[0m\u001b[1;33m=\u001b[0m\u001b[1;33m[\u001b[0m\u001b[0mpsh\u001b[0m\u001b[1;33m.\u001b[0m\u001b[0mTerminationPolicy\u001b[0m\u001b[1;33m.\u001b[0m\u001b[0mITERATIONS\u001b[0m\u001b[1;33m]\u001b[0m\u001b[1;33m,\u001b[0m \u001b[0mtermination_args\u001b[0m\u001b[1;33m=\u001b[0m\u001b[1;33m{\u001b[0m\u001b[1;34m'max_iter'\u001b[0m\u001b[1;33m:\u001b[0m \u001b[1;36m400\u001b[0m\u001b[1;33m}\u001b[0m\u001b[1;33m,\u001b[0m \u001b[0malpha\u001b[0m\u001b[1;33m=\u001b[0m\u001b[1;36m0.61\u001b[0m\u001b[1;33m,\u001b[0m \u001b[0mbeta\u001b[0m\u001b[1;33m=\u001b[0m\u001b[1;36m1.3\u001b[0m\u001b[1;33m,\u001b[0m \u001b[0mgamma\u001b[0m\u001b[1;33m=\u001b[0m\u001b[1;36m1.4\u001b[0m\u001b[1;33m,\u001b[0m \u001b[0mdelta\u001b[0m\u001b[1;33m=\u001b[0m\u001b[1;36m1.3\u001b[0m\u001b[1;33m,\u001b[0m \u001b[0mepsilon\u001b[0m\u001b[1;33m=\u001b[0m\u001b[1;36m0.6\u001b[0m\u001b[1;33m)\u001b[0m\u001b[1;33m\u001b[0m\u001b[1;33m\u001b[0m\u001b[0m\n\u001b[0m\u001b[0;32m      2\u001b[0m \u001b[0mpso\u001b[0m \u001b[1;33m=\u001b[0m \u001b[0mpso\u001b[0m\u001b[1;33m.\u001b[0m\u001b[0mdecode_vec\u001b[0m\u001b[1;33m(\u001b[0m\u001b[1;33m[\u001b[0m\u001b[1;36m95.63656981\u001b[0m\u001b[1;33m,\u001b[0m \u001b[1;36m4.84026189\u001b[0m\u001b[1;33m,\u001b[0m  \u001b[1;36m1.49822568\u001b[0m\u001b[1;33m,\u001b[0m  \u001b[1;36m0.8405314\u001b[0m\u001b[1;33m,\u001b[0m   \u001b[1;36m0.78303066\u001b[0m\u001b[1;33m,\u001b[0m  \u001b[1;36m0.85137874\u001b[0m\u001b[1;33m,\u001b[0m  \u001b[1;36m0.85560595\u001b[0m\u001b[1;33m]\u001b[0m\u001b[1;33m)\u001b[0m\u001b[1;33m\u001b[0m\u001b[1;33m\u001b[0m\u001b[0m\n\u001b[0;32m      3\u001b[0m \u001b[1;33m\u001b[0m\u001b[0m\n\u001b[0;32m      4\u001b[0m \u001b[0mprint\u001b[0m\u001b[1;33m(\u001b[0m\u001b[0mpso\u001b[0m\u001b[1;33m.\u001b[0m\u001b[0mswarm_size\u001b[0m\u001b[1;33m)\u001b[0m\u001b[1;33m\u001b[0m\u001b[1;33m\u001b[0m\u001b[0m\n",
      "\u001b[1;31mNameError\u001b[0m: name 'ps' is not defined"
     ]
    }
   ],
   "source": [
    "pso = pso.PSO(swarm_size=100, num_informants=6, boundary_policy=psh.BoundaryPolicy.RANDOMREINIT, termination_policy=[psh.TerminationPolicy.ITERATIONS], termination_args={'max_iter': 400}, alpha=0.61, beta=1.3, gamma=1.4, delta=1.3, epsilon=0.6)\n",
    "pso = pso.decode_vec([95.63656981, 4.84026189,  1.49822568,  0.8405314,   0.78303066,  0.85137874,  0.85560595])\n",
    "\n",
    "print(pso.swarm_size)"
   ]
  },
  {
   "cell_type": "code",
   "execution_count": null,
   "metadata": {},
   "outputs": [],
   "source": [
    "pso.set_search_dimensions(model.dimension_vec())\n",
    "pso.set_fitness_fn(model_history.assess_fitness)\n",
    "fitness = pso.run()\n",
    "print(fitness.location)\n",
    "print(fitness.fitness)"
   ]
  },
  {
   "cell_type": "code",
   "execution_count": 925,
   "metadata": {},
   "outputs": [],
   "source": [
    "pso_best = pso.best.location\n",
    "model.decode_vec(pso_best)"
   ]
  },
  {
   "cell_type": "code",
   "execution_count": 926,
   "metadata": {},
   "outputs": [],
   "source": [
    "#model.layers[-1].bias = np.array([0.0])\n",
    "#model.layers[-1].weights = np.array([[1.0]])\n"
   ]
  },
  {
   "cell_type": "code",
   "execution_count": 927,
   "metadata": {},
   "outputs": [],
   "source": [
    "#run model\n",
    "model.set_training_input(X_test, y_test)\n",
    "model.one_pass()\n"
   ]
  },
  {
   "cell_type": "code",
   "execution_count": 928,
   "metadata": {},
   "outputs": [
    {
     "output_type": "execute_result",
     "data": {
      "text/plain": [
       "array([-0.99436902, -0.74996831, -0.88704557, -0.44347313,  0.50709723,\n",
       "        0.97873474,  0.99982575, -0.70147648,  0.9999993 ,  0.92453327,\n",
       "       -0.99999999,  0.99999853, -0.99946477,  0.99123864,  1.        ,\n",
       "        0.97205632,  0.26693447, -0.99999855, -0.97394858, -0.99999971,\n",
       "       -0.90939747,  0.90544532, -0.79235924, -0.99873592,  0.08637094,\n",
       "        0.99999416, -0.99999934,  0.99363877,  0.43238224, -0.58525235,\n",
       "       -0.99602506,  0.99999986,  0.69351261,  0.35207075])"
      ]
     },
     "metadata": {},
     "execution_count": 928
    }
   ],
   "source": [
    "model.y_hat"
   ]
  },
  {
   "cell_type": "code",
   "execution_count": 929,
   "metadata": {},
   "outputs": [
    {
     "output_type": "stream",
     "name": "stdout",
     "text": [
      "[-0.9999 -0.9757 -0.9951 -0.8337  0.7616  0.9993  1.     -0.964   1.\n  0.9951 -1.      1.     -1.      0.9998  1.      0.999   0.3799 -1.\n -0.9996 -1.     -0.9967  0.9926 -0.9837 -1.      0.      1.     -1.\n  0.9999  0.664  -0.9217 -1.      1.      0.9217  0.537 ]\n[-0.9944 -0.75   -0.887  -0.4435  0.5071  0.9787  0.9998 -0.7015  1.\n  0.9245 -1.      1.     -0.9995  0.9912  1.      0.9721  0.2669 -1.\n -0.9739 -1.     -0.9094  0.9054 -0.7924 -0.9987  0.0864  1.     -1.\n  0.9936  0.4324 -0.5853 -0.996   1.      0.6935  0.3521]\nA,B:  9  out of  34\nB,A:  9  out of  34\n"
     ]
    }
   ],
   "source": [
    "#score function\n",
    "correctly_classified = 0\n",
    "\n",
    "\n",
    "#get predictions\n",
    "predictions = np.round(model.y_hat, 4)\n",
    "print(model.y)\n",
    "print(predictions)\n",
    "\n",
    "#loop through predictions\n",
    "for index, pred in enumerate(predictions):\n",
    "\n",
    "    if np.isclose(y_test[index], pred):\n",
    "        correctly_classified += 1\n",
    "\n",
    "print('A,B: ', correctly_classified , \" out of \", len(y_test))\n",
    "correctly_classified = 0\n",
    "#loop through predictions\n",
    "for index, pred in enumerate(predictions):\n",
    "    if np.isclose(pred, y_test[index]):\n",
    "        correctly_classified += 1\n",
    "\n",
    "print('B,A: ',correctly_classified , \" out of \", len(y_test))"
   ]
  },
  {
   "cell_type": "code",
   "execution_count": 930,
   "metadata": {},
   "outputs": [
    {
     "output_type": "stream",
     "name": "stdout",
     "text": [
      "activation:  ActivationFunction.HYPERBOLIC_TANGENT\nbias:  [-0.32100432]\nweights:  [[ 0.64196985]\n [-0.78929642]\n [ 0.74468061]\n [-0.13893373]]\n"
     ]
    }
   ],
   "source": [
    "print('activation: ', model.layers[-1].activation)\n",
    "print('bias: ', model.layers[-1].bias)\n",
    "print('weights: ', model.layers[-1].weights)"
   ]
  },
  {
   "cell_type": "code",
   "execution_count": 931,
   "metadata": {
    "tags": []
   },
   "outputs": [],
   "source": [
    "model_history.historical_particle_fitness()\n",
    "model_history.historical_particle_location()"
   ]
  },
  {
   "cell_type": "code",
   "execution_count": 932,
   "metadata": {},
   "outputs": [
    {
     "output_type": "execute_result",
     "data": {
      "text/plain": [
       "3840"
      ]
     },
     "metadata": {},
     "execution_count": 932
    }
   ],
   "source": [
    "len(model_history.vec_history[::10])"
   ]
  },
  {
   "cell_type": "code",
   "execution_count": 933,
   "metadata": {},
   "outputs": [
    {
     "output_type": "execute_result",
     "data": {
      "text/plain": [
       "384"
      ]
     },
     "metadata": {},
     "execution_count": 933
    }
   ],
   "source": [
    "len(model_history.particle_location[0][::10])"
   ]
  },
  {
   "cell_type": "code",
   "execution_count": null,
   "metadata": {},
   "outputs": [],
   "source": []
  }
 ]
}