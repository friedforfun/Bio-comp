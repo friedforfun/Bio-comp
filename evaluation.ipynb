{
 "cells": [
  {
   "cell_type": "code",
   "execution_count": 1,
   "metadata": {},
   "outputs": [
    {
     "name": "stderr",
     "output_type": "stream",
     "text": [
      "D:\\GitProjects\\Bio-comp\\Coursework\\ANNModel\\model.py:5: TqdmExperimentalWarning: Using `tqdm.autonotebook.tqdm` in notebook mode. Use `tqdm.tqdm` instead to force console mode (e.g. in jupyter console)\n",
      "  from tqdm.autonotebook import tqdm\n"
     ]
    }
   ],
   "source": [
    "import numpy as np\n",
    "from Coursework.ANNModel import model as mod\n",
    "from Coursework.ANNModel import data as d\n",
    "from Coursework.PSO import pswarm as ps\n",
    "from Coursework.PSO import psobehaviour as psh\n",
    "from Coursework.PSO import history as hs\n",
    "from sklearn.model_selection import train_test_split\n",
    "\n",
    "%load_ext autoreload\n",
    "%autoreload 2"
   ]
  },
  {
   "cell_type": "code",
   "execution_count": 2,
   "metadata": {},
   "outputs": [],
   "source": [
    "# Cubic (10 runs) mean fitness: 252\n",
    "Cubic_pso_config_mean = [65.07982407, 4.95690714, 0.28949701, 0.54421663, 0.39890445, 1.42315492, 1.18854163]\n",
    "\n",
    "# Linear (10 runs) mean fintess: 9.17486598344206e+24\n",
    "Linear_pso_config_mean = [75.13534983, 6.59595661, 0.15486748, 0.63274028, 0.93549642, 1.5667033, 0.48415203]\n",
    "\n",
    "# Tanh (10 runs) mean fitness: 23659 \n",
    "Tanh_pso_config_mean = [54.98334367, 6.41212707, 0.59507185, 1.23273439, 1.68258425, 1.01222575, 0.19820747]\n",
    "\n",
    "# Sine (10 runs) mean fitness: 71\n",
    "Sine_pso_config_mean = [72.77234021, 6.72388576, 0.60373995, 0.38615018, 1.022057, 0.86230487, 0.59935222]\n",
    "\n",
    "# Complex (10 runs) mean fitness: 13\n",
    "Complex_pso_config_mean = [8.99258905e+01, 5.57111071e+00, 5.69030292e-01, 3.38835134e-02, 1.24389435e+00, 1.35151796e+00, 4.87958932e-01]\n",
    "\n",
    "# Xor (10 runs) mean fitness 873815265613870.6\n",
    "Xor_pso_config_mean = [8.64423020e+01, 6.33181111e+00, 7.82660047e-02, 1.43692310e+00, 1.70649966e+00, 1.06783274e+00, 5.57344119e-01]\n"
   ]
  },
  {
   "cell_type": "code",
   "execution_count": 3,
   "metadata": {},
   "outputs": [],
   "source": [
    "# Cubic Most fit model: 4436\n",
    "Cubic_ann_params = np.array([ 4.06948631e+00, -7.29125756e-01,  5.73721712e-01, -4.97778569e-01, 1.21867021e-01, -4.07830431e-01,  9.23118308e-01,  9.96763804e-01, -3.53176479e-01,  2.82162360e+00, -6.77411971e-01, -6.33183382e-01, 3.17935306e-01, -1.91733120e-01,  2.57710600e-03])\n",
    "\n",
    "# Linear Most fit model: 9.17486598344206e+25\n",
    "Linear_ann_params = np.array([0.33653903, 0.62395429, 0.38036724,-0.73197691, 0.27957089, -0.44447831, 0.90125204, -0.72400064, -0.73325263, 0.2053941, -0.37270846, 0.1568939, 0.4157871, -0.37861424, -0.57400409])\n",
    "\n",
    "# Tanh Most fit model: 236154\n",
    "Tanh_ann_params = np.array([4.30993349, 0.2291253, -0.99626464, -0.29776704,  0.99032436, 0.54519926, 0.98178641, -0.06046016, 0.9675356, 2.17890815, -0.49269196, -0.29330431, -0.94045692, 0.72556016, 0.95398864])\n",
    "\n",
    "# Sine Most fit model: 488\n",
    "Sine_ann_params = np.array([ 4.34214646, -0.37620669, -0.1737171 ,  0.98924977,  0.94187429, -0.35848436,  0.03053108,  0.31920693, -0.32693426,  2.7825707, -0.7316042, -0.33840137, -0.59207658, -0.77175905, 0.91605957])\n",
    "\n",
    "# Complex Most fit model: \n",
    "Complex_ann_params = np.array([ 3.90353086, 0.38052382, -0.55386827, 0.08622513, -0.44906989, 0.61901606, -0.87650059, -0.625452, -0.98830069, 0.85692286, 0.01958315, -0.2346267, 0.35945306, 1.73135609, -0.28885139, 0.0893994 , -0.47053919,  0.00421956, 0.40903142])\n",
    "\n",
    "# Xor Most fit model: 8738152656138548\n",
    "Xor_ann_params = np.array([ 4.02523790e+00,  6.23414094e-01,  9.76014400e-03,  2.37501907e-01, 1.61720158e-01, -4.58494817e-01,  5.43701583e-01,  1.31984645e-03, 4.74499415e-01, -8.82859850e-01, -1.29200272e-01, -3.78243447e-01, -9.62890568e-01,  3.54267095e-01, -4.41831336e-01, -9.22734200e-01, 6.87573835e-01,  3.54729391e-01,  7.20793804e-01])"
   ]
  },
  {
   "cell_type": "code",
   "execution_count": 4,
   "metadata": {},
   "outputs": [],
   "source": [
    "data = d.Data(\"./Data/2in_xor.txt\")\n",
    "decimals = 'xor'\n",
    "X = data.get_rows()\n",
    "y = data.get_output()\n",
    "\n",
    "psoParams = Xor_pso_config_mean\n",
    "annParams = Xor_ann_params\n",
    "\n",
    "X_train, X_test, y_train, y_test = train_test_split(X, y, test_size=0.33, random_state=14)"
   ]
  },
  {
   "cell_type": "code",
   "execution_count": 5,
   "metadata": {},
   "outputs": [
    {
     "name": "stdout",
     "output_type": "stream",
     "text": [
      "Model Compiled!\n"
     ]
    }
   ],
   "source": [
    "#train the model\n",
    "model = mod.ANN()\n",
    "model.set_training_input(X_train, y_train)\n",
    "model.add(mod.Layer(4, activation=\"sigmoid\"))\n",
    "model.add(mod.Layer(1, activation=\"null\"))\n",
    "model.compile()\n",
    "\n",
    "model_history = hs.PSOHistory(model)"
   ]
  },
  {
   "cell_type": "code",
   "execution_count": 6,
   "metadata": {
    "tags": []
   },
   "outputs": [
    {
     "name": "stdout",
     "output_type": "stream",
     "text": [
      "86\n"
     ]
    }
   ],
   "source": [
    "pso = ps.PSO(termination_args={'max_iter': 400}, verbose=True)\n",
    "pso = pso.decode_vec(psoParams)\n",
    "print('Sanity check swarm size: ',pso.swarm_size)"
   ]
  },
  {
   "cell_type": "markdown",
   "metadata": {},
   "source": [
    "### Run experiment with the PSO hyperparameters calculated by meta-PSO \n",
    "#### This will find the 10 most fit ANN parameters, produce a mean accuracy*, Fitness, and loss for both test and train.\n",
    "\n",
    "*This accuracy is calculated with an absolute tolerance of 0.03 for all tests"
   ]
  },
  {
   "cell_type": "code",
   "execution_count": 8,
   "metadata": {},
   "outputs": [
    {
     "data": {
      "application/vnd.jupyter.widget-view+json": {
       "model_id": "dacb4fc4ed754cad8e8ccdb36cd63849",
       "version_major": 2,
       "version_minor": 0
      },
      "text/plain": [
       "HBox(children=(HTML(value='Fitness: -9999.0'), FloatProgress(value=0.0), HTML(value='')))"
      ]
     },
     "metadata": {},
     "output_type": "display_data"
    },
    {
     "name": "stdout",
     "output_type": "stream",
     "text": [
      "\n"
     ]
    },
    {
     "data": {
      "application/vnd.jupyter.widget-view+json": {
       "model_id": "aeba2eda00bc44c388b79ba3684a7621",
       "version_major": 2,
       "version_minor": 0
      },
      "text/plain": [
       "HBox(children=(HTML(value='Fitness: -9999.0'), FloatProgress(value=0.0), HTML(value='')))"
      ]
     },
     "metadata": {},
     "output_type": "display_data"
    },
    {
     "name": "stdout",
     "output_type": "stream",
     "text": [
      "\n"
     ]
    },
    {
     "data": {
      "application/vnd.jupyter.widget-view+json": {
       "model_id": "e59a598131e14ee2b2855ec85b9f9370",
       "version_major": 2,
       "version_minor": 0
      },
      "text/plain": [
       "HBox(children=(HTML(value='Fitness: -9999.0'), FloatProgress(value=0.0), HTML(value='')))"
      ]
     },
     "metadata": {},
     "output_type": "display_data"
    },
    {
     "name": "stdout",
     "output_type": "stream",
     "text": [
      "\n"
     ]
    },
    {
     "data": {
      "application/vnd.jupyter.widget-view+json": {
       "model_id": "ad3d5b48dcc2418d80f15a47c15e8253",
       "version_major": 2,
       "version_minor": 0
      },
      "text/plain": [
       "HBox(children=(HTML(value='Fitness: -9999.0'), FloatProgress(value=0.0), HTML(value='')))"
      ]
     },
     "metadata": {},
     "output_type": "display_data"
    },
    {
     "name": "stderr",
     "output_type": "stream",
     "text": [
      "D:\\GitProjects\\Bio-comp\\Coursework\\PSO\\pswarm.py:178: RuntimeWarning: underflow encountered in double_scalars\n",
      "  velocity[i] = self.alpha * velocity[i] + b*(prev_fittest_loc.location[i] - particle.position[i]) + c*(prev_fittest_loc_informants.location[i] - particle.position[i]) + d*(self.best.location[i] - particle.position[i])\n",
      "D:\\GitProjects\\Bio-comp\\Coursework\\PSO\\pswarm.py:186: RuntimeWarning: underflow encountered in multiply\n",
      "  temp_position = particle.position + (self.epsilon*particle.velocity)\n",
      "D:\\GitProjects\\Bio-comp\\Coursework\\PSO\\pswarm.py:178: RuntimeWarning: underflow encountered in double_scalars\n",
      "  velocity[i] = self.alpha * velocity[i] + b*(prev_fittest_loc.location[i] - particle.position[i]) + c*(prev_fittest_loc_informants.location[i] - particle.position[i]) + d*(self.best.location[i] - particle.position[i])\n",
      "D:\\GitProjects\\Bio-comp\\Coursework\\PSO\\pswarm.py:186: RuntimeWarning: underflow encountered in multiply\n",
      "  temp_position = particle.position + (self.epsilon*particle.velocity)\n",
      "D:\\GitProjects\\Bio-comp\\Coursework\\PSO\\pswarm.py:178: RuntimeWarning: underflow encountered in double_scalars\n",
      "  velocity[i] = self.alpha * velocity[i] + b*(prev_fittest_loc.location[i] - particle.position[i]) + c*(prev_fittest_loc_informants.location[i] - particle.position[i]) + d*(self.best.location[i] - particle.position[i])\n",
      "D:\\GitProjects\\Bio-comp\\Coursework\\PSO\\pswarm.py:186: RuntimeWarning: underflow encountered in multiply\n",
      "  temp_position = particle.position + (self.epsilon*particle.velocity)\n",
      "D:\\GitProjects\\Bio-comp\\Coursework\\PSO\\pswarm.py:178: RuntimeWarning: underflow encountered in double_scalars\n",
      "  velocity[i] = self.alpha * velocity[i] + b*(prev_fittest_loc.location[i] - particle.position[i]) + c*(prev_fittest_loc_informants.location[i] - particle.position[i]) + d*(self.best.location[i] - particle.position[i])\n",
      "D:\\GitProjects\\Bio-comp\\Coursework\\PSO\\pswarm.py:186: RuntimeWarning: underflow encountered in multiply\n",
      "  temp_position = particle.position + (self.epsilon*particle.velocity)\n",
      "D:\\GitProjects\\Bio-comp\\Coursework\\PSO\\pswarm.py:178: RuntimeWarning: underflow encountered in double_scalars\n",
      "  velocity[i] = self.alpha * velocity[i] + b*(prev_fittest_loc.location[i] - particle.position[i]) + c*(prev_fittest_loc_informants.location[i] - particle.position[i]) + d*(self.best.location[i] - particle.position[i])\n",
      "D:\\GitProjects\\Bio-comp\\Coursework\\PSO\\pswarm.py:186: RuntimeWarning: underflow encountered in multiply\n",
      "  temp_position = particle.position + (self.epsilon*particle.velocity)\n",
      "D:\\GitProjects\\Bio-comp\\Coursework\\PSO\\pswarm.py:178: RuntimeWarning: underflow encountered in double_scalars\n",
      "  velocity[i] = self.alpha * velocity[i] + b*(prev_fittest_loc.location[i] - particle.position[i]) + c*(prev_fittest_loc_informants.location[i] - particle.position[i]) + d*(self.best.location[i] - particle.position[i])\n",
      "D:\\GitProjects\\Bio-comp\\Coursework\\PSO\\pswarm.py:186: RuntimeWarning: underflow encountered in multiply\n",
      "  temp_position = particle.position + (self.epsilon*particle.velocity)\n",
      "D:\\GitProjects\\Bio-comp\\Coursework\\PSO\\pswarm.py:178: RuntimeWarning: underflow encountered in double_scalars\n",
      "  velocity[i] = self.alpha * velocity[i] + b*(prev_fittest_loc.location[i] - particle.position[i]) + c*(prev_fittest_loc_informants.location[i] - particle.position[i]) + d*(self.best.location[i] - particle.position[i])\n",
      "D:\\GitProjects\\Bio-comp\\Coursework\\PSO\\pswarm.py:186: RuntimeWarning: underflow encountered in multiply\n",
      "  temp_position = particle.position + (self.epsilon*particle.velocity)\n",
      "D:\\GitProjects\\Bio-comp\\Coursework\\PSO\\pswarm.py:178: RuntimeWarning: underflow encountered in double_scalars\n",
      "  velocity[i] = self.alpha * velocity[i] + b*(prev_fittest_loc.location[i] - particle.position[i]) + c*(prev_fittest_loc_informants.location[i] - particle.position[i]) + d*(self.best.location[i] - particle.position[i])\n",
      "D:\\GitProjects\\Bio-comp\\Coursework\\PSO\\pswarm.py:186: RuntimeWarning: underflow encountered in multiply\n",
      "  temp_position = particle.position + (self.epsilon*particle.velocity)\n",
      "D:\\GitProjects\\Bio-comp\\Coursework\\PSO\\pswarm.py:178: RuntimeWarning: underflow encountered in double_scalars\n",
      "  velocity[i] = self.alpha * velocity[i] + b*(prev_fittest_loc.location[i] - particle.position[i]) + c*(prev_fittest_loc_informants.location[i] - particle.position[i]) + d*(self.best.location[i] - particle.position[i])\n",
      "D:\\GitProjects\\Bio-comp\\Coursework\\PSO\\pswarm.py:186: RuntimeWarning: underflow encountered in multiply\n",
      "  temp_position = particle.position + (self.epsilon*particle.velocity)\n",
      "D:\\GitProjects\\Bio-comp\\Coursework\\PSO\\pswarm.py:178: RuntimeWarning: underflow encountered in double_scalars\n",
      "  velocity[i] = self.alpha * velocity[i] + b*(prev_fittest_loc.location[i] - particle.position[i]) + c*(prev_fittest_loc_informants.location[i] - particle.position[i]) + d*(self.best.location[i] - particle.position[i])\n",
      "D:\\GitProjects\\Bio-comp\\Coursework\\PSO\\pswarm.py:186: RuntimeWarning: underflow encountered in multiply\n",
      "  temp_position = particle.position + (self.epsilon*particle.velocity)\n",
      "D:\\GitProjects\\Bio-comp\\Coursework\\PSO\\pswarm.py:178: RuntimeWarning: underflow encountered in double_scalars\n",
      "  velocity[i] = self.alpha * velocity[i] + b*(prev_fittest_loc.location[i] - particle.position[i]) + c*(prev_fittest_loc_informants.location[i] - particle.position[i]) + d*(self.best.location[i] - particle.position[i])\n",
      "D:\\GitProjects\\Bio-comp\\Coursework\\PSO\\pswarm.py:186: RuntimeWarning: underflow encountered in multiply\n",
      "  temp_position = particle.position + (self.epsilon*particle.velocity)\n",
      "D:\\GitProjects\\Bio-comp\\Coursework\\PSO\\pswarm.py:178: RuntimeWarning: underflow encountered in double_scalars\n",
      "  velocity[i] = self.alpha * velocity[i] + b*(prev_fittest_loc.location[i] - particle.position[i]) + c*(prev_fittest_loc_informants.location[i] - particle.position[i]) + d*(self.best.location[i] - particle.position[i])\n",
      "D:\\GitProjects\\Bio-comp\\Coursework\\PSO\\pswarm.py:186: RuntimeWarning: underflow encountered in multiply\n",
      "  temp_position = particle.position + (self.epsilon*particle.velocity)\n",
      "D:\\GitProjects\\Bio-comp\\Coursework\\PSO\\pswarm.py:178: RuntimeWarning: underflow encountered in double_scalars\n",
      "  velocity[i] = self.alpha * velocity[i] + b*(prev_fittest_loc.location[i] - particle.position[i]) + c*(prev_fittest_loc_informants.location[i] - particle.position[i]) + d*(self.best.location[i] - particle.position[i])\n",
      "D:\\GitProjects\\Bio-comp\\Coursework\\PSO\\pswarm.py:186: RuntimeWarning: underflow encountered in multiply\n",
      "  temp_position = particle.position + (self.epsilon*particle.velocity)\n",
      "D:\\GitProjects\\Bio-comp\\Coursework\\PSO\\pswarm.py:178: RuntimeWarning: underflow encountered in double_scalars\n",
      "  velocity[i] = self.alpha * velocity[i] + b*(prev_fittest_loc.location[i] - particle.position[i]) + c*(prev_fittest_loc_informants.location[i] - particle.position[i]) + d*(self.best.location[i] - particle.position[i])\n",
      "D:\\GitProjects\\Bio-comp\\Coursework\\PSO\\pswarm.py:186: RuntimeWarning: underflow encountered in multiply\n",
      "  temp_position = particle.position + (self.epsilon*particle.velocity)\n",
      "D:\\GitProjects\\Bio-comp\\Coursework\\PSO\\pswarm.py:178: RuntimeWarning: underflow encountered in double_scalars\n",
      "  velocity[i] = self.alpha * velocity[i] + b*(prev_fittest_loc.location[i] - particle.position[i]) + c*(prev_fittest_loc_informants.location[i] - particle.position[i]) + d*(self.best.location[i] - particle.position[i])\n",
      "D:\\GitProjects\\Bio-comp\\Coursework\\PSO\\pswarm.py:186: RuntimeWarning: underflow encountered in multiply\n",
      "  temp_position = particle.position + (self.epsilon*particle.velocity)\n",
      "D:\\GitProjects\\Bio-comp\\Coursework\\PSO\\pswarm.py:178: RuntimeWarning: underflow encountered in double_scalars\n",
      "  velocity[i] = self.alpha * velocity[i] + b*(prev_fittest_loc.location[i] - particle.position[i]) + c*(prev_fittest_loc_informants.location[i] - particle.position[i]) + d*(self.best.location[i] - particle.position[i])\n",
      "D:\\GitProjects\\Bio-comp\\Coursework\\PSO\\pswarm.py:186: RuntimeWarning: underflow encountered in multiply\n",
      "  temp_position = particle.position + (self.epsilon*particle.velocity)\n",
      "D:\\GitProjects\\Bio-comp\\Coursework\\PSO\\pswarm.py:178: RuntimeWarning: underflow encountered in double_scalars\n",
      "  velocity[i] = self.alpha * velocity[i] + b*(prev_fittest_loc.location[i] - particle.position[i]) + c*(prev_fittest_loc_informants.location[i] - particle.position[i]) + d*(self.best.location[i] - particle.position[i])\n",
      "D:\\GitProjects\\Bio-comp\\Coursework\\PSO\\pswarm.py:186: RuntimeWarning: underflow encountered in multiply\n",
      "  temp_position = particle.position + (self.epsilon*particle.velocity)\n"
     ]
    },
    {
     "name": "stdout",
     "output_type": "stream",
     "text": [
      "\n"
     ]
    },
    {
     "name": "stderr",
     "output_type": "stream",
     "text": [
      "D:\\GitProjects\\Bio-comp\\Coursework\\PSO\\pswarm.py:178: RuntimeWarning: underflow encountered in double_scalars\n",
      "  velocity[i] = self.alpha * velocity[i] + b*(prev_fittest_loc.location[i] - particle.position[i]) + c*(prev_fittest_loc_informants.location[i] - particle.position[i]) + d*(self.best.location[i] - particle.position[i])\n",
      "D:\\GitProjects\\Bio-comp\\Coursework\\PSO\\pswarm.py:186: RuntimeWarning: underflow encountered in multiply\n",
      "  temp_position = particle.position + (self.epsilon*particle.velocity)\n",
      "D:\\GitProjects\\Bio-comp\\Coursework\\PSO\\pswarm.py:178: RuntimeWarning: underflow encountered in double_scalars\n",
      "  velocity[i] = self.alpha * velocity[i] + b*(prev_fittest_loc.location[i] - particle.position[i]) + c*(prev_fittest_loc_informants.location[i] - particle.position[i]) + d*(self.best.location[i] - particle.position[i])\n",
      "D:\\GitProjects\\Bio-comp\\Coursework\\PSO\\pswarm.py:186: RuntimeWarning: underflow encountered in multiply\n",
      "  temp_position = particle.position + (self.epsilon*particle.velocity)\n",
      "D:\\GitProjects\\Bio-comp\\Coursework\\PSO\\pswarm.py:178: RuntimeWarning: underflow encountered in double_scalars\n",
      "  velocity[i] = self.alpha * velocity[i] + b*(prev_fittest_loc.location[i] - particle.position[i]) + c*(prev_fittest_loc_informants.location[i] - particle.position[i]) + d*(self.best.location[i] - particle.position[i])\n",
      "D:\\GitProjects\\Bio-comp\\Coursework\\PSO\\pswarm.py:186: RuntimeWarning: underflow encountered in multiply\n",
      "  temp_position = particle.position + (self.epsilon*particle.velocity)\n",
      "D:\\GitProjects\\Bio-comp\\Coursework\\PSO\\pswarm.py:178: RuntimeWarning: underflow encountered in double_scalars\n",
      "  velocity[i] = self.alpha * velocity[i] + b*(prev_fittest_loc.location[i] - particle.position[i]) + c*(prev_fittest_loc_informants.location[i] - particle.position[i]) + d*(self.best.location[i] - particle.position[i])\n",
      "D:\\GitProjects\\Bio-comp\\Coursework\\PSO\\pswarm.py:186: RuntimeWarning: underflow encountered in multiply\n",
      "  temp_position = particle.position + (self.epsilon*particle.velocity)\n",
      "D:\\GitProjects\\Bio-comp\\Coursework\\PSO\\pswarm.py:178: RuntimeWarning: underflow encountered in double_scalars\n",
      "  velocity[i] = self.alpha * velocity[i] + b*(prev_fittest_loc.location[i] - particle.position[i]) + c*(prev_fittest_loc_informants.location[i] - particle.position[i]) + d*(self.best.location[i] - particle.position[i])\n",
      "D:\\GitProjects\\Bio-comp\\Coursework\\PSO\\pswarm.py:186: RuntimeWarning: underflow encountered in multiply\n",
      "  temp_position = particle.position + (self.epsilon*particle.velocity)\n",
      "D:\\GitProjects\\Bio-comp\\Coursework\\PSO\\pswarm.py:178: RuntimeWarning: underflow encountered in double_scalars\n",
      "  velocity[i] = self.alpha * velocity[i] + b*(prev_fittest_loc.location[i] - particle.position[i]) + c*(prev_fittest_loc_informants.location[i] - particle.position[i]) + d*(self.best.location[i] - particle.position[i])\n",
      "D:\\GitProjects\\Bio-comp\\Coursework\\PSO\\pswarm.py:186: RuntimeWarning: underflow encountered in multiply\n",
      "  temp_position = particle.position + (self.epsilon*particle.velocity)\n",
      "D:\\GitProjects\\Bio-comp\\Coursework\\PSO\\pswarm.py:178: RuntimeWarning: underflow encountered in double_scalars\n",
      "  velocity[i] = self.alpha * velocity[i] + b*(prev_fittest_loc.location[i] - particle.position[i]) + c*(prev_fittest_loc_informants.location[i] - particle.position[i]) + d*(self.best.location[i] - particle.position[i])\n",
      "D:\\GitProjects\\Bio-comp\\Coursework\\PSO\\pswarm.py:186: RuntimeWarning: underflow encountered in multiply\n",
      "  temp_position = particle.position + (self.epsilon*particle.velocity)\n",
      "D:\\GitProjects\\Bio-comp\\Coursework\\PSO\\pswarm.py:178: RuntimeWarning: underflow encountered in double_scalars\n",
      "  velocity[i] = self.alpha * velocity[i] + b*(prev_fittest_loc.location[i] - particle.position[i]) + c*(prev_fittest_loc_informants.location[i] - particle.position[i]) + d*(self.best.location[i] - particle.position[i])\n",
      "D:\\GitProjects\\Bio-comp\\Coursework\\PSO\\pswarm.py:186: RuntimeWarning: underflow encountered in multiply\n",
      "  temp_position = particle.position + (self.epsilon*particle.velocity)\n",
      "D:\\GitProjects\\Bio-comp\\Coursework\\PSO\\pswarm.py:178: RuntimeWarning: underflow encountered in double_scalars\n",
      "  velocity[i] = self.alpha * velocity[i] + b*(prev_fittest_loc.location[i] - particle.position[i]) + c*(prev_fittest_loc_informants.location[i] - particle.position[i]) + d*(self.best.location[i] - particle.position[i])\n",
      "D:\\GitProjects\\Bio-comp\\Coursework\\PSO\\pswarm.py:186: RuntimeWarning: underflow encountered in multiply\n",
      "  temp_position = particle.position + (self.epsilon*particle.velocity)\n",
      "D:\\GitProjects\\Bio-comp\\Coursework\\PSO\\pswarm.py:178: RuntimeWarning: underflow encountered in double_scalars\n",
      "  velocity[i] = self.alpha * velocity[i] + b*(prev_fittest_loc.location[i] - particle.position[i]) + c*(prev_fittest_loc_informants.location[i] - particle.position[i]) + d*(self.best.location[i] - particle.position[i])\n",
      "D:\\GitProjects\\Bio-comp\\Coursework\\PSO\\pswarm.py:186: RuntimeWarning: underflow encountered in multiply\n",
      "  temp_position = particle.position + (self.epsilon*particle.velocity)\n",
      "D:\\GitProjects\\Bio-comp\\Coursework\\PSO\\pswarm.py:178: RuntimeWarning: underflow encountered in double_scalars\n",
      "  velocity[i] = self.alpha * velocity[i] + b*(prev_fittest_loc.location[i] - particle.position[i]) + c*(prev_fittest_loc_informants.location[i] - particle.position[i]) + d*(self.best.location[i] - particle.position[i])\n",
      "D:\\GitProjects\\Bio-comp\\Coursework\\PSO\\pswarm.py:186: RuntimeWarning: underflow encountered in multiply\n",
      "  temp_position = particle.position + (self.epsilon*particle.velocity)\n",
      "D:\\GitProjects\\Bio-comp\\Coursework\\PSO\\pswarm.py:178: RuntimeWarning: underflow encountered in double_scalars\n",
      "  velocity[i] = self.alpha * velocity[i] + b*(prev_fittest_loc.location[i] - particle.position[i]) + c*(prev_fittest_loc_informants.location[i] - particle.position[i]) + d*(self.best.location[i] - particle.position[i])\n",
      "D:\\GitProjects\\Bio-comp\\Coursework\\PSO\\pswarm.py:186: RuntimeWarning: underflow encountered in multiply\n",
      "  temp_position = particle.position + (self.epsilon*particle.velocity)\n",
      "D:\\GitProjects\\Bio-comp\\Coursework\\PSO\\pswarm.py:178: RuntimeWarning: underflow encountered in double_scalars\n",
      "  velocity[i] = self.alpha * velocity[i] + b*(prev_fittest_loc.location[i] - particle.position[i]) + c*(prev_fittest_loc_informants.location[i] - particle.position[i]) + d*(self.best.location[i] - particle.position[i])\n",
      "D:\\GitProjects\\Bio-comp\\Coursework\\PSO\\pswarm.py:186: RuntimeWarning: underflow encountered in multiply\n",
      "  temp_position = particle.position + (self.epsilon*particle.velocity)\n"
     ]
    },
    {
     "data": {
      "application/vnd.jupyter.widget-view+json": {
       "model_id": "66a4552576954f869f7c33572074d1bc",
       "version_major": 2,
       "version_minor": 0
      },
      "text/plain": [
       "HBox(children=(HTML(value='Fitness: -9999.0'), FloatProgress(value=0.0), HTML(value='')))"
      ]
     },
     "metadata": {},
     "output_type": "display_data"
    },
    {
     "name": "stdout",
     "output_type": "stream",
     "text": [
      "\n"
     ]
    },
    {
     "name": "stderr",
     "output_type": "stream",
     "text": [
      "D:\\GitProjects\\Bio-comp\\Coursework\\PSO\\pswarm.py:178: RuntimeWarning: underflow encountered in double_scalars\n",
      "  velocity[i] = self.alpha * velocity[i] + b*(prev_fittest_loc.location[i] - particle.position[i]) + c*(prev_fittest_loc_informants.location[i] - particle.position[i]) + d*(self.best.location[i] - particle.position[i])\n",
      "D:\\GitProjects\\Bio-comp\\Coursework\\PSO\\pswarm.py:186: RuntimeWarning: underflow encountered in multiply\n",
      "  temp_position = particle.position + (self.epsilon*particle.velocity)\n",
      "D:\\GitProjects\\Bio-comp\\Coursework\\PSO\\pswarm.py:178: RuntimeWarning: underflow encountered in double_scalars\n",
      "  velocity[i] = self.alpha * velocity[i] + b*(prev_fittest_loc.location[i] - particle.position[i]) + c*(prev_fittest_loc_informants.location[i] - particle.position[i]) + d*(self.best.location[i] - particle.position[i])\n",
      "D:\\GitProjects\\Bio-comp\\Coursework\\PSO\\pswarm.py:186: RuntimeWarning: underflow encountered in multiply\n",
      "  temp_position = particle.position + (self.epsilon*particle.velocity)\n",
      "D:\\GitProjects\\Bio-comp\\Coursework\\PSO\\pswarm.py:178: RuntimeWarning: underflow encountered in double_scalars\n",
      "  velocity[i] = self.alpha * velocity[i] + b*(prev_fittest_loc.location[i] - particle.position[i]) + c*(prev_fittest_loc_informants.location[i] - particle.position[i]) + d*(self.best.location[i] - particle.position[i])\n",
      "D:\\GitProjects\\Bio-comp\\Coursework\\PSO\\pswarm.py:186: RuntimeWarning: underflow encountered in multiply\n",
      "  temp_position = particle.position + (self.epsilon*particle.velocity)\n",
      "D:\\GitProjects\\Bio-comp\\Coursework\\PSO\\pswarm.py:178: RuntimeWarning: underflow encountered in double_scalars\n",
      "  velocity[i] = self.alpha * velocity[i] + b*(prev_fittest_loc.location[i] - particle.position[i]) + c*(prev_fittest_loc_informants.location[i] - particle.position[i]) + d*(self.best.location[i] - particle.position[i])\n",
      "D:\\GitProjects\\Bio-comp\\Coursework\\PSO\\pswarm.py:186: RuntimeWarning: underflow encountered in multiply\n",
      "  temp_position = particle.position + (self.epsilon*particle.velocity)\n",
      "D:\\GitProjects\\Bio-comp\\Coursework\\PSO\\pswarm.py:178: RuntimeWarning: underflow encountered in double_scalars\n",
      "  velocity[i] = self.alpha * velocity[i] + b*(prev_fittest_loc.location[i] - particle.position[i]) + c*(prev_fittest_loc_informants.location[i] - particle.position[i]) + d*(self.best.location[i] - particle.position[i])\n",
      "D:\\GitProjects\\Bio-comp\\Coursework\\PSO\\pswarm.py:186: RuntimeWarning: underflow encountered in multiply\n",
      "  temp_position = particle.position + (self.epsilon*particle.velocity)\n",
      "D:\\GitProjects\\Bio-comp\\Coursework\\PSO\\pswarm.py:178: RuntimeWarning: underflow encountered in double_scalars\n",
      "  velocity[i] = self.alpha * velocity[i] + b*(prev_fittest_loc.location[i] - particle.position[i]) + c*(prev_fittest_loc_informants.location[i] - particle.position[i]) + d*(self.best.location[i] - particle.position[i])\n",
      "D:\\GitProjects\\Bio-comp\\Coursework\\PSO\\pswarm.py:186: RuntimeWarning: underflow encountered in multiply\n",
      "  temp_position = particle.position + (self.epsilon*particle.velocity)\n",
      "D:\\GitProjects\\Bio-comp\\Coursework\\PSO\\pswarm.py:178: RuntimeWarning: underflow encountered in double_scalars\n",
      "  velocity[i] = self.alpha * velocity[i] + b*(prev_fittest_loc.location[i] - particle.position[i]) + c*(prev_fittest_loc_informants.location[i] - particle.position[i]) + d*(self.best.location[i] - particle.position[i])\n",
      "D:\\GitProjects\\Bio-comp\\Coursework\\PSO\\pswarm.py:186: RuntimeWarning: underflow encountered in multiply\n",
      "  temp_position = particle.position + (self.epsilon*particle.velocity)\n"
     ]
    },
    {
     "data": {
      "application/vnd.jupyter.widget-view+json": {
       "model_id": "0ea0cf6f881f4db8a5f5b36f19c4bf59",
       "version_major": 2,
       "version_minor": 0
      },
      "text/plain": [
       "HBox(children=(HTML(value='Fitness: -9999.0'), FloatProgress(value=0.0), HTML(value='')))"
      ]
     },
     "metadata": {},
     "output_type": "display_data"
    },
    {
     "name": "stdout",
     "output_type": "stream",
     "text": [
      "\n"
     ]
    },
    {
     "data": {
      "application/vnd.jupyter.widget-view+json": {
       "model_id": "f2611856acdf49879b4dcc5f3ad63846",
       "version_major": 2,
       "version_minor": 0
      },
      "text/plain": [
       "HBox(children=(HTML(value='Fitness: -9999.0'), FloatProgress(value=0.0), HTML(value='')))"
      ]
     },
     "metadata": {},
     "output_type": "display_data"
    },
    {
     "name": "stdout",
     "output_type": "stream",
     "text": [
      "\n"
     ]
    },
    {
     "data": {
      "application/vnd.jupyter.widget-view+json": {
       "model_id": "5c30e955ab9d4a6a9e89ea2a7b639052",
       "version_major": 2,
       "version_minor": 0
      },
      "text/plain": [
       "HBox(children=(HTML(value='Fitness: -9999.0'), FloatProgress(value=0.0), HTML(value='')))"
      ]
     },
     "metadata": {},
     "output_type": "display_data"
    },
    {
     "name": "stdout",
     "output_type": "stream",
     "text": [
      "\n"
     ]
    },
    {
     "data": {
      "application/vnd.jupyter.widget-view+json": {
       "model_id": "5c658f5c1f0940a187201148bd94d596",
       "version_major": 2,
       "version_minor": 0
      },
      "text/plain": [
       "HBox(children=(HTML(value='Fitness: -9999.0'), FloatProgress(value=0.0), HTML(value='')))"
      ]
     },
     "metadata": {},
     "output_type": "display_data"
    },
    {
     "name": "stdout",
     "output_type": "stream",
     "text": [
      "\n"
     ]
    },
    {
     "data": {
      "application/vnd.jupyter.widget-view+json": {
       "model_id": "2cc1881667d5431181f22003fb5501ac",
       "version_major": 2,
       "version_minor": 0
      },
      "text/plain": [
       "HBox(children=(HTML(value='Fitness: -9999.0'), FloatProgress(value=0.0), HTML(value='')))"
      ]
     },
     "metadata": {},
     "output_type": "display_data"
    },
    {
     "name": "stdout",
     "output_type": "stream",
     "text": [
      "\n",
      "Testing on train - A:  0.8238805970149254  B:  0.8238805970149254  Fitness:  26.629  Loss:  0.138\n",
      "Testing on test - A:  0.9030303030303031  B:  0.9030303030303031  Fitness:  33.632  Loss:  0.108\n"
     ]
    }
   ],
   "source": [
    "pso.set_search_dimensions(model.dimension_vec())\n",
    "pso.set_fitness_fn(model_history.evaluate_fitness)\n",
    "\n",
    "train ={\n",
    "    'scoreA' : [],\n",
    "    'scoreB' : [],\n",
    "    'fitnessList': [],\n",
    "    'lossList': []\n",
    "}\n",
    "\n",
    "test = {\n",
    "    'scoreA' : [],\n",
    "    'scoreB' : [],\n",
    "    'fitnessList': [],\n",
    "    'lossList': []\n",
    "}\n",
    "\n",
    "for i in range(10):\n",
    "    fitness = pso.run()\n",
    "    # Evaluating on training set\n",
    "    model.set_training_input(X_train, y_train)\n",
    "    train['fitnessList'].append(model.evaluate_fitness(fitness.location))\n",
    "    score = data.score(model, decimals, atol=0.03)\n",
    "    train['scoreA'].append(score[0])\n",
    "    train['scoreB'].append(score[1])\n",
    "    train['lossList'].append(model.loss)\n",
    "    # Evaluating on testing set\n",
    "    model.set_training_input(X_test, y_test)\n",
    "    test['fitnessList'].append(model.evaluate_fitness(fitness.location))\n",
    "    score = data.score(model, decimals, atol=0.03)\n",
    "    test['scoreA'].append(score[0])\n",
    "    test['scoreB'].append(score[1])\n",
    "    test['lossList'].append(model.loss)\n",
    "\n",
    "print(\"Testing on train - A: \", np.mean(train['scoreA']), \" B: \", np.mean(train['scoreB']), \" Fitness: \", round(np.mean(train['fitnessList']), 3), \" Loss: \", round(np.mean(train['lossList']), 3))\n",
    "print(\"Testing on test - A: \", np.mean(test['scoreA']), \" B: \", np.mean(test['scoreB']), \" Fitness: \", round(np.mean(test['fitnessList']), 3), \" Loss: \", round(np.mean(test['lossList']), 3))"
   ]
  },
  {
   "cell_type": "code",
   "execution_count": 9,
   "metadata": {},
   "outputs": [],
   "source": [
    "#index = np.argmax(model_history.vec_history)\n",
    "#best_ANN_params_new = model_history.vec_history[index]\n",
    "#print(best_ANN_params_new)"
   ]
  },
  {
   "cell_type": "code",
   "execution_count": 10,
   "metadata": {},
   "outputs": [
    {
     "name": "stdout",
     "output_type": "stream",
     "text": [
      "9.632256082524727\n"
     ]
    }
   ],
   "source": [
    "#pso.set_search_dimensions(model.dimension_vec())\n",
    "#pso.set_fitness_fn(model_history.evaluate_fitness)\n",
    "#fitness = pso.run()\n",
    "#print(fitness.location)\n",
    "print(fitness.fitness)"
   ]
  },
  {
   "cell_type": "code",
   "execution_count": 11,
   "metadata": {},
   "outputs": [
    {
     "name": "stdout",
     "output_type": "stream",
     "text": [
      "activation:  ActivationFunction.COSINE\n",
      "bias:  [0.3555248]\n",
      "weights:  [[ 0.2168153 ]\n",
      " [ 0.99993917]\n",
      " [ 0.27950312]\n",
      " [-0.77813737]]\n"
     ]
    }
   ],
   "source": [
    "print('activation: ', model.layers[-1].activation)\n",
    "print('bias: ', model.layers[-1].bias)\n",
    "print('weights: ', model.layers[-1].weights)"
   ]
  },
  {
   "cell_type": "code",
   "execution_count": 12,
   "metadata": {},
   "outputs": [
    {
     "name": "stdout",
     "output_type": "stream",
     "text": [
      "Testing on train - A:  0.0  B:  0.0  Fitness:  2.233  Loss:  0.448\n",
      "Testing on test - A:  0.0  B:  0.0  Fitness:  2.053  Loss:  0.487\n"
     ]
    }
   ],
   "source": [
    "model.decode_vec(annParams)\n",
    "model.one_pass()\n",
    "\n",
    "train ={\n",
    "    'scoreA' : [],\n",
    "    'scoreB' : [],\n",
    "    'fitnessList': [],\n",
    "    'lossList': []\n",
    "}\n",
    "\n",
    "test = {\n",
    "    'scoreA' : [],\n",
    "    'scoreB' : [],\n",
    "    'fitnessList': [],\n",
    "    'lossList': []\n",
    "}\n",
    "\n",
    "# Evaluating on training set\n",
    "model.set_training_input(X_train, y_train)\n",
    "train['fitnessList'].append(model.evaluate_fitness(annParams))\n",
    "score = data.score(model, decimals, atol=0.03)\n",
    "train['scoreA'].append(score[0])\n",
    "train['scoreB'].append(score[1])\n",
    "train['lossList'].append(model.loss)\n",
    "# Evaluating on testing set\n",
    "model.set_training_input(X_test, y_test)\n",
    "test['fitnessList'].append(model.evaluate_fitness(annParams))\n",
    "score = data.score(model, decimals, atol=0.03)\n",
    "test['scoreA'].append(score[0])\n",
    "test['scoreB'].append(score[1])\n",
    "test['lossList'].append(model.loss)\n",
    "\n",
    "print(\"Testing on train - A: \", np.mean(train['scoreA']), \" B: \", np.mean(train['scoreB']), \" Fitness: \", round(np.mean(train['fitnessList']), 3), \" Loss: \", round(np.mean(train['lossList']), 3))\n",
    "print(\"Testing on test - A: \", np.mean(test['scoreA']), \" B: \", np.mean(test['scoreB']), \" Fitness: \", round(np.mean(test['fitnessList']), 3), \" Loss: \", round(np.mean(test['lossList']), 3))\n"
   ]
  },
  {
   "cell_type": "code",
   "execution_count": null,
   "metadata": {},
   "outputs": [],
   "source": [
    "print(model.y, model.y_hat)"
   ]
  },
  {
   "cell_type": "code",
   "execution_count": null,
   "metadata": {
    "scrolled": true
   },
   "outputs": [],
   "source": [
    "1/model.loss"
   ]
  },
  {
   "cell_type": "code",
   "execution_count": null,
   "metadata": {},
   "outputs": [],
   "source": [
    "model.evaluate_fitness(annParams)"
   ]
  },
  {
   "cell_type": "code",
   "execution_count": null,
   "metadata": {},
   "outputs": [],
   "source": []
  }
 ],
 "metadata": {
  "kernelspec": {
   "display_name": "Python 3",
   "language": "python",
   "name": "python3"
  },
  "language_info": {
   "codemirror_mode": {
    "name": "ipython",
    "version": 3
   },
   "file_extension": ".py",
   "mimetype": "text/x-python",
   "name": "python",
   "nbconvert_exporter": "python",
   "pygments_lexer": "ipython3",
   "version": "3.8.5"
  }
 },
 "nbformat": 4,
 "nbformat_minor": 2
}
